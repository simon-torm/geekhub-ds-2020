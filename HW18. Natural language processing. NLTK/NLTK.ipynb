{
  "nbformat": 4,
  "nbformat_minor": 0,
  "metadata": {
    "colab": {
      "name": "NLTK.ipynb",
      "provenance": [],
      "collapsed_sections": []
    },
    "kernelspec": {
      "name": "python3",
      "display_name": "Python 3"
    },
    "language_info": {
      "name": "python"
    }
  },
  "cells": [
    {
      "cell_type": "code",
      "metadata": {
        "id": "whWxSPZVa4DU"
      },
      "source": [
        "import nltk\n",
        "from nltk import wordnet\n",
        "from sklearn.feature_extraction.text import  TfidfVectorizer\n",
        "import pandas as pd"
      ],
      "execution_count": 98,
      "outputs": []
    },
    {
      "cell_type": "code",
      "metadata": {
        "colab": {
          "base_uri": "https://localhost:8080/"
        },
        "id": "HCxyhOTAiXCA",
        "outputId": "3f6e21dd-b3bd-48aa-8201-bb52031952f2"
      },
      "source": [
        "nltk.download('punkt')\n",
        "nltk.download('wordnet')\n",
        "nltk.download('stopwords')"
      ],
      "execution_count": 74,
      "outputs": [
        {
          "output_type": "stream",
          "text": [
            "[nltk_data] Downloading package punkt to /root/nltk_data...\n",
            "[nltk_data]   Package punkt is already up-to-date!\n",
            "[nltk_data] Downloading package wordnet to /root/nltk_data...\n",
            "[nltk_data]   Package wordnet is already up-to-date!\n",
            "[nltk_data] Downloading package stopwords to /root/nltk_data...\n",
            "[nltk_data]   Unzipping corpora/stopwords.zip.\n"
          ],
          "name": "stdout"
        },
        {
          "output_type": "execute_result",
          "data": {
            "text/plain": [
              "True"
            ]
          },
          "metadata": {
            "tags": []
          },
          "execution_count": 74
        }
      ]
    },
    {
      "cell_type": "code",
      "metadata": {
        "id": "jaV8UTf_bpaf"
      },
      "source": [
        "text = \"The Parker Solar Probe concept originates in the 1958 report by the \\\n",
        "Fields and Particles Group (Committee 8 of the National Academy of Sciences' \\\n",
        "Space Science Board [19][20]) which proposed several space missions including \\\n",
        "a solar probe to pass inside the orbit of Mercury to study the particles and \\\n",
        "fields in the vicinity of the Sun.[21][22] Studies in the 1970s and 1980s \\\n",
        "reaffirmed its importance,[21] but it was always postponed due to cost. \\\n",
        "A cost-reduced Solar Orbiter mission was studied in the 1990s, and a more \\\n",
        "capable Solar Probe mission served as one of the centerpieces of the eponymous \\\n",
        "Outer Planet/Solar Probe (OPSP) program formulated by NASA in the late 1990s. \\\n",
        "The first three missions of the program were planned to be: the Solar Orbiter, \\\n",
        "the Pluto and Kuiper belt reconnaissance mission Pluto Kuiper Express, and the \\\n",
        "Europa Orbiter astrobiology mission focused on Europa.\""
      ],
      "execution_count": 22,
      "outputs": []
    },
    {
      "cell_type": "code",
      "metadata": {
        "colab": {
          "base_uri": "https://localhost:8080/",
          "height": 153
        },
        "id": "gNeRK-qQfQWe",
        "outputId": "f60d6930-0746-46ee-e76b-32cf62f9e9ac"
      },
      "source": [
        "text"
      ],
      "execution_count": 23,
      "outputs": [
        {
          "output_type": "execute_result",
          "data": {
            "application/vnd.google.colaboratory.intrinsic+json": {
              "type": "string"
            },
            "text/plain": [
              "\"The Parker Solar Probe concept originates in the 1958 report by the Fields and Particles Group (Committee 8 of the National Academy of Sciences' Space Science Board [19][20]) which proposed several space missions including a solar probe to pass inside the orbit of Mercury to study the particles and fields in the vicinity of the Sun.[21][22] Studies in the 1970s and 1980s reaffirmed its importance,[21] but it was always postponed due to cost. A cost-reduced Solar Orbiter mission was studied in the 1990s, and a more capable Solar Probe mission served as one of the centerpieces of the eponymous Outer Planet/Solar Probe (OPSP) program formulated by NASA in the late 1990s. The first three missions of the program were planned to be: the Solar Orbiter, the Pluto and Kuiper belt reconnaissance mission Pluto Kuiper Express, and the Europa Orbiter astrobiology mission focused on Europa.\""
            ]
          },
          "metadata": {
            "tags": []
          },
          "execution_count": 23
        }
      ]
    },
    {
      "cell_type": "code",
      "metadata": {
        "colab": {
          "base_uri": "https://localhost:8080/"
        },
        "id": "KwCuK-DOc5yU",
        "outputId": "61210826-0fa6-4706-aa5f-f63ca9a03914"
      },
      "source": [
        "sentences = nltk.sent_tokenize(text)\n",
        "sentences"
      ],
      "execution_count": 24,
      "outputs": [
        {
          "output_type": "execute_result",
          "data": {
            "text/plain": [
              "[\"The Parker Solar Probe concept originates in the 1958 report by the Fields and Particles Group (Committee 8 of the National Academy of Sciences' Space Science Board [19][20]) which proposed several space missions including a solar probe to pass inside the orbit of Mercury to study the particles and fields in the vicinity of the Sun.\",\n",
              " '[21][22] Studies in the 1970s and 1980s reaffirmed its importance,[21] but it was always postponed due to cost.',\n",
              " 'A cost-reduced Solar Orbiter mission was studied in the 1990s, and a more capable Solar Probe mission served as one of the centerpieces of the eponymous Outer Planet/Solar Probe (OPSP) program formulated by NASA in the late 1990s.',\n",
              " 'The first three missions of the program were planned to be: the Solar Orbiter, the Pluto and Kuiper belt reconnaissance mission Pluto Kuiper Express, and the Europa Orbiter astrobiology mission focused on Europa.']"
            ]
          },
          "metadata": {
            "tags": []
          },
          "execution_count": 24
        }
      ]
    },
    {
      "cell_type": "code",
      "metadata": {
        "colab": {
          "base_uri": "https://localhost:8080/"
        },
        "id": "JP-5d_GWibWf",
        "outputId": "49ff93bb-a4ea-4552-e768-929388f9d704"
      },
      "source": [
        "words0 = nltk.word_tokenize(sentences[1])\n",
        "words0"
      ],
      "execution_count": 25,
      "outputs": [
        {
          "output_type": "execute_result",
          "data": {
            "text/plain": [
              "['[',\n",
              " '21',\n",
              " ']',\n",
              " '[',\n",
              " '22',\n",
              " ']',\n",
              " 'Studies',\n",
              " 'in',\n",
              " 'the',\n",
              " '1970s',\n",
              " 'and',\n",
              " '1980s',\n",
              " 'reaffirmed',\n",
              " 'its',\n",
              " 'importance',\n",
              " ',',\n",
              " '[',\n",
              " '21',\n",
              " ']',\n",
              " 'but',\n",
              " 'it',\n",
              " 'was',\n",
              " 'always',\n",
              " 'postponed',\n",
              " 'due',\n",
              " 'to',\n",
              " 'cost',\n",
              " '.']"
            ]
          },
          "metadata": {
            "tags": []
          },
          "execution_count": 25
        }
      ]
    },
    {
      "cell_type": "code",
      "metadata": {
        "id": "pboeOnXOkN_z"
      },
      "source": [
        "stemmer = nltk.stem.PorterStemmer()\n",
        "lemmatizer = nltk.stem.WordNetLemmatizer()"
      ],
      "execution_count": 26,
      "outputs": []
    },
    {
      "cell_type": "code",
      "metadata": {
        "colab": {
          "base_uri": "https://localhost:8080/",
          "height": 35
        },
        "id": "IRGfIRC5ntl6",
        "outputId": "6622cb5c-3bfe-4257-9ec9-8df04e9d7945"
      },
      "source": [
        "sentences[1]"
      ],
      "execution_count": 27,
      "outputs": [
        {
          "output_type": "execute_result",
          "data": {
            "application/vnd.google.colaboratory.intrinsic+json": {
              "type": "string"
            },
            "text/plain": [
              "'[21][22] Studies in the 1970s and 1980s reaffirmed its importance,[21] but it was always postponed due to cost.'"
            ]
          },
          "metadata": {
            "tags": []
          },
          "execution_count": 27
        }
      ]
    },
    {
      "cell_type": "code",
      "metadata": {
        "colab": {
          "base_uri": "https://localhost:8080/",
          "height": 35
        },
        "id": "jmV-2OIcn6HY",
        "outputId": "f4b41408-a080-4c0b-ecb6-e47b3249cf34"
      },
      "source": [
        "stemmer.stem('playing')"
      ],
      "execution_count": 70,
      "outputs": [
        {
          "output_type": "execute_result",
          "data": {
            "application/vnd.google.colaboratory.intrinsic+json": {
              "type": "string"
            },
            "text/plain": [
              "'play'"
            ]
          },
          "metadata": {
            "tags": []
          },
          "execution_count": 70
        }
      ]
    },
    {
      "cell_type": "code",
      "metadata": {
        "colab": {
          "base_uri": "https://localhost:8080/",
          "height": 35
        },
        "id": "2hB7MDynqgnq",
        "outputId": "be2ade30-9021-4f12-b99c-fd843fd8f9c4"
      },
      "source": [
        "lemmatizer.lemmatize('playing', wordnet.wordnet.VERB)"
      ],
      "execution_count": 72,
      "outputs": [
        {
          "output_type": "execute_result",
          "data": {
            "application/vnd.google.colaboratory.intrinsic+json": {
              "type": "string"
            },
            "text/plain": [
              "'play'"
            ]
          },
          "metadata": {
            "tags": []
          },
          "execution_count": 72
        }
      ]
    },
    {
      "cell_type": "code",
      "metadata": {
        "colab": {
          "base_uri": "https://localhost:8080/",
          "height": 35
        },
        "id": "VgBpVlLMqYnN",
        "outputId": "df6cb8e7-560a-4df9-9b02-c078da06fc8b"
      },
      "source": [
        "stemmer.stem('wrote')"
      ],
      "execution_count": 68,
      "outputs": [
        {
          "output_type": "execute_result",
          "data": {
            "application/vnd.google.colaboratory.intrinsic+json": {
              "type": "string"
            },
            "text/plain": [
              "'wrote'"
            ]
          },
          "metadata": {
            "tags": []
          },
          "execution_count": 68
        }
      ]
    },
    {
      "cell_type": "code",
      "metadata": {
        "colab": {
          "base_uri": "https://localhost:8080/",
          "height": 35
        },
        "id": "yrrzOkHioBIm",
        "outputId": "0f3a19ea-63ca-47b5-c2b3-56422972633a"
      },
      "source": [
        "lemmatizer.lemmatize('wrote', wordnet.wordnet.VERB)"
      ],
      "execution_count": 65,
      "outputs": [
        {
          "output_type": "execute_result",
          "data": {
            "application/vnd.google.colaboratory.intrinsic+json": {
              "type": "string"
            },
            "text/plain": [
              "'write'"
            ]
          },
          "metadata": {
            "tags": []
          },
          "execution_count": 65
        }
      ]
    },
    {
      "cell_type": "code",
      "metadata": {
        "colab": {
          "base_uri": "https://localhost:8080/"
        },
        "id": "JXeOtCO5ryuA",
        "outputId": "e16ae202-f49a-4ce1-ebc0-24073c9ef91c"
      },
      "source": [
        "stop_words = set(nltk.corpus.stopwords.words('english'))\n",
        "stop_words"
      ],
      "execution_count": 90,
      "outputs": [
        {
          "output_type": "execute_result",
          "data": {
            "text/plain": [
              "{'a',\n",
              " 'about',\n",
              " 'above',\n",
              " 'after',\n",
              " 'again',\n",
              " 'against',\n",
              " 'ain',\n",
              " 'all',\n",
              " 'am',\n",
              " 'an',\n",
              " 'and',\n",
              " 'any',\n",
              " 'are',\n",
              " 'aren',\n",
              " \"aren't\",\n",
              " 'as',\n",
              " 'at',\n",
              " 'be',\n",
              " 'because',\n",
              " 'been',\n",
              " 'before',\n",
              " 'being',\n",
              " 'below',\n",
              " 'between',\n",
              " 'both',\n",
              " 'but',\n",
              " 'by',\n",
              " 'can',\n",
              " 'couldn',\n",
              " \"couldn't\",\n",
              " 'd',\n",
              " 'did',\n",
              " 'didn',\n",
              " \"didn't\",\n",
              " 'do',\n",
              " 'does',\n",
              " 'doesn',\n",
              " \"doesn't\",\n",
              " 'doing',\n",
              " 'don',\n",
              " \"don't\",\n",
              " 'down',\n",
              " 'during',\n",
              " 'each',\n",
              " 'few',\n",
              " 'for',\n",
              " 'from',\n",
              " 'further',\n",
              " 'had',\n",
              " 'hadn',\n",
              " \"hadn't\",\n",
              " 'has',\n",
              " 'hasn',\n",
              " \"hasn't\",\n",
              " 'have',\n",
              " 'haven',\n",
              " \"haven't\",\n",
              " 'having',\n",
              " 'he',\n",
              " 'her',\n",
              " 'here',\n",
              " 'hers',\n",
              " 'herself',\n",
              " 'him',\n",
              " 'himself',\n",
              " 'his',\n",
              " 'how',\n",
              " 'i',\n",
              " 'if',\n",
              " 'in',\n",
              " 'into',\n",
              " 'is',\n",
              " 'isn',\n",
              " \"isn't\",\n",
              " 'it',\n",
              " \"it's\",\n",
              " 'its',\n",
              " 'itself',\n",
              " 'just',\n",
              " 'll',\n",
              " 'm',\n",
              " 'ma',\n",
              " 'me',\n",
              " 'mightn',\n",
              " \"mightn't\",\n",
              " 'more',\n",
              " 'most',\n",
              " 'mustn',\n",
              " \"mustn't\",\n",
              " 'my',\n",
              " 'myself',\n",
              " 'needn',\n",
              " \"needn't\",\n",
              " 'no',\n",
              " 'nor',\n",
              " 'not',\n",
              " 'now',\n",
              " 'o',\n",
              " 'of',\n",
              " 'off',\n",
              " 'on',\n",
              " 'once',\n",
              " 'only',\n",
              " 'or',\n",
              " 'other',\n",
              " 'our',\n",
              " 'ours',\n",
              " 'ourselves',\n",
              " 'out',\n",
              " 'over',\n",
              " 'own',\n",
              " 're',\n",
              " 's',\n",
              " 'same',\n",
              " 'shan',\n",
              " \"shan't\",\n",
              " 'she',\n",
              " \"she's\",\n",
              " 'should',\n",
              " \"should've\",\n",
              " 'shouldn',\n",
              " \"shouldn't\",\n",
              " 'so',\n",
              " 'some',\n",
              " 'such',\n",
              " 't',\n",
              " 'than',\n",
              " 'that',\n",
              " \"that'll\",\n",
              " 'the',\n",
              " 'their',\n",
              " 'theirs',\n",
              " 'them',\n",
              " 'themselves',\n",
              " 'then',\n",
              " 'there',\n",
              " 'these',\n",
              " 'they',\n",
              " 'this',\n",
              " 'those',\n",
              " 'through',\n",
              " 'to',\n",
              " 'too',\n",
              " 'under',\n",
              " 'until',\n",
              " 'up',\n",
              " 've',\n",
              " 'very',\n",
              " 'was',\n",
              " 'wasn',\n",
              " \"wasn't\",\n",
              " 'we',\n",
              " 'were',\n",
              " 'weren',\n",
              " \"weren't\",\n",
              " 'what',\n",
              " 'when',\n",
              " 'where',\n",
              " 'which',\n",
              " 'while',\n",
              " 'who',\n",
              " 'whom',\n",
              " 'why',\n",
              " 'will',\n",
              " 'with',\n",
              " 'won',\n",
              " \"won't\",\n",
              " 'wouldn',\n",
              " \"wouldn't\",\n",
              " 'y',\n",
              " 'you',\n",
              " \"you'd\",\n",
              " \"you'll\",\n",
              " \"you're\",\n",
              " \"you've\",\n",
              " 'your',\n",
              " 'yours',\n",
              " 'yourself',\n",
              " 'yourselves'}"
            ]
          },
          "metadata": {
            "tags": []
          },
          "execution_count": 90
        }
      ]
    },
    {
      "cell_type": "code",
      "metadata": {
        "colab": {
          "base_uri": "https://localhost:8080/"
        },
        "id": "vTXztA_ztIwo",
        "outputId": "c2de9be7-6aed-450a-ac93-34d23d80b228"
      },
      "source": [
        "words0"
      ],
      "execution_count": 88,
      "outputs": [
        {
          "output_type": "execute_result",
          "data": {
            "text/plain": [
              "['[',\n",
              " '21',\n",
              " ']',\n",
              " '[',\n",
              " '22',\n",
              " ']',\n",
              " 'Studies',\n",
              " 'in',\n",
              " 'the',\n",
              " '1970s',\n",
              " 'and',\n",
              " '1980s',\n",
              " 'reaffirmed',\n",
              " 'its',\n",
              " 'importance',\n",
              " ',',\n",
              " '[',\n",
              " '21',\n",
              " ']',\n",
              " 'but',\n",
              " 'it',\n",
              " 'was',\n",
              " 'always',\n",
              " 'postponed',\n",
              " 'due',\n",
              " 'to',\n",
              " 'cost',\n",
              " '.']"
            ]
          },
          "metadata": {
            "tags": []
          },
          "execution_count": 88
        }
      ]
    },
    {
      "cell_type": "code",
      "metadata": {
        "colab": {
          "base_uri": "https://localhost:8080/"
        },
        "id": "mCxVppOFs3qP",
        "outputId": "018c0602-8f46-4924-8ec0-2dd2ee9a7ac9"
      },
      "source": [
        "[word for word in words0 if not word in stop_words]"
      ],
      "execution_count": 91,
      "outputs": [
        {
          "output_type": "execute_result",
          "data": {
            "text/plain": [
              "['[',\n",
              " '21',\n",
              " ']',\n",
              " '[',\n",
              " '22',\n",
              " ']',\n",
              " 'Studies',\n",
              " '1970s',\n",
              " '1980s',\n",
              " 'reaffirmed',\n",
              " 'importance',\n",
              " ',',\n",
              " '[',\n",
              " '21',\n",
              " ']',\n",
              " 'always',\n",
              " 'postponed',\n",
              " 'due',\n",
              " 'cost',\n",
              " '.']"
            ]
          },
          "metadata": {
            "tags": []
          },
          "execution_count": 91
        }
      ]
    },
    {
      "cell_type": "code",
      "metadata": {
        "colab": {
          "base_uri": "https://localhost:8080/"
        },
        "id": "LiAgJazuufSW",
        "outputId": "432616c5-4809-4fd2-cbd3-0eeb5132b0f7"
      },
      "source": [
        "vectorizer = TfidfVectorizer(stop_words = stop_words, max_features = 20)\n",
        "vectorized_sentences = vectorizer.fit_transform(sentences)\n",
        "vectorized_sentences"
      ],
      "execution_count": 109,
      "outputs": [
        {
          "output_type": "execute_result",
          "data": {
            "text/plain": [
              "<4x20 sparse matrix of type '<class 'numpy.float64'>'\n",
              "\twith 28 stored elements in Compressed Sparse Row format>"
            ]
          },
          "metadata": {
            "tags": []
          },
          "execution_count": 109
        }
      ]
    },
    {
      "cell_type": "code",
      "metadata": {
        "colab": {
          "base_uri": "https://localhost:8080/"
        },
        "id": "h8bhx_hQ00IJ",
        "outputId": "a139ae56-caa4-4c2e-c8be-3d8d77f6cd36"
      },
      "source": [
        "vectorizer.get_feature_names()"
      ],
      "execution_count": 110,
      "outputs": [
        {
          "output_type": "execute_result",
          "data": {
            "text/plain": [
              "['1990s',\n",
              " '21',\n",
              " 'cost',\n",
              " 'europa',\n",
              " 'fields',\n",
              " 'kuiper',\n",
              " 'mission',\n",
              " 'missions',\n",
              " 'orbiter',\n",
              " 'outer',\n",
              " 'particles',\n",
              " 'pass',\n",
              " 'planet',\n",
              " 'planned',\n",
              " 'pluto',\n",
              " 'postponed',\n",
              " 'probe',\n",
              " 'program',\n",
              " 'solar',\n",
              " 'space']"
            ]
          },
          "metadata": {
            "tags": []
          },
          "execution_count": 110
        }
      ]
    },
    {
      "cell_type": "code",
      "metadata": {
        "colab": {
          "base_uri": "https://localhost:8080/",
          "height": 186
        },
        "id": "2qDLYbEL0Oow",
        "outputId": "6654b254-91d8-483c-a4ce-539adc86258e"
      },
      "source": [
        "pd.DataFrame(vectorized_sentences.toarray(), columns = vectorizer.get_feature_names())"
      ],
      "execution_count": 111,
      "outputs": [
        {
          "output_type": "execute_result",
          "data": {
            "text/html": [
              "<div>\n",
              "<style scoped>\n",
              "    .dataframe tbody tr th:only-of-type {\n",
              "        vertical-align: middle;\n",
              "    }\n",
              "\n",
              "    .dataframe tbody tr th {\n",
              "        vertical-align: top;\n",
              "    }\n",
              "\n",
              "    .dataframe thead th {\n",
              "        text-align: right;\n",
              "    }\n",
              "</style>\n",
              "<table border=\"1\" class=\"dataframe\">\n",
              "  <thead>\n",
              "    <tr style=\"text-align: right;\">\n",
              "      <th></th>\n",
              "      <th>1990s</th>\n",
              "      <th>21</th>\n",
              "      <th>cost</th>\n",
              "      <th>europa</th>\n",
              "      <th>fields</th>\n",
              "      <th>kuiper</th>\n",
              "      <th>mission</th>\n",
              "      <th>missions</th>\n",
              "      <th>orbiter</th>\n",
              "      <th>outer</th>\n",
              "      <th>particles</th>\n",
              "      <th>pass</th>\n",
              "      <th>planet</th>\n",
              "      <th>planned</th>\n",
              "      <th>pluto</th>\n",
              "      <th>postponed</th>\n",
              "      <th>probe</th>\n",
              "      <th>program</th>\n",
              "      <th>solar</th>\n",
              "      <th>space</th>\n",
              "    </tr>\n",
              "  </thead>\n",
              "  <tbody>\n",
              "    <tr>\n",
              "      <th>0</th>\n",
              "      <td>0.000000</td>\n",
              "      <td>0.00000</td>\n",
              "      <td>0.000000</td>\n",
              "      <td>0.000000</td>\n",
              "      <td>0.474879</td>\n",
              "      <td>0.000000</td>\n",
              "      <td>0.000000</td>\n",
              "      <td>0.187200</td>\n",
              "      <td>0.000000</td>\n",
              "      <td>0.000000</td>\n",
              "      <td>0.474879</td>\n",
              "      <td>0.237439</td>\n",
              "      <td>0.000000</td>\n",
              "      <td>0.000000</td>\n",
              "      <td>0.000000</td>\n",
              "      <td>0.000000</td>\n",
              "      <td>0.374400</td>\n",
              "      <td>0.000000</td>\n",
              "      <td>0.303109</td>\n",
              "      <td>0.474879</td>\n",
              "    </tr>\n",
              "    <tr>\n",
              "      <th>1</th>\n",
              "      <td>0.000000</td>\n",
              "      <td>0.84353</td>\n",
              "      <td>0.332524</td>\n",
              "      <td>0.000000</td>\n",
              "      <td>0.000000</td>\n",
              "      <td>0.000000</td>\n",
              "      <td>0.000000</td>\n",
              "      <td>0.000000</td>\n",
              "      <td>0.000000</td>\n",
              "      <td>0.000000</td>\n",
              "      <td>0.000000</td>\n",
              "      <td>0.000000</td>\n",
              "      <td>0.000000</td>\n",
              "      <td>0.000000</td>\n",
              "      <td>0.000000</td>\n",
              "      <td>0.421765</td>\n",
              "      <td>0.000000</td>\n",
              "      <td>0.000000</td>\n",
              "      <td>0.000000</td>\n",
              "      <td>0.000000</td>\n",
              "    </tr>\n",
              "    <tr>\n",
              "      <th>2</th>\n",
              "      <td>0.492303</td>\n",
              "      <td>0.00000</td>\n",
              "      <td>0.194069</td>\n",
              "      <td>0.000000</td>\n",
              "      <td>0.000000</td>\n",
              "      <td>0.000000</td>\n",
              "      <td>0.388137</td>\n",
              "      <td>0.000000</td>\n",
              "      <td>0.194069</td>\n",
              "      <td>0.246152</td>\n",
              "      <td>0.000000</td>\n",
              "      <td>0.000000</td>\n",
              "      <td>0.246152</td>\n",
              "      <td>0.000000</td>\n",
              "      <td>0.000000</td>\n",
              "      <td>0.000000</td>\n",
              "      <td>0.388137</td>\n",
              "      <td>0.194069</td>\n",
              "      <td>0.471346</td>\n",
              "      <td>0.000000</td>\n",
              "    </tr>\n",
              "    <tr>\n",
              "      <th>3</th>\n",
              "      <td>0.000000</td>\n",
              "      <td>0.00000</td>\n",
              "      <td>0.000000</td>\n",
              "      <td>0.451485</td>\n",
              "      <td>0.000000</td>\n",
              "      <td>0.451485</td>\n",
              "      <td>0.355956</td>\n",
              "      <td>0.177978</td>\n",
              "      <td>0.355956</td>\n",
              "      <td>0.000000</td>\n",
              "      <td>0.000000</td>\n",
              "      <td>0.000000</td>\n",
              "      <td>0.000000</td>\n",
              "      <td>0.225743</td>\n",
              "      <td>0.451485</td>\n",
              "      <td>0.000000</td>\n",
              "      <td>0.000000</td>\n",
              "      <td>0.177978</td>\n",
              "      <td>0.144089</td>\n",
              "      <td>0.000000</td>\n",
              "    </tr>\n",
              "  </tbody>\n",
              "</table>\n",
              "</div>"
            ],
            "text/plain": [
              "      1990s       21      cost  ...   program     solar     space\n",
              "0  0.000000  0.00000  0.000000  ...  0.000000  0.303109  0.474879\n",
              "1  0.000000  0.84353  0.332524  ...  0.000000  0.000000  0.000000\n",
              "2  0.492303  0.00000  0.194069  ...  0.194069  0.471346  0.000000\n",
              "3  0.000000  0.00000  0.000000  ...  0.177978  0.144089  0.000000\n",
              "\n",
              "[4 rows x 20 columns]"
            ]
          },
          "metadata": {
            "tags": []
          },
          "execution_count": 111
        }
      ]
    }
  ]
}