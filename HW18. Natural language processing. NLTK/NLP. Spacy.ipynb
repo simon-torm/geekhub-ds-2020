{
 "cells": [
  {
   "cell_type": "code",
   "execution_count": 1,
   "id": "38e2682a",
   "metadata": {},
   "outputs": [],
   "source": [
    "import numpy\n",
    "import spacy"
   ]
  },
  {
   "cell_type": "code",
   "execution_count": 2,
   "id": "e1b6812b",
   "metadata": {},
   "outputs": [],
   "source": [
    "nlp = spacy.load(\"en_core_web_sm\")"
   ]
  },
  {
   "cell_type": "code",
   "execution_count": 3,
   "id": "13380c88",
   "metadata": {},
   "outputs": [],
   "source": [
    "doc = nlp(\"It's test text for test rrr. Will see\")"
   ]
  },
  {
   "cell_type": "code",
   "execution_count": 4,
   "id": "8336e0e2",
   "metadata": {},
   "outputs": [
    {
     "name": "stdout",
     "output_type": "stream",
     "text": [
      "It\n",
      "'s\n",
      "test\n",
      "text\n",
      "for\n",
      "test\n",
      "rrr\n",
      ".\n",
      "Will\n",
      "see\n"
     ]
    }
   ],
   "source": [
    "for token in doc:\n",
    "    print(token)"
   ]
  },
  {
   "cell_type": "code",
   "execution_count": 5,
   "id": "b4aaeb5c",
   "metadata": {},
   "outputs": [
    {
     "data": {
      "text/html": [
       "<span class=\"tex2jax_ignore\"><svg xmlns=\"http://www.w3.org/2000/svg\" xmlns:xlink=\"http://www.w3.org/1999/xlink\" xml:lang=\"en\" id=\"31e2df3aba224e6f87b0f7567a127b0d-0\" class=\"displacy\" width=\"1625\" height=\"312.0\" direction=\"ltr\" style=\"max-width: none; height: 312.0px; color: #000000; background: #ffffff; font-family: Arial; direction: ltr\">\n",
       "<text class=\"displacy-token\" fill=\"currentColor\" text-anchor=\"middle\" y=\"222.0\">\n",
       "    <tspan class=\"displacy-word\" fill=\"currentColor\" x=\"50\">It</tspan>\n",
       "    <tspan class=\"displacy-tag\" dy=\"2em\" fill=\"currentColor\" x=\"50\">PRON</tspan>\n",
       "</text>\n",
       "\n",
       "<text class=\"displacy-token\" fill=\"currentColor\" text-anchor=\"middle\" y=\"222.0\">\n",
       "    <tspan class=\"displacy-word\" fill=\"currentColor\" x=\"225\">'s</tspan>\n",
       "    <tspan class=\"displacy-tag\" dy=\"2em\" fill=\"currentColor\" x=\"225\">AUX</tspan>\n",
       "</text>\n",
       "\n",
       "<text class=\"displacy-token\" fill=\"currentColor\" text-anchor=\"middle\" y=\"222.0\">\n",
       "    <tspan class=\"displacy-word\" fill=\"currentColor\" x=\"400\">test</tspan>\n",
       "    <tspan class=\"displacy-tag\" dy=\"2em\" fill=\"currentColor\" x=\"400\">NOUN</tspan>\n",
       "</text>\n",
       "\n",
       "<text class=\"displacy-token\" fill=\"currentColor\" text-anchor=\"middle\" y=\"222.0\">\n",
       "    <tspan class=\"displacy-word\" fill=\"currentColor\" x=\"575\">text</tspan>\n",
       "    <tspan class=\"displacy-tag\" dy=\"2em\" fill=\"currentColor\" x=\"575\">NOUN</tspan>\n",
       "</text>\n",
       "\n",
       "<text class=\"displacy-token\" fill=\"currentColor\" text-anchor=\"middle\" y=\"222.0\">\n",
       "    <tspan class=\"displacy-word\" fill=\"currentColor\" x=\"750\">for</tspan>\n",
       "    <tspan class=\"displacy-tag\" dy=\"2em\" fill=\"currentColor\" x=\"750\">ADP</tspan>\n",
       "</text>\n",
       "\n",
       "<text class=\"displacy-token\" fill=\"currentColor\" text-anchor=\"middle\" y=\"222.0\">\n",
       "    <tspan class=\"displacy-word\" fill=\"currentColor\" x=\"925\">test</tspan>\n",
       "    <tspan class=\"displacy-tag\" dy=\"2em\" fill=\"currentColor\" x=\"925\">NOUN</tspan>\n",
       "</text>\n",
       "\n",
       "<text class=\"displacy-token\" fill=\"currentColor\" text-anchor=\"middle\" y=\"222.0\">\n",
       "    <tspan class=\"displacy-word\" fill=\"currentColor\" x=\"1100\">rrr.</tspan>\n",
       "    <tspan class=\"displacy-tag\" dy=\"2em\" fill=\"currentColor\" x=\"1100\">PRON</tspan>\n",
       "</text>\n",
       "\n",
       "<text class=\"displacy-token\" fill=\"currentColor\" text-anchor=\"middle\" y=\"222.0\">\n",
       "    <tspan class=\"displacy-word\" fill=\"currentColor\" x=\"1275\">Will</tspan>\n",
       "    <tspan class=\"displacy-tag\" dy=\"2em\" fill=\"currentColor\" x=\"1275\">VERB</tspan>\n",
       "</text>\n",
       "\n",
       "<text class=\"displacy-token\" fill=\"currentColor\" text-anchor=\"middle\" y=\"222.0\">\n",
       "    <tspan class=\"displacy-word\" fill=\"currentColor\" x=\"1450\">see</tspan>\n",
       "    <tspan class=\"displacy-tag\" dy=\"2em\" fill=\"currentColor\" x=\"1450\">VERB</tspan>\n",
       "</text>\n",
       "\n",
       "<g class=\"displacy-arrow\">\n",
       "    <path class=\"displacy-arc\" id=\"arrow-31e2df3aba224e6f87b0f7567a127b0d-0-0\" stroke-width=\"2px\" d=\"M70,177.0 C70,89.5 220.0,89.5 220.0,177.0\" fill=\"none\" stroke=\"currentColor\"/>\n",
       "    <text dy=\"1.25em\" style=\"font-size: 0.8em; letter-spacing: 1px\">\n",
       "        <textPath xlink:href=\"#arrow-31e2df3aba224e6f87b0f7567a127b0d-0-0\" class=\"displacy-label\" startOffset=\"50%\" side=\"left\" fill=\"currentColor\" text-anchor=\"middle\">nsubj</textPath>\n",
       "    </text>\n",
       "    <path class=\"displacy-arrowhead\" d=\"M70,179.0 L62,167.0 78,167.0\" fill=\"currentColor\"/>\n",
       "</g>\n",
       "\n",
       "<g class=\"displacy-arrow\">\n",
       "    <path class=\"displacy-arc\" id=\"arrow-31e2df3aba224e6f87b0f7567a127b0d-0-1\" stroke-width=\"2px\" d=\"M420,177.0 C420,89.5 570.0,89.5 570.0,177.0\" fill=\"none\" stroke=\"currentColor\"/>\n",
       "    <text dy=\"1.25em\" style=\"font-size: 0.8em; letter-spacing: 1px\">\n",
       "        <textPath xlink:href=\"#arrow-31e2df3aba224e6f87b0f7567a127b0d-0-1\" class=\"displacy-label\" startOffset=\"50%\" side=\"left\" fill=\"currentColor\" text-anchor=\"middle\">compound</textPath>\n",
       "    </text>\n",
       "    <path class=\"displacy-arrowhead\" d=\"M420,179.0 L412,167.0 428,167.0\" fill=\"currentColor\"/>\n",
       "</g>\n",
       "\n",
       "<g class=\"displacy-arrow\">\n",
       "    <path class=\"displacy-arc\" id=\"arrow-31e2df3aba224e6f87b0f7567a127b0d-0-2\" stroke-width=\"2px\" d=\"M245,177.0 C245,2.0 575.0,2.0 575.0,177.0\" fill=\"none\" stroke=\"currentColor\"/>\n",
       "    <text dy=\"1.25em\" style=\"font-size: 0.8em; letter-spacing: 1px\">\n",
       "        <textPath xlink:href=\"#arrow-31e2df3aba224e6f87b0f7567a127b0d-0-2\" class=\"displacy-label\" startOffset=\"50%\" side=\"left\" fill=\"currentColor\" text-anchor=\"middle\">attr</textPath>\n",
       "    </text>\n",
       "    <path class=\"displacy-arrowhead\" d=\"M575.0,179.0 L583.0,167.0 567.0,167.0\" fill=\"currentColor\"/>\n",
       "</g>\n",
       "\n",
       "<g class=\"displacy-arrow\">\n",
       "    <path class=\"displacy-arc\" id=\"arrow-31e2df3aba224e6f87b0f7567a127b0d-0-3\" stroke-width=\"2px\" d=\"M595,177.0 C595,89.5 745.0,89.5 745.0,177.0\" fill=\"none\" stroke=\"currentColor\"/>\n",
       "    <text dy=\"1.25em\" style=\"font-size: 0.8em; letter-spacing: 1px\">\n",
       "        <textPath xlink:href=\"#arrow-31e2df3aba224e6f87b0f7567a127b0d-0-3\" class=\"displacy-label\" startOffset=\"50%\" side=\"left\" fill=\"currentColor\" text-anchor=\"middle\">prep</textPath>\n",
       "    </text>\n",
       "    <path class=\"displacy-arrowhead\" d=\"M745.0,179.0 L753.0,167.0 737.0,167.0\" fill=\"currentColor\"/>\n",
       "</g>\n",
       "\n",
       "<g class=\"displacy-arrow\">\n",
       "    <path class=\"displacy-arc\" id=\"arrow-31e2df3aba224e6f87b0f7567a127b0d-0-4\" stroke-width=\"2px\" d=\"M945,177.0 C945,89.5 1095.0,89.5 1095.0,177.0\" fill=\"none\" stroke=\"currentColor\"/>\n",
       "    <text dy=\"1.25em\" style=\"font-size: 0.8em; letter-spacing: 1px\">\n",
       "        <textPath xlink:href=\"#arrow-31e2df3aba224e6f87b0f7567a127b0d-0-4\" class=\"displacy-label\" startOffset=\"50%\" side=\"left\" fill=\"currentColor\" text-anchor=\"middle\">compound</textPath>\n",
       "    </text>\n",
       "    <path class=\"displacy-arrowhead\" d=\"M945,179.0 L937,167.0 953,167.0\" fill=\"currentColor\"/>\n",
       "</g>\n",
       "\n",
       "<g class=\"displacy-arrow\">\n",
       "    <path class=\"displacy-arc\" id=\"arrow-31e2df3aba224e6f87b0f7567a127b0d-0-5\" stroke-width=\"2px\" d=\"M770,177.0 C770,2.0 1100.0,2.0 1100.0,177.0\" fill=\"none\" stroke=\"currentColor\"/>\n",
       "    <text dy=\"1.25em\" style=\"font-size: 0.8em; letter-spacing: 1px\">\n",
       "        <textPath xlink:href=\"#arrow-31e2df3aba224e6f87b0f7567a127b0d-0-5\" class=\"displacy-label\" startOffset=\"50%\" side=\"left\" fill=\"currentColor\" text-anchor=\"middle\">pobj</textPath>\n",
       "    </text>\n",
       "    <path class=\"displacy-arrowhead\" d=\"M1100.0,179.0 L1108.0,167.0 1092.0,167.0\" fill=\"currentColor\"/>\n",
       "</g>\n",
       "\n",
       "<g class=\"displacy-arrow\">\n",
       "    <path class=\"displacy-arc\" id=\"arrow-31e2df3aba224e6f87b0f7567a127b0d-0-6\" stroke-width=\"2px\" d=\"M1295,177.0 C1295,89.5 1445.0,89.5 1445.0,177.0\" fill=\"none\" stroke=\"currentColor\"/>\n",
       "    <text dy=\"1.25em\" style=\"font-size: 0.8em; letter-spacing: 1px\">\n",
       "        <textPath xlink:href=\"#arrow-31e2df3aba224e6f87b0f7567a127b0d-0-6\" class=\"displacy-label\" startOffset=\"50%\" side=\"left\" fill=\"currentColor\" text-anchor=\"middle\">aux</textPath>\n",
       "    </text>\n",
       "    <path class=\"displacy-arrowhead\" d=\"M1295,179.0 L1287,167.0 1303,167.0\" fill=\"currentColor\"/>\n",
       "</g>\n",
       "</svg></span>"
      ],
      "text/plain": [
       "<IPython.core.display.HTML object>"
      ]
     },
     "metadata": {},
     "output_type": "display_data"
    }
   ],
   "source": [
    "spacy.displacy.render(doc, style = \"dep\", jupyter = True)"
   ]
  },
  {
   "cell_type": "code",
   "execution_count": 6,
   "id": "18950c3f",
   "metadata": {},
   "outputs": [
    {
     "name": "stdout",
     "output_type": "stream",
     "text": [
      "It - \t Has vector: True\n",
      "'s - \t Has vector: True\n",
      "test - \t Has vector: True\n",
      "text - \t Has vector: True\n",
      "for - \t Has vector: True\n",
      "test - \t Has vector: True\n",
      "rrr - \t Has vector: True\n",
      ". - \t Has vector: True\n",
      "Will - \t Has vector: True\n",
      "see - \t Has vector: True\n"
     ]
    }
   ],
   "source": [
    "for token in doc:\n",
    "    print(f\"{token} - \\t Has vector: {token.has_vector}\")"
   ]
  },
  {
   "cell_type": "code",
   "execution_count": 7,
   "id": "9e51ee9b",
   "metadata": {},
   "outputs": [],
   "source": [
    "doc1 = nlp(\"this burger is delicious\")\n",
    "doc2 = nlp(\"this salad is delicious\")\n",
    "doc3 = nlp(\"I like burger\")"
   ]
  },
  {
   "cell_type": "code",
   "execution_count": 8,
   "id": "0d286593",
   "metadata": {},
   "outputs": [
    {
     "name": "stdout",
     "output_type": "stream",
     "text": [
      "this burger is delicious <-> this salad is delicious : 0.8396447269805329\n",
      "this burger is delicious <-> I like burger : 0.3475254498876674\n"
     ]
    },
    {
     "name": "stderr",
     "output_type": "stream",
     "text": [
      "<ipython-input-8-c1a38b302381>:1: UserWarning: [W007] The model you're using has no word vectors loaded, so the result of the Doc.similarity method will be based on the tagger, parser and NER, which may not give useful similarity judgements. This may happen if you're using one of the small models, e.g. `en_core_web_sm`, which don't ship with word vectors and only use context-sensitive tensors. You can always add your own word vectors, or use one of the larger models instead if available.\n",
      "  print(f\"{doc1} <-> {doc2} : {doc1.similarity(doc2)}\")\n",
      "<ipython-input-8-c1a38b302381>:2: UserWarning: [W007] The model you're using has no word vectors loaded, so the result of the Doc.similarity method will be based on the tagger, parser and NER, which may not give useful similarity judgements. This may happen if you're using one of the small models, e.g. `en_core_web_sm`, which don't ship with word vectors and only use context-sensitive tensors. You can always add your own word vectors, or use one of the larger models instead if available.\n",
      "  print(f\"{doc1} <-> {doc3} : {doc1.similarity(doc3)}\")\n"
     ]
    }
   ],
   "source": [
    "print(f\"{doc1} <-> {doc2} : {doc1.similarity(doc2)}\")\n",
    "print(f\"{doc1} <-> {doc3} : {doc1.similarity(doc3)}\")"
   ]
  },
  {
   "cell_type": "code",
   "execution_count": 9,
   "id": "24fc59c7",
   "metadata": {},
   "outputs": [
    {
     "name": "stdout",
     "output_type": "stream",
     "text": [
      "It's test text for test rrr.\n",
      "Will see\n"
     ]
    }
   ],
   "source": [
    "for sent in doc.sents:\n",
    "    print(sent)"
   ]
  },
  {
   "cell_type": "code",
   "execution_count": 10,
   "id": "0e93bb04",
   "metadata": {},
   "outputs": [],
   "source": [
    "doc2 = nlp(\"Test for entities. It is a company in USA. Google. The income is 182.5 billions dollars\")"
   ]
  },
  {
   "cell_type": "code",
   "execution_count": 11,
   "id": "951c3032",
   "metadata": {},
   "outputs": [
    {
     "name": "stdout",
     "output_type": "stream",
     "text": [
      "USA - GPE\n",
      "Google - ORG\n",
      "182.5 billions dollars - MONEY\n"
     ]
    }
   ],
   "source": [
    "for ent in doc2.ents:\n",
    "    print(f\"{ent.text} - {ent.label_}\")"
   ]
  },
  {
   "cell_type": "code",
   "execution_count": 12,
   "id": "09637cfb",
   "metadata": {},
   "outputs": [
    {
     "data": {
      "text/plain": [
       "spacy.tokens.token.Token"
      ]
     },
     "execution_count": 12,
     "metadata": {},
     "output_type": "execute_result"
    }
   ],
   "source": [
    "type(doc[3])"
   ]
  },
  {
   "cell_type": "code",
   "execution_count": 13,
   "id": "562fba2e",
   "metadata": {},
   "outputs": [
    {
     "data": {
      "text/plain": [
       "array([-0.15195394,  2.7511709 ,  2.832665  , -2.4318419 ,  0.38480467,\n",
       "       -3.121862  , -1.1202759 , -1.6332637 , -1.8234428 ,  0.5097747 ,\n",
       "        1.7002386 ,  1.9824457 ,  1.1989069 , -0.5487812 ,  1.0977844 ,\n",
       "       -2.8272605 ,  4.9445705 ,  1.0276731 , -0.5043293 ,  5.4781218 ,\n",
       "       -0.2519138 , -1.6222701 , -0.42895764, -4.784309  , -2.4331348 ,\n",
       "        2.210525  , -2.3515992 , -5.4758077 ,  1.4023299 , -2.4304738 ,\n",
       "       -0.06314245, -2.3986077 , -2.4572632 , -0.7159489 , -2.7331424 ,\n",
       "        1.8811758 ,  0.7065635 , -0.28902674,  1.19115   , -1.6521297 ,\n",
       "        0.34662706,  1.2263992 , -0.34693795, -1.0081778 ,  2.3346446 ,\n",
       "       -0.47276634,  0.5585927 , -1.674261  , -0.08628243,  0.17660725,\n",
       "        0.02613479,  1.4683979 , -2.7039971 , -1.9793663 ,  0.0931139 ,\n",
       "        5.5426054 ,  4.6418266 ,  0.5759936 , -0.19867963,  1.4741515 ,\n",
       "        0.482033  , -2.570286  , -0.23405051, -1.7150658 , -1.4181432 ,\n",
       "        2.7531781 ,  2.2634983 ,  0.24556077,  0.48641366,  1.9380466 ,\n",
       "        0.93842137,  1.1877263 , -0.98098016, -0.471869  , -2.7742512 ,\n",
       "        1.7186764 ,  2.0477052 ,  0.4505618 , -0.37612128, -2.0010977 ,\n",
       "       -0.34469026, -0.43138   , -1.2109623 ,  0.89563525, -0.61931616,\n",
       "       -1.5528972 ,  1.5759017 ,  0.74231434,  1.499478  ,  1.2134473 ,\n",
       "        1.16153   ,  0.616657  , -1.6801465 , -0.6530056 ,  1.4893588 ,\n",
       "       -0.43463778], dtype=float32)"
      ]
     },
     "execution_count": 13,
     "metadata": {},
     "output_type": "execute_result"
    }
   ],
   "source": [
    "doc[3].vector"
   ]
  },
  {
   "cell_type": "code",
   "execution_count": 14,
   "id": "bfdd4e44",
   "metadata": {},
   "outputs": [],
   "source": [
    "vectors = numpy.array([v.vector for v in doc])"
   ]
  },
  {
   "cell_type": "code",
   "execution_count": 15,
   "id": "75bce8e1",
   "metadata": {},
   "outputs": [
    {
     "data": {
      "text/plain": [
       "(10, 96)"
      ]
     },
     "execution_count": 15,
     "metadata": {},
     "output_type": "execute_result"
    }
   ],
   "source": [
    "vectors.shape"
   ]
  },
  {
   "cell_type": "code",
   "execution_count": 16,
   "id": "a74979dd",
   "metadata": {},
   "outputs": [],
   "source": [
    "with open('Text tales.txt', 'r') as file:\n",
    "    text_from_file = file.read()"
   ]
  },
  {
   "cell_type": "code",
   "execution_count": 17,
   "id": "622aecb8",
   "metadata": {},
   "outputs": [
    {
     "data": {
      "text/plain": [
       "69551"
      ]
     },
     "execution_count": 17,
     "metadata": {},
     "output_type": "execute_result"
    }
   ],
   "source": [
    "len(text_from_file)"
   ]
  },
  {
   "cell_type": "code",
   "execution_count": 18,
   "id": "f7332501",
   "metadata": {},
   "outputs": [
    {
     "data": {
      "text/plain": [
       "12514"
      ]
     },
     "execution_count": 18,
     "metadata": {},
     "output_type": "execute_result"
    }
   ],
   "source": [
    "doc_tale = nlp(text_from_file)\n",
    "len(doc_tale)"
   ]
  },
  {
   "cell_type": "code",
   "execution_count": 25,
   "id": "9e86cee6",
   "metadata": {},
   "outputs": [
    {
     "data": {
      "text/plain": [
       "(12514, 96)"
      ]
     },
     "execution_count": 25,
     "metadata": {},
     "output_type": "execute_result"
    }
   ],
   "source": [
    "vectors_tale = numpy.array([v.vector for v in doc_tale])\n",
    "vectors_tale.shape"
   ]
  }
 ],
 "metadata": {
  "kernelspec": {
   "display_name": "Python 3",
   "language": "python",
   "name": "python3"
  },
  "language_info": {
   "codemirror_mode": {
    "name": "ipython",
    "version": 3
   },
   "file_extension": ".py",
   "mimetype": "text/x-python",
   "name": "python",
   "nbconvert_exporter": "python",
   "pygments_lexer": "ipython3",
   "version": "3.8.8"
  }
 },
 "nbformat": 4,
 "nbformat_minor": 5
}
