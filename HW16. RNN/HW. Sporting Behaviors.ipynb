{
 "cells": [
  {
   "cell_type": "code",
   "execution_count": 862,
   "metadata": {},
   "outputs": [],
   "source": [
    "import pandas as pd\n",
    "import os\n",
    "import numpy as np\n",
    "\n",
    "from keras import models\n",
    "from keras import layers\n",
    "from keras.utils import to_categorical\n",
    "from keras.layers.experimental.preprocessing import Normalization\n",
    "from keras import regularizers\n",
    "from sklearn.preprocessing import Normalizer, normalize\n",
    "\n",
    "import seaborn as sns\n",
    "import matplotlib.pyplot"
   ]
  },
  {
   "cell_type": "code",
   "execution_count": 780,
   "metadata": {},
   "outputs": [
    {
     "ename": "AttributeError",
     "evalue": "module 'keras.layers' has no attribute 'Normalization'",
     "output_type": "error",
     "traceback": [
      "\u001b[1;31m---------------------------------------------------------------------------\u001b[0m",
      "\u001b[1;31mAttributeError\u001b[0m                            Traceback (most recent call last)",
      "\u001b[1;32m<ipython-input-780-3a308492eda4>\u001b[0m in \u001b[0;36m<module>\u001b[1;34m\u001b[0m\n\u001b[1;32m----> 1\u001b[1;33m \u001b[0mlayers\u001b[0m\u001b[1;33m.\u001b[0m\u001b[0mNormalization\u001b[0m\u001b[1;33m\u001b[0m\u001b[1;33m\u001b[0m\u001b[0m\n\u001b[0m",
      "\u001b[1;31mAttributeError\u001b[0m: module 'keras.layers' has no attribute 'Normalization'"
     ]
    }
   ],
   "source": [
    "layers.Normalization"
   ]
  },
  {
   "cell_type": "code",
   "execution_count": 506,
   "metadata": {},
   "outputs": [],
   "source": [
    "RANDOM_STATE = 7\n",
    "PATH = 'data'\n",
    "STEP_SLICE = 100"
   ]
  },
  {
   "cell_type": "code",
   "execution_count": 24,
   "metadata": {},
   "outputs": [],
   "source": [
    "df = pd.read_csv('data/badminton/002-F-badminton.csv', index_col = 0)"
   ]
  },
  {
   "cell_type": "code",
   "execution_count": 25,
   "metadata": {},
   "outputs": [
    {
     "data": {
      "text/html": [
       "<div>\n",
       "<style scoped>\n",
       "    .dataframe tbody tr th:only-of-type {\n",
       "        vertical-align: middle;\n",
       "    }\n",
       "\n",
       "    .dataframe tbody tr th {\n",
       "        vertical-align: top;\n",
       "    }\n",
       "\n",
       "    .dataframe thead th {\n",
       "        text-align: right;\n",
       "    }\n",
       "</style>\n",
       "<table border=\"1\" class=\"dataframe\">\n",
       "  <thead>\n",
       "    <tr style=\"text-align: right;\">\n",
       "      <th></th>\n",
       "      <th>wx</th>\n",
       "      <th>wy</th>\n",
       "      <th>wz</th>\n",
       "      <th>nx</th>\n",
       "      <th>ny</th>\n",
       "      <th>nz</th>\n",
       "      <th>tx</th>\n",
       "      <th>ty</th>\n",
       "      <th>tz</th>\n",
       "    </tr>\n",
       "  </thead>\n",
       "  <tbody>\n",
       "    <tr>\n",
       "      <th>0</th>\n",
       "      <td>12.016</td>\n",
       "      <td>-9.859</td>\n",
       "      <td>-6.479</td>\n",
       "      <td>-1.434</td>\n",
       "      <td>7.111</td>\n",
       "      <td>2.832</td>\n",
       "      <td>1.659</td>\n",
       "      <td>-0.403</td>\n",
       "      <td>5.477</td>\n",
       "    </tr>\n",
       "    <tr>\n",
       "      <th>1</th>\n",
       "      <td>12.099</td>\n",
       "      <td>-10.064</td>\n",
       "      <td>-7.256</td>\n",
       "      <td>-1.683</td>\n",
       "      <td>7.465</td>\n",
       "      <td>2.940</td>\n",
       "      <td>0.435</td>\n",
       "      <td>2.691</td>\n",
       "      <td>8.265</td>\n",
       "    </tr>\n",
       "    <tr>\n",
       "      <th>2</th>\n",
       "      <td>13.446</td>\n",
       "      <td>-10.370</td>\n",
       "      <td>-7.970</td>\n",
       "      <td>-1.986</td>\n",
       "      <td>7.855</td>\n",
       "      <td>3.133</td>\n",
       "      <td>-0.639</td>\n",
       "      <td>6.594</td>\n",
       "      <td>9.035</td>\n",
       "    </tr>\n",
       "    <tr>\n",
       "      <th>3</th>\n",
       "      <td>15.310</td>\n",
       "      <td>-11.010</td>\n",
       "      <td>-8.423</td>\n",
       "      <td>-2.260</td>\n",
       "      <td>8.231</td>\n",
       "      <td>3.413</td>\n",
       "      <td>-1.298</td>\n",
       "      <td>9.925</td>\n",
       "      <td>7.051</td>\n",
       "    </tr>\n",
       "    <tr>\n",
       "      <th>4</th>\n",
       "      <td>16.904</td>\n",
       "      <td>-10.862</td>\n",
       "      <td>-7.926</td>\n",
       "      <td>-2.410</td>\n",
       "      <td>8.230</td>\n",
       "      <td>3.591</td>\n",
       "      <td>-2.494</td>\n",
       "      <td>11.947</td>\n",
       "      <td>4.404</td>\n",
       "    </tr>\n",
       "    <tr>\n",
       "      <th>...</th>\n",
       "      <td>...</td>\n",
       "      <td>...</td>\n",
       "      <td>...</td>\n",
       "      <td>...</td>\n",
       "      <td>...</td>\n",
       "      <td>...</td>\n",
       "      <td>...</td>\n",
       "      <td>...</td>\n",
       "      <td>...</td>\n",
       "    </tr>\n",
       "    <tr>\n",
       "      <th>995</th>\n",
       "      <td>6.015</td>\n",
       "      <td>-0.589</td>\n",
       "      <td>4.991</td>\n",
       "      <td>1.794</td>\n",
       "      <td>-0.881</td>\n",
       "      <td>1.434</td>\n",
       "      <td>NaN</td>\n",
       "      <td>NaN</td>\n",
       "      <td>NaN</td>\n",
       "    </tr>\n",
       "    <tr>\n",
       "      <th>996</th>\n",
       "      <td>6.488</td>\n",
       "      <td>-0.834</td>\n",
       "      <td>4.969</td>\n",
       "      <td>0.400</td>\n",
       "      <td>-0.607</td>\n",
       "      <td>1.374</td>\n",
       "      <td>NaN</td>\n",
       "      <td>NaN</td>\n",
       "      <td>NaN</td>\n",
       "    </tr>\n",
       "    <tr>\n",
       "      <th>997</th>\n",
       "      <td>6.900</td>\n",
       "      <td>-1.213</td>\n",
       "      <td>5.120</td>\n",
       "      <td>-1.864</td>\n",
       "      <td>-0.237</td>\n",
       "      <td>0.761</td>\n",
       "      <td>NaN</td>\n",
       "      <td>NaN</td>\n",
       "      <td>NaN</td>\n",
       "    </tr>\n",
       "    <tr>\n",
       "      <th>998</th>\n",
       "      <td>7.017</td>\n",
       "      <td>-1.560</td>\n",
       "      <td>5.077</td>\n",
       "      <td>-3.809</td>\n",
       "      <td>0.044</td>\n",
       "      <td>0.751</td>\n",
       "      <td>NaN</td>\n",
       "      <td>NaN</td>\n",
       "      <td>NaN</td>\n",
       "    </tr>\n",
       "    <tr>\n",
       "      <th>999</th>\n",
       "      <td>6.959</td>\n",
       "      <td>-1.712</td>\n",
       "      <td>5.033</td>\n",
       "      <td>-4.814</td>\n",
       "      <td>0.347</td>\n",
       "      <td>-0.087</td>\n",
       "      <td>NaN</td>\n",
       "      <td>NaN</td>\n",
       "      <td>NaN</td>\n",
       "    </tr>\n",
       "  </tbody>\n",
       "</table>\n",
       "<p>1000 rows × 9 columns</p>\n",
       "</div>"
      ],
      "text/plain": [
       "         wx      wy     wz     nx     ny     nz     tx      ty     tz\n",
       "0    12.016  -9.859 -6.479 -1.434  7.111  2.832  1.659  -0.403  5.477\n",
       "1    12.099 -10.064 -7.256 -1.683  7.465  2.940  0.435   2.691  8.265\n",
       "2    13.446 -10.370 -7.970 -1.986  7.855  3.133 -0.639   6.594  9.035\n",
       "3    15.310 -11.010 -8.423 -2.260  8.231  3.413 -1.298   9.925  7.051\n",
       "4    16.904 -10.862 -7.926 -2.410  8.230  3.591 -2.494  11.947  4.404\n",
       "..      ...     ...    ...    ...    ...    ...    ...     ...    ...\n",
       "995   6.015  -0.589  4.991  1.794 -0.881  1.434    NaN     NaN    NaN\n",
       "996   6.488  -0.834  4.969  0.400 -0.607  1.374    NaN     NaN    NaN\n",
       "997   6.900  -1.213  5.120 -1.864 -0.237  0.761    NaN     NaN    NaN\n",
       "998   7.017  -1.560  5.077 -3.809  0.044  0.751    NaN     NaN    NaN\n",
       "999   6.959  -1.712  5.033 -4.814  0.347 -0.087    NaN     NaN    NaN\n",
       "\n",
       "[1000 rows x 9 columns]"
      ]
     },
     "execution_count": 25,
     "metadata": {},
     "output_type": "execute_result"
    }
   ],
   "source": [
    "df"
   ]
  },
  {
   "cell_type": "code",
   "execution_count": 27,
   "metadata": {},
   "outputs": [
    {
     "name": "stdout",
     "output_type": "stream",
     "text": [
      "<class 'pandas.core.frame.DataFrame'>\n",
      "Int64Index: 1000 entries, 0 to 999\n",
      "Data columns (total 9 columns):\n",
      " #   Column  Non-Null Count  Dtype  \n",
      "---  ------  --------------  -----  \n",
      " 0   wx      1000 non-null   float64\n",
      " 1   wy      1000 non-null   float64\n",
      " 2   wz      1000 non-null   float64\n",
      " 3   nx      1000 non-null   float64\n",
      " 4   ny      1000 non-null   float64\n",
      " 5   nz      1000 non-null   float64\n",
      " 6   tx      700 non-null    float64\n",
      " 7   ty      700 non-null    float64\n",
      " 8   tz      700 non-null    float64\n",
      "dtypes: float64(9)\n",
      "memory usage: 78.1 KB\n"
     ]
    }
   ],
   "source": [
    "df.info()"
   ]
  },
  {
   "cell_type": "code",
   "execution_count": 786,
   "metadata": {},
   "outputs": [],
   "source": [
    "# функція повертає тензор перетворених csv файлів з каталогів та класи відповідно до каталогів\n",
    "# приймає аргументами шлях, вікно та крок з яким буде розбивати дані\n",
    "\n",
    "def data_to_numpy(path, window = 100, step_slice = 100, random_state = None, val_split = None, test_split = None):\n",
    "    \n",
    "    if window % step_slice != 0:\n",
    "        print(\"\\n\\n!ATTENTION: not all data will be processed\\n\\n\")\n",
    "    \n",
    "    #зчитування папок як таргети\n",
    "    targets_title = list()\n",
    "    \n",
    "    for folder in os.listdir(path):\n",
    "        path_folder = os.path.join(path, folder)\n",
    "        if os.path.isdir(path_folder):\n",
    "            targets_title.append(folder)\n",
    "    \n",
    "    print(f\"Targets: {targets_title}\")\n",
    "    \n",
    "    # об'єднання всіх таблиць в одну матрицю та список кінцевих класів\n",
    "    data = list()\n",
    "    targets = list()\n",
    "    \n",
    "    for target_id, target in enumerate(targets_title):\n",
    "        path_list = os.listdir(os.path.join(path, target))\n",
    "        print(f'Loading data: {target} - target num: {target_id}')\n",
    "        n_samples = 0\n",
    "        \n",
    "        for file in path_list:\n",
    "            \n",
    "            if file[-3:] == 'csv':\n",
    "                path_to_file = os.path.join(path, target, file)\n",
    "                df = pd.read_csv(path_to_file, index_col = 0)\n",
    "                \n",
    "                if len(df) % step_slice != 0:\n",
    "                    raise Exception(\"len(df) % STEP_SLICE != 0\")\n",
    "                \n",
    "                df_slices = [df[i:i + window].to_numpy() for i in range(0, len(df) - window + 1, step_slice)]\n",
    "                \n",
    "                data = data + df_slices\n",
    "                targets = targets + [target_id] * len(df_slices)\n",
    "                \n",
    "                n_samples += len(df_slices)\n",
    "                \n",
    "        print(f\"\\t Number of samples: {n_samples}\")\n",
    "    \n",
    "    data = np.array(data)\n",
    "    targets = np.array(targets)\n",
    "    \n",
    "    # кінцева обробка \n",
    "    np.nan_to_num(data, copy = False, nan = 0)\n",
    "    if random_state:\n",
    "        np.random.seed(random_state)\n",
    "    rand_index = np.random.choice(range(data.shape[0]), data.shape[0], replace = False)\n",
    "    data = data[rand_index]\n",
    "    targets = targets[rand_index]\n",
    "    \n",
    "    data, targets = np.array(data), np.array(targets)\n",
    "    \n",
    "    if val_split and not test_split:\n",
    "        val_index = int(len(data) * (1 - val_split))\n",
    "        data, val_data = data[:val_index], data[val_index:]\n",
    "        targets, val_targets = targets[:val_index], targets[val_index:]\n",
    "        return (data, val_data), (targets, val_targets)\n",
    "    elif not val_split and test_split:\n",
    "        test_index = int(len(data) * (1 - val_split))\n",
    "        data, test_data = data[:test_index], data[test_index:]\n",
    "        targets, test_targets = targets[:test_index], targets[test_index:]\n",
    "        return (data, test_data), (targets, test_targets)        \n",
    "    elif val_split and test_split:\n",
    "        val_index = int(len(data) * (1 - val_split - test_split))\n",
    "        test_index = int(len(data) * (1 - test_split))\n",
    "        data, val_data, test_data = data[:val_index], data[val_index:test_index], data[test_index:]\n",
    "        targets, val_targets, test_targets = targets[:val_index], targets[val_index:test_index], targets[test_index:]\n",
    "        return (data, val_data, test_data), (targets, val_targets, test_targets)\n",
    "    else:\n",
    "        return data, targets"
   ]
  },
  {
   "cell_type": "code",
   "execution_count": 787,
   "metadata": {},
   "outputs": [],
   "source": [
    "def plot_history(history):\n",
    "    _, axes = matplotlib.pyplot.subplots(1, 2, figsize = (15, 5))\n",
    "    \n",
    "    x = range(len(history['loss']))\n",
    "    \n",
    "    sns.lineplot(x, history['loss'], ax = axes[0])\n",
    "    sns.lineplot(x, history['val_loss'], ax = axes[0])\n",
    "    axes[0].legend(['loss', 'val_loss'])\n",
    "    \n",
    "    sns.lineplot(x, history['accuracy'], ax = axes[1])\n",
    "    sns.lineplot(x, history['val_accuracy'], ax = axes[1])\n",
    "    axes[1].legend(['accuracy', 'val_accuracy'])\n",
    "\n",
    "\n",
    "def print_best_res(history):\n",
    "    min_val_loss = np.min(history['val_loss'])\n",
    "    max_val_accuracy = np.max(history['val_accuracy'])\n",
    "    print(f\"Best val_loss: {round(min_val_loss, 3)} ({history['val_loss'].index(min_val_loss)} epoch)\")\n",
    "    print(f\"Best val_accuracy: {round(max_val_accuracy, 3)} ({history['val_accuracy'].index(max_val_accuracy)} epoch)\")"
   ]
  },
  {
   "cell_type": "markdown",
   "metadata": {},
   "source": [
    "# Models"
   ]
  },
  {
   "cell_type": "code",
   "execution_count": 845,
   "metadata": {},
   "outputs": [
    {
     "name": "stdout",
     "output_type": "stream",
     "text": [
      "Wall time: 0 ns\n",
      "Targets: ['badminton', 'basketball', 'cycling', 'football', 'skipping', 'tabletennis']\n",
      "Loading data: badminton - target num: 0\n",
      "\t Number of samples: 10000\n",
      "Loading data: basketball - target num: 1\n",
      "\t Number of samples: 8400\n",
      "Loading data: cycling - target num: 2\n",
      "\t Number of samples: 11900\n",
      "Loading data: football - target num: 3\n",
      "\t Number of samples: 7700\n",
      "Loading data: skipping - target num: 4\n",
      "\t Number of samples: 14000\n",
      "Loading data: tabletennis - target num: 5\n",
      "\t Number of samples: 10500\n"
     ]
    }
   ],
   "source": [
    "%time\n",
    "(train_data, val_data, test_data), (train_targets, val_targets, test_targets) = data_to_numpy(PATH, \n",
    "                                                                                            window = 1, \n",
    "                                                                                            step_slice = 1, \n",
    "                                                                                            random_state = RANDOM_STATE,\n",
    "                                                                                            val_split=0.2,\n",
    "                                                                                            test_split=0.2)\n",
    "\n",
    "normalizer = Normalization(axis = -1)\n",
    "normalizer.adapt(train_data)\n",
    "\n",
    "train_data, val_data, test_data = normalizer(train_data), normalizer(val_data), normalizer(test_data)\n",
    "train_targets, val_targets, test_targets = to_categorical(train_targets), to_categorical(val_targets), to_categorical(test_targets)"
   ]
  },
  {
   "cell_type": "code",
   "execution_count": 848,
   "metadata": {},
   "outputs": [
    {
     "data": {
      "text/plain": [
       "(TensorShape([37500, 1, 9]),\n",
       " TensorShape([12500, 1, 9]),\n",
       " TensorShape([12500, 1, 9]))"
      ]
     },
     "execution_count": 848,
     "metadata": {},
     "output_type": "execute_result"
    }
   ],
   "source": [
    "train_data.shape, val_data.shape, test_data.shape"
   ]
  },
  {
   "cell_type": "code",
   "execution_count": 849,
   "metadata": {},
   "outputs": [
    {
     "data": {
      "text/plain": [
       "37500"
      ]
     },
     "execution_count": 849,
     "metadata": {},
     "output_type": "execute_result"
    }
   ],
   "source": [
    "len(train_targets)"
   ]
  },
  {
   "cell_type": "markdown",
   "metadata": {},
   "source": [
    "### Dense model"
   ]
  },
  {
   "cell_type": "code",
   "execution_count": 855,
   "metadata": {},
   "outputs": [
    {
     "name": "stdout",
     "output_type": "stream",
     "text": [
      "Model: \"sequential_26\"\n",
      "_________________________________________________________________\n",
      "Layer (type)                 Output Shape              Param #   \n",
      "=================================================================\n",
      "flatten_24 (Flatten)         (None, 9)                 0         \n",
      "_________________________________________________________________\n",
      "dense_58 (Dense)             (None, 128)               1280      \n",
      "_________________________________________________________________\n",
      "dense_59 (Dense)             (None, 128)               16512     \n",
      "_________________________________________________________________\n",
      "dense_60 (Dense)             (None, 6)                 774       \n",
      "=================================================================\n",
      "Total params: 18,566\n",
      "Trainable params: 18,566\n",
      "Non-trainable params: 0\n",
      "_________________________________________________________________\n"
     ]
    }
   ],
   "source": [
    "d_model = models.Sequential()\n",
    "d_model.add(layers.Flatten(input_shape = (train_data.shape[1], train_data.shape[2])))\n",
    "d_model.add(layers.Dense(128, activation = 'relu'))\n",
    "d_model.add(layers.Dense(128, activation = 'relu'))\n",
    "d_model.add(layers.Dense(6, activation = 'softmax'))\n",
    "\n",
    "d_model.compile(optimizer = 'rmsprop',\n",
    "               loss = 'categorical_crossentropy',\n",
    "               metrics = 'accuracy')\n",
    "d_model.summary()"
   ]
  },
  {
   "cell_type": "code",
   "execution_count": 856,
   "metadata": {},
   "outputs": [
    {
     "name": "stdout",
     "output_type": "stream",
     "text": [
      "Epoch 1/10\n",
      "670/670 [==============================] - 3s 3ms/step - loss: 0.5366 - accuracy: 0.8335 - val_loss: 0.0966 - val_accuracy: 0.9698\n",
      "Epoch 2/10\n",
      "670/670 [==============================] - 2s 3ms/step - loss: 0.0702 - accuracy: 0.9806 - val_loss: 0.0343 - val_accuracy: 0.9914\n",
      "Epoch 3/10\n",
      "670/670 [==============================] - 2s 3ms/step - loss: 0.0285 - accuracy: 0.9926 - val_loss: 0.0145 - val_accuracy: 0.9980\n",
      "Epoch 4/10\n",
      "670/670 [==============================] - 2s 2ms/step - loss: 0.0122 - accuracy: 0.9974 - val_loss: 0.0068 - val_accuracy: 0.9988\n",
      "Epoch 5/10\n",
      "670/670 [==============================] - 2s 3ms/step - loss: 0.0060 - accuracy: 0.9990 - val_loss: 0.0045 - val_accuracy: 0.9995\n",
      "Epoch 6/10\n",
      "670/670 [==============================] - 2s 3ms/step - loss: 0.0028 - accuracy: 0.9996 - val_loss: 0.0017 - val_accuracy: 0.9996\n",
      "Epoch 7/10\n",
      "670/670 [==============================] - 2s 3ms/step - loss: 0.0015 - accuracy: 0.9998 - val_loss: 0.0012 - val_accuracy: 1.0000\n",
      "Epoch 8/10\n",
      "670/670 [==============================] - 2s 2ms/step - loss: 7.8302e-04 - accuracy: 0.9998 - val_loss: 4.4787e-04 - val_accuracy: 1.0000\n",
      "Epoch 9/10\n",
      "670/670 [==============================] - 2s 2ms/step - loss: 3.4163e-04 - accuracy: 1.0000 - val_loss: 9.6742e-05 - val_accuracy: 1.0000\n",
      "Epoch 10/10\n",
      "670/670 [==============================] - 2s 2ms/step - loss: 1.6857e-04 - accuracy: 1.0000 - val_loss: 1.0676e-04 - val_accuracy: 1.0000\n",
      "Wall time: 18.7 s\n"
     ]
    }
   ],
   "source": [
    "%%time\n",
    "d_history = d_model.fit(train_data,\n",
    "                       train_targets,\n",
    "                       epochs = 10,\n",
    "                       batch_size = 56,\n",
    "                       validation_data = (val_data, val_targets))"
   ]
  },
  {
   "cell_type": "code",
   "execution_count": 853,
   "metadata": {},
   "outputs": [
    {
     "name": "stdout",
     "output_type": "stream",
     "text": [
      "391/391 [==============================] - 1s 3ms/step - loss: 3.4793e-07 - accuracy: 1.0000\n"
     ]
    },
    {
     "data": {
      "text/plain": [
       "[3.479295571651164e-07, 1.0]"
      ]
     },
     "execution_count": 853,
     "metadata": {},
     "output_type": "execute_result"
    }
   ],
   "source": [
    "d_model.evaluate(test_data, test_targets)"
   ]
  },
  {
   "cell_type": "code",
   "execution_count": 854,
   "metadata": {},
   "outputs": [
    {
     "name": "stdout",
     "output_type": "stream",
     "text": [
      "Best val_loss: 0.0 (9 epoch)\n",
      "Best val_accuracy: 1.0 (6 epoch)\n"
     ]
    },
    {
     "data": {
      "image/png": "[encoded data removed]",
      "text/plain": [
       "<Figure size 1080x360 with 2 Axes>"
      ]
     },
     "metadata": {
      "needs_background": "light"
     },
     "output_type": "display_data"
    }
   ],
   "source": [
    "plot_history(d_history.history)\n",
    "print_best_res(d_history.history)"
   ]
  },
  {
   "cell_type": "markdown",
   "metadata": {},
   "source": [
    "### RNN model"
   ]
  },
  {
   "cell_type": "code",
   "execution_count": 870,
   "metadata": {},
   "outputs": [
    {
     "name": "stdout",
     "output_type": "stream",
     "text": [
      "Wall time: 0 ns\n",
      "Targets: ['badminton', 'basketball', 'cycling', 'football', 'skipping', 'tabletennis']\n",
      "Loading data: badminton - target num: 0\n",
      "\t Number of samples: 1990\n",
      "Loading data: basketball - target num: 1\n",
      "\t Number of samples: 1668\n",
      "Loading data: cycling - target num: 2\n",
      "\t Number of samples: 2363\n",
      "Loading data: football - target num: 3\n",
      "\t Number of samples: 1529\n",
      "Loading data: skipping - target num: 4\n",
      "\t Number of samples: 2780\n",
      "Loading data: tabletennis - target num: 5\n",
      "\t Number of samples: 2085\n"
     ]
    }
   ],
   "source": [
    "%time\n",
    "(train_data, val_data, test_data), (train_targets, val_targets, test_targets) = data_to_numpy(PATH, \n",
    "                                                                                            window = 10, \n",
    "                                                                                            step_slice = 5, \n",
    "                                                                                            random_state = RANDOM_STATE,\n",
    "                                                                                            val_split=0.2,\n",
    "                                                                                            test_split=0.2)\n",
    "\n",
    "normalizer = Normalization(axis = -1)\n",
    "normalizer.adapt(train_data)\n",
    "\n",
    "train_data, val_data, test_data = normalizer(train_data), normalizer(val_data), normalizer(test_data)\n",
    "train_targets, val_targets, test_targets = to_categorical(train_targets), to_categorical(val_targets), to_categorical(test_targets)"
   ]
  },
  {
   "cell_type": "code",
   "execution_count": 871,
   "metadata": {},
   "outputs": [
    {
     "data": {
      "text/plain": [
       "(TensorShape([7449, 10, 9]),\n",
       " TensorShape([2483, 10, 9]),\n",
       " TensorShape([2483, 10, 9]))"
      ]
     },
     "execution_count": 871,
     "metadata": {},
     "output_type": "execute_result"
    }
   ],
   "source": [
    "train_data.shape, val_data.shape, test_data.shape"
   ]
  },
  {
   "cell_type": "code",
   "execution_count": 872,
   "metadata": {},
   "outputs": [
    {
     "name": "stdout",
     "output_type": "stream",
     "text": [
      "Model: \"sequential_32\"\n",
      "_________________________________________________________________\n",
      "Layer (type)                 Output Shape              Param #   \n",
      "=================================================================\n",
      "gru_6 (GRU)                  (None, 10, 32)            4128      \n",
      "_________________________________________________________________\n",
      "gru_7 (GRU)                  (None, 32)                6336      \n",
      "_________________________________________________________________\n",
      "dense_64 (Dense)             (None, 6)                 198       \n",
      "=================================================================\n",
      "Total params: 10,662\n",
      "Trainable params: 10,662\n",
      "Non-trainable params: 0\n",
      "_________________________________________________________________\n"
     ]
    }
   ],
   "source": [
    "RNN_model = models.Sequential()\n",
    "RNN_model.add(layers.GRU(32, \n",
    "               dropout = 0.2, \n",
    "               recurrent_dropout = 0.2, \n",
    "               kernel_regularizer = regularizers.l2(0.0001), \n",
    "               return_sequences = True,\n",
    "               input_shape = (train_data.shape[1], train_data.shape[2])))\n",
    "RNN_model.add(layers.GRU(32, \n",
    "               dropout = 0.2, \n",
    "               recurrent_dropout = 0.2, \n",
    "               kernel_regularizer = regularizers.l2(0.0001)))\n",
    "RNN_model.add(layers.Dense(6, activation = 'softmax'))\n",
    "\n",
    "RNN_model.compile(optimizer = 'rmsprop', loss = 'categorical_crossentropy', metrics = 'accuracy')\n",
    "\n",
    "RNN_model.summary()"
   ]
  },
  {
   "cell_type": "code",
   "execution_count": 873,
   "metadata": {},
   "outputs": [
    {
     "name": "stdout",
     "output_type": "stream",
     "text": [
      "Epoch 1/10\n",
      "134/134 [==============================] - 12s 26ms/step - loss: 1.1690 - accuracy: 0.6136 - val_loss: 0.4641 - val_accuracy: 0.8437\n",
      "Epoch 2/10\n",
      "134/134 [==============================] - 3s 20ms/step - loss: 0.4648 - accuracy: 0.8374 - val_loss: 0.2590 - val_accuracy: 0.9013\n",
      "Epoch 3/10\n",
      "134/134 [==============================] - 2s 19ms/step - loss: 0.2914 - accuracy: 0.8989 - val_loss: 0.1690 - val_accuracy: 0.9460\n",
      "Epoch 4/10\n",
      "134/134 [==============================] - 3s 19ms/step - loss: 0.2171 - accuracy: 0.9296 - val_loss: 0.1249 - val_accuracy: 0.9613\n",
      "Epoch 5/10\n",
      "134/134 [==============================] - 3s 21ms/step - loss: 0.1747 - accuracy: 0.9411 - val_loss: 0.0871 - val_accuracy: 0.9770\n",
      "Epoch 6/10\n",
      "134/134 [==============================] - 2s 18ms/step - loss: 0.1452 - accuracy: 0.9537 - val_loss: 0.0910 - val_accuracy: 0.9726\n",
      "Epoch 7/10\n",
      "134/134 [==============================] - 3s 20ms/step - loss: 0.1166 - accuracy: 0.9648 - val_loss: 0.0629 - val_accuracy: 0.9831\n",
      "Epoch 8/10\n",
      "134/134 [==============================] - 3s 19ms/step - loss: 0.1080 - accuracy: 0.9656 - val_loss: 0.0525 - val_accuracy: 0.9899\n",
      "Epoch 9/10\n",
      "134/134 [==============================] - 2s 18ms/step - loss: 0.0913 - accuracy: 0.9739 - val_loss: 0.0389 - val_accuracy: 0.9911\n",
      "Epoch 10/10\n",
      "134/134 [==============================] - 3s 19ms/step - loss: 0.0761 - accuracy: 0.9807 - val_loss: 0.0625 - val_accuracy: 0.9815\n",
      "Wall time: 35.2 s\n"
     ]
    }
   ],
   "source": [
    "%%time\n",
    "RNN_history = RNN_model.fit(train_data,\n",
    "                       train_targets,\n",
    "                       epochs = 10,\n",
    "                       batch_size = 56,\n",
    "                       validation_data = (val_data, val_targets))"
   ]
  },
  {
   "cell_type": "code",
   "execution_count": 874,
   "metadata": {},
   "outputs": [
    {
     "name": "stdout",
     "output_type": "stream",
     "text": [
      "Best val_loss: 0.039 (8 epoch)\n",
      "Best val_accuracy: 0.991 (8 epoch)\n"
     ]
    },
    {
     "data": {
      "image/png": "[encoded data removed]",
      "text/plain": [
       "<Figure size 1080x360 with 2 Axes>"
      ]
     },
     "metadata": {
      "needs_background": "light"
     },
     "output_type": "display_data"
    }
   ],
   "source": [
    "plot_history(RNN_history.history)\n",
    "print_best_res(RNN_history.history)"
   ]
  }
 ],
 "metadata": {
  "kernelspec": {
   "display_name": "Python 3",
   "language": "python",
   "name": "python3"
  },
  "language_info": {
   "codemirror_mode": {
    "name": "ipython",
    "version": 3
   },
   "file_extension": ".py",
   "mimetype": "text/x-python",
   "name": "python",
   "nbconvert_exporter": "python",
   "pygments_lexer": "ipython3",
   "version": "3.8.3"
  }
 },
 "nbformat": 4,
 "nbformat_minor": 4
}
