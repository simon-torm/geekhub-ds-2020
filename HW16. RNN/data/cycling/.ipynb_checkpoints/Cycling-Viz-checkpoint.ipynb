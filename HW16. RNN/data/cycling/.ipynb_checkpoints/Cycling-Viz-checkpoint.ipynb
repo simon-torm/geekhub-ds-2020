{
 "cells": [
  {
   "cell_type": "code",
   "execution_count": 1,
   "metadata": {},
   "outputs": [],
   "source": [
    "import pandas as pd\n",
    "import matplotlib.pyplot as plt"
   ]
  },
  {
   "cell_type": "code",
   "execution_count": null,
   "metadata": {},
   "outputs": [],
   "source": [
    "# d = pd.read_csv('001-M-cycling.csv')\n",
    "d = pd.read_csv('002-F-cycling.csv')\n",
    "# d = pd.read_csv('003-M-cycling.csv')\n",
    "# d = pd.read_csv('004-M-cycling.csv')\n",
    "# d = pd.read_csv('005-M-cycling.csv')\n",
    "# d = pd.read_csv('006-M-cycling.csv')\n",
    "# d = pd.read_csv('007-M-cycling.csv')\n",
    "# d = pd.read_csv('008-M-cycling.csv')\n",
    "# d = pd.read_csv('009-M-cycling.csv')\n",
    "# d = pd.read_csv('010-M-cycling.csv')"
   ]
  }
 ],
 "metadata": {
  "kernelspec": {
   "display_name": "Python 3",
   "language": "python",
   "name": "python3"
  },
  "language_info": {
   "codemirror_mode": {
    "name": "ipython",
    "version": 3
   },
   "file_extension": ".py",
   "mimetype": "text/x-python",
   "name": "python",
   "nbconvert_exporter": "python",
   "pygments_lexer": "ipython3",
   "version": "3.6.4"
  }
 },
 "nbformat": 4,
 "nbformat_minor": 2
}
