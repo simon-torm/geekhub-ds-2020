{
 "cells": [
  {
   "cell_type": "markdown",
   "metadata": {},
   "source": [
    "<center>\n",
    "<img src=\"https://habrastorage.org/web/677/8e1/337/6778e1337c3d4b159d7e99df94227cb2.jpg\"/>\n",
    "## Специализация \"Машинное обучение и анализ данных\"\n",
    "<center>Автор материала: программист-исследователь Mail.Ru Group, старший преподаватель Факультета Компьютерных Наук ВШЭ [Юрий Кашницкий](https://yorko.github.io/)"
   ]
  },
  {
   "cell_type": "markdown",
   "metadata": {},
   "source": [
    "# <center> Capstone проект №1 <br> Идентификация пользователей по посещенным веб-страницам\n",
    "<img src='http://i.istockimg.com/file_thumbview_approve/21546327/5/stock-illustration-21546327-identification-de-l-utilisateur.jpg'>\n",
    "\n",
    "# <center>Неделя 4.  Сравнение алгоритмов классификации\n",
    "\n",
    "Теперь мы наконец подойдем к обучению моделей классификации, сравним на кросс-валидации несколько алгоритмов, разберемся, какие параметры длины сессии (*session_length* и *window_size*) лучше использовать. Также для выбранного алгоритма построим кривые валидации (как качество классификации зависит от одного из гиперпараметров алгоритма) и кривые обучения (как качество классификации зависит от объема выборки).\n",
    "\n",
    "**План 4 недели:**\n",
    "- Часть 1. Сравнение нескольких алгоритмов на сессиях из 10 сайтов\n",
    "- Часть 2. Выбор параметров – длины сессии и ширины окна\n",
    "- Часть 3. Идентификация  конкретного пользователя и кривые обучения\n",
    " \n",
    "\n",
    "\n",
    "**В этой части проекта Вам могут быть полезны видеозаписи следующих лекций курса \"Обучение на размеченных данных\":**\n",
    "   - [Линейная классификация](https://www.coursera.org/learn/supervised-learning/lecture/jqLcO/linieinaia-klassifikatsiia)\n",
    "   - [Сравнение алгоритмов и выбор гиперпараметров](https://www.coursera.org/learn/supervised-learning/lecture/aF79U/sravnieniie-alghoritmov-i-vybor-ghipierparamietrov)\n",
    "   - [Кросс-валидация. Sklearn.cross_validation](https://www.coursera.org/learn/supervised-learning/lecture/XbHEk/kross-validatsiia-sklearn-cross-validation)\n",
    "   - [Линейные модели. Sklearn.linear_model. Классификация](https://www.coursera.org/learn/supervised-learning/lecture/EBg9t/linieinyie-modieli-sklearn-linear-model-klassifikatsiia)\n",
    "   - и многие другие\n"
   ]
  },
  {
   "cell_type": "markdown",
   "metadata": {},
   "source": [
    "### Задание\n",
    "1. Заполните код в этой тетрадке \n",
    "2. Если вы проходите специализацию Яндеса и МФТИ, пошлите файл с ответами в соответствующем Programming Assignment. <br> Если вы проходите курс ODS, выберите ответы в [веб-форме](https://docs.google.com/forms/d/12VB7kmzDoSVzSpQNaJp0tR-2t8K8PynQopP3dypf7i4).  "
   ]
  },
  {
   "cell_type": "code",
   "execution_count": 1,
   "metadata": {},
   "outputs": [],
   "source": [
    "# pip install watermark\n",
    "%load_ext watermark"
   ]
  },
  {
   "cell_type": "code",
   "execution_count": 2,
   "metadata": {},
   "outputs": [
    {
     "name": "stdout",
     "output_type": "stream",
     "text": [
      "Python implementation: CPython\n",
      "Python version       : 3.8.3\n",
      "IPython version      : 7.16.1\n",
      "\n",
      "numpy      : 1.18.5\n",
      "scipy      : 1.5.0\n",
      "pandas     : 1.0.5\n",
      "matplotlib : 3.2.2\n",
      "statsmodels: 0.11.1\n",
      "sklearn    : 0.23.1\n",
      "\n",
      "Compiler    : MSC v.1916 64 bit (AMD64)\n",
      "OS          : Windows\n",
      "Release     : 10\n",
      "Machine     : AMD64\n",
      "Processor   : Intel64 Family 6 Model 61 Stepping 4, GenuineIntel\n",
      "CPU cores   : 4\n",
      "Architecture: 64bit\n",
      "\n",
      "Git hash: 40630547c3a22e6906cd65a4132f6f602914b368\n",
      "\n"
     ]
    }
   ],
   "source": [
    "%watermark -v -m -p numpy,scipy,pandas,matplotlib,statsmodels,sklearn -g"
   ]
  },
  {
   "cell_type": "code",
   "execution_count": 134,
   "metadata": {},
   "outputs": [],
   "source": [
    "from __future__ import division, print_function\n",
    "# отключим всякие предупреждения Anaconda\n",
    "import warnings\n",
    "warnings.filterwarnings('ignore')\n",
    "from time import time\n",
    "import itertools\n",
    "import os\n",
    "import numpy as np\n",
    "import pandas as pd\n",
    "import seaborn as sns\n",
    "%matplotlib inline\n",
    "from matplotlib import pyplot as plt\n",
    "import pickle\n",
    "from scipy.sparse import csr_matrix\n",
    "from sklearn.model_selection import train_test_split, cross_val_score, StratifiedKFold, GridSearchCV\n",
    "from sklearn.metrics import accuracy_score, f1_score\n",
    "\n",
    "from tqdm import tqdm_notebook"
   ]
  },
  {
   "cell_type": "code",
   "execution_count": 4,
   "metadata": {},
   "outputs": [],
   "source": [
    "# Поменяйте на свой путь к данным\n",
    "PATH_TO_DATA = 'capstone_user_identification'"
   ]
  },
  {
   "cell_type": "markdown",
   "metadata": {},
   "source": [
    "## Часть 1. Сравнение нескольких алгоритмов на сессиях из 10 сайтов"
   ]
  },
  {
   "cell_type": "markdown",
   "metadata": {},
   "source": [
    "**Загрузим сериализованные ранее объекты *X_sparse_10users* и *y_10users*, соответствующие обучающей выборке для 10 пользователей.**"
   ]
  },
  {
   "cell_type": "code",
   "execution_count": 5,
   "metadata": {},
   "outputs": [],
   "source": [
    "with open(os.path.join(PATH_TO_DATA, \n",
    "         'X_sparse_10users.pkl'), 'rb') as X_sparse_10users_pkl:\n",
    "    X_sparse_10users = pickle.load(X_sparse_10users_pkl)\n",
    "with open(os.path.join(PATH_TO_DATA, \n",
    "                       'y_10users.pkl'), 'rb') as y_10users_pkl:\n",
    "    y_10users = pickle.load(y_10users_pkl)"
   ]
  },
  {
   "cell_type": "markdown",
   "metadata": {},
   "source": [
    "**Здесь более 14 тысяч сессий и почти 5 тысяч уникальных посещенных сайтов.**"
   ]
  },
  {
   "cell_type": "code",
   "execution_count": 6,
   "metadata": {},
   "outputs": [
    {
     "data": {
      "text/plain": [
       "(14063, 4913)"
      ]
     },
     "execution_count": 6,
     "metadata": {},
     "output_type": "execute_result"
    }
   ],
   "source": [
    "X_sparse_10users.shape"
   ]
  },
  {
   "cell_type": "markdown",
   "metadata": {},
   "source": [
    "**Разобьем выборку на 2 части. На одной будем проводить кросс-валидацию, на второй – оценивать модель, обученную после кросс-валидации.**"
   ]
  },
  {
   "cell_type": "code",
   "execution_count": 7,
   "metadata": {},
   "outputs": [],
   "source": [
    "X_train, X_valid, y_train, y_valid = train_test_split(X_sparse_10users, y_10users, \n",
    "                                                      test_size=0.3, \n",
    "                                                     random_state=17, stratify=y_10users)"
   ]
  },
  {
   "cell_type": "markdown",
   "metadata": {},
   "source": [
    "**Зададим заранее тип кросс-валидации: 3-кратная, с перемешиванием, параметр random_state=17 – для воспроизводимости.**"
   ]
  },
  {
   "cell_type": "code",
   "execution_count": 8,
   "metadata": {},
   "outputs": [],
   "source": [
    "skf = StratifiedKFold(n_splits=3, shuffle=True, random_state=17)"
   ]
  },
  {
   "cell_type": "markdown",
   "metadata": {},
   "source": [
    "**Вспомогательная функция для отрисовки кривых валидации после запуска GridSearchCV (или RandomizedCV).**"
   ]
  },
  {
   "cell_type": "code",
   "execution_count": 9,
   "metadata": {},
   "outputs": [],
   "source": [
    "def plot_validation_curves(param_values, grid_cv_results_):\n",
    "    train_mu, train_std = grid_cv_results_['mean_train_score'], grid_cv_results_['std_train_score']\n",
    "    valid_mu, valid_std = grid_cv_results_['mean_test_score'], grid_cv_results_['std_test_score']\n",
    "    train_line = plt.plot(param_values, train_mu, '-', label='train', color='green')\n",
    "    valid_line = plt.plot(param_values, valid_mu, '-', label='test', color='red')\n",
    "    plt.fill_between(param_values, train_mu - train_std, train_mu + train_std, edgecolor='none',\n",
    "                     facecolor=train_line[0].get_color(), alpha=0.2)\n",
    "    plt.fill_between(param_values, valid_mu - valid_std, valid_mu + valid_std, edgecolor='none',\n",
    "                     facecolor=valid_line[0].get_color(), alpha=0.2)\n",
    "    plt.legend()"
   ]
  },
  {
   "cell_type": "markdown",
   "metadata": {},
   "source": [
    "**1. Обучите `KNeighborsClassifier` со 100 ближайшими соседями (остальные параметры оставьте по умолчанию, только `n_jobs`=-1 для распараллеливания) и посмотрите на долю правильных ответов на 3-кратной кросс-валидации (ради воспроизводимости используйте для этого объект `StratifiedKFold` `skf`) по выборке `(X_train, y_train)` и отдельно на выборке `(X_valid, y_valid)`.**"
   ]
  },
  {
   "cell_type": "code",
   "execution_count": 10,
   "metadata": {},
   "outputs": [],
   "source": [
    "from sklearn.neighbors import KNeighborsClassifier"
   ]
  },
  {
   "cell_type": "code",
   "execution_count": 11,
   "metadata": {},
   "outputs": [],
   "source": [
    "knn = KNeighborsClassifier(n_neighbors = 100, n_jobs = -1)"
   ]
  },
  {
   "cell_type": "markdown",
   "metadata": {},
   "source": [
    "**<font color='red'>Вопрос 1. </font> Посчитайте доли правильных ответов для KNeighborsClassifier на кросс-валидации и отложенной выборке. Округлите каждое до 3 знаков после запятой и введите через пробел.**"
   ]
  },
  {
   "cell_type": "code",
   "execution_count": 12,
   "metadata": {},
   "outputs": [
    {
     "name": "stdout",
     "output_type": "stream",
     "text": [
      "0.502\n",
      "0.588\n"
     ]
    }
   ],
   "source": [
    "print(round(cross_val_score(knn, X_valid, y_valid, cv = skf).mean(), 3))\n",
    "print(round(knn.fit(X_train, y_train).score(X_valid, y_valid), 3))"
   ]
  },
  {
   "cell_type": "markdown",
   "metadata": {},
   "source": [
    "**2. Обучите случайный лес (`RandomForestClassifier`) из 100 деревьев (для воспроизводимости `random_state`=17). Посмотрите на OOB-оценку (для этого надо сразу установить `oob_score`=True) и на долю правильных ответов на выборке `(X_valid, y_valid)`. Для распараллеливания задайте `n_jobs`=-1.**"
   ]
  },
  {
   "cell_type": "code",
   "execution_count": 13,
   "metadata": {},
   "outputs": [],
   "source": [
    "from sklearn.ensemble import RandomForestClassifier"
   ]
  },
  {
   "cell_type": "code",
   "execution_count": 14,
   "metadata": {},
   "outputs": [],
   "source": [
    "forest = RandomForestClassifier(n_estimators = 100, n_jobs = -1, oob_score = True, random_state = 17)"
   ]
  },
  {
   "cell_type": "markdown",
   "metadata": {},
   "source": [
    "**<font color='red'>Вопрос 2. </font> Посчитайте доли правильных ответов для `RandomForestClassifier` при Out-of-Bag оценке и на отложенной выборке. Округлите каждое до 3 знаков после запятой и введите через пробел.**"
   ]
  },
  {
   "cell_type": "code",
   "execution_count": 15,
   "metadata": {},
   "outputs": [
    {
     "name": "stdout",
     "output_type": "stream",
     "text": [
      "Wall time: 10.7 s\n"
     ]
    },
    {
     "data": {
      "text/plain": [
       "0.729"
      ]
     },
     "execution_count": 15,
     "metadata": {},
     "output_type": "execute_result"
    }
   ],
   "source": [
    "%%time\n",
    "round(forest.fit(X_train, y_train).score(X_valid, y_valid), 3)"
   ]
  },
  {
   "cell_type": "code",
   "execution_count": 16,
   "metadata": {},
   "outputs": [],
   "source": [
    "# write_answer_to_file(''' ВАШ КОД ЗДЕСЬ ''',\n",
    "#                      'answer4_2.txt')"
   ]
  },
  {
   "cell_type": "code",
   "execution_count": 17,
   "metadata": {},
   "outputs": [],
   "source": [
    "# !cat answer4_2.txt"
   ]
  },
  {
   "cell_type": "markdown",
   "metadata": {},
   "source": [
    "**3. Обучите логистическую регрессию (`LogisticRegression`) с параметром `C` по умолчанию и `random_state`=17 (для воспроизводимости). Посмотрите на долю правильных ответов на кросс-валидации (используйте объект `skf`, созданный ранее) и на выборке `(X_valid, y_valid)`. Для распараллеливания задайте `n_jobs=-1`.**"
   ]
  },
  {
   "cell_type": "code",
   "execution_count": 18,
   "metadata": {},
   "outputs": [],
   "source": [
    "from sklearn.linear_model import LogisticRegression, LogisticRegressionCV"
   ]
  },
  {
   "cell_type": "code",
   "execution_count": 19,
   "metadata": {},
   "outputs": [],
   "source": [
    "logit = LogisticRegression(n_jobs = -1)"
   ]
  },
  {
   "cell_type": "code",
   "execution_count": 20,
   "metadata": {},
   "outputs": [
    {
     "data": {
      "text/plain": [
       "0.7750651813225883"
      ]
     },
     "execution_count": 20,
     "metadata": {},
     "output_type": "execute_result"
    }
   ],
   "source": [
    "logit.fit(X_train, y_train).score(X_valid, y_valid)"
   ]
  },
  {
   "cell_type": "code",
   "execution_count": 21,
   "metadata": {},
   "outputs": [
    {
     "data": {
      "text/plain": [
       "0.7606664733822538"
      ]
     },
     "execution_count": 21,
     "metadata": {},
     "output_type": "execute_result"
    }
   ],
   "source": [
    "logit_cvs = cross_val_score(logit, X_train, y_train, cv = skf, n_jobs = -1)\n",
    "logit_cvs.mean()"
   ]
  },
  {
   "cell_type": "markdown",
   "metadata": {},
   "source": [
    "**Почитайте документацию к [LogisticRegressionCV](http://scikit-learn.org/stable/modules/generated/sklearn.linear_model.LogisticRegressionCV.html). Логистическая регрессия хорошо изучена, и для нее существуют алгоритмы быстрого подбора параметра регуляризации `C` (быстрее, чем с `GridSearchCV`).**\n",
    "\n",
    "**С помощью `LogisticRegressionCV` подберите параметр `C` для `LogisticRegression` сначала в широком диапазоне: 10 значений от 1e-4 до 1e2, используйте `logspace` из `NumPy`. Укажите у `LogisticRegressionCV` параметры `multi_class`='multinomial' и `random_state`=17. Для кросс-валидации используйте объект `skf`, созданный ранее. Для распараллеливания задайте `n_jobs=-1`.**\n",
    "\n",
    "**Нарисуйте кривые валидации по параметру `C`.**"
   ]
  },
  {
   "cell_type": "code",
   "execution_count": 22,
   "metadata": {},
   "outputs": [
    {
     "name": "stdout",
     "output_type": "stream",
     "text": [
      "Wall time: 25.8 s\n"
     ]
    },
    {
     "data": {
      "text/plain": [
       "LogisticRegressionCV(Cs=array([1.00000000e-04, 4.64158883e-04, 2.15443469e-03, 1.00000000e-02,\n",
       "       4.64158883e-02, 2.15443469e-01, 1.00000000e+00, 4.64158883e+00,\n",
       "       2.15443469e+01, 1.00000000e+02]),\n",
       "                     cv=StratifiedKFold(n_splits=3, random_state=17, shuffle=True),\n",
       "                     multi_class='multinomial', n_jobs=-1, random_state=17)"
      ]
     },
     "execution_count": 22,
     "metadata": {},
     "output_type": "execute_result"
    }
   ],
   "source": [
    "%%time\n",
    "logit_c_values1 = np.logspace(-4, 2, 10)\n",
    "\n",
    "logit_grid_searcher1 = LogisticRegressionCV(Cs = logit_c_values1, \n",
    "                                            multi_class = 'multinomial', \n",
    "                                            cv = skf,\n",
    "                                            random_state = 17, \n",
    "                                            n_jobs = -1)\n",
    "logit_grid_searcher1.fit(X_train, y_train)"
   ]
  },
  {
   "cell_type": "markdown",
   "metadata": {},
   "source": [
    "Средние значения доли правильных ответов на кросс-валидации по каждому из 10 параметров `C`."
   ]
  },
  {
   "cell_type": "code",
   "execution_count": 23,
   "metadata": {},
   "outputs": [],
   "source": [
    "logit_mean_cv_scores1 = list()\n",
    "\n",
    "# прохід по всім C\n",
    "for idx, C in enumerate(logit_grid_searcher1.Cs_):\n",
    "    scores = list()\n",
    "    # прохід по словнику оцінок класів для отримання середнього по всім класам\n",
    "    for k, v in logit_grid_searcher1.scores_.items():\n",
    "        scores.append(np.mean([v[i][idx] for i in range(skf.n_splits)]))\n",
    "    # додаємо середню оцінку по класам для певного C\n",
    "    logit_mean_cv_scores1.append(np.mean(scores))"
   ]
  },
  {
   "cell_type": "markdown",
   "metadata": {},
   "source": [
    "Выведите лучшее значение доли правильных ответов на кросс-валидации и соответствующее значение `C`."
   ]
  },
  {
   "cell_type": "code",
   "execution_count": 24,
   "metadata": {},
   "outputs": [
    {
     "name": "stdout",
     "output_type": "stream",
     "text": [
      "0.0001: 0.33739713501981106\n",
      "0.0005: 0.48110907982937234\n",
      "0.0022: 0.5621572212065813\n",
      "0.01: 0.6547836684948203\n",
      "0.0464: 0.7221206581352834\n",
      "0.2154: 0.7576958244437673\n",
      "1.0: 0.7619628162145686\n",
      "4.6416: 0.7656202377323986\n",
      "21.5443: 0.7549527583053947\n",
      "100.0: 0.7488570557756782\n"
     ]
    }
   ],
   "source": [
    "# прохід по всім C\n",
    "for idx, C in enumerate(logit_grid_searcher1.Cs_):\n",
    "    scores = list()\n",
    "    # прохід по словнику оцінок класів для отримання максимального по всім класам\n",
    "    for k, v in logit_grid_searcher1.scores_.items():\n",
    "        scores.append(np.max([v[i][idx] for i in range(skf.n_splits)]))\n",
    "    # додаємо макс оцінку по класам для певного C\n",
    "    print(f\"{round(C, 4)}: {np.mean(scores)}\")"
   ]
  },
  {
   "cell_type": "markdown",
   "metadata": {},
   "source": [
    "Нарисуйте график зависимости доли правильных ответов на кросс-валидации от `C`."
   ]
  },
  {
   "cell_type": "code",
   "execution_count": 25,
   "metadata": {},
   "outputs": [
    {
     "data": {
      "image/png": "[encoded data removed]",
      "text/plain": [
       "<Figure size 432x288 with 1 Axes>"
      ]
     },
     "metadata": {
      "needs_background": "light"
     },
     "output_type": "display_data"
    }
   ],
   "source": [
    "ax = sns.lineplot(logit_c_values1, logit_mean_cv_scores1);\n",
    "ax.set_xlabel(\"C\")\n",
    "ax.set_ylabel(\"score\");"
   ]
  },
  {
   "cell_type": "markdown",
   "metadata": {},
   "source": [
    "**Теперь то же самое, только значения параметра `C` перебирайте в диапазоне `np.linspace`(0.1, 7, 20). Опять нарисуйте кривые валидации, определите максимальное значение доли правильных ответов на кросс-валидации.**"
   ]
  },
  {
   "cell_type": "code",
   "execution_count": 26,
   "metadata": {},
   "outputs": [
    {
     "name": "stdout",
     "output_type": "stream",
     "text": [
      "Wall time: 1min 11s\n"
     ]
    },
    {
     "data": {
      "text/plain": [
       "LogisticRegressionCV(Cs=array([0.1       , 0.46315789, 0.82631579, 1.18947368, 1.55263158,\n",
       "       1.91578947, 2.27894737, 2.64210526, 3.00526316, 3.36842105,\n",
       "       3.73157895, 4.09473684, 4.45789474, 4.82105263, 5.18421053,\n",
       "       5.54736842, 5.91052632, 6.27368421, 6.63684211, 7.        ]),\n",
       "                     cv=StratifiedKFold(n_splits=3, random_state=17, shuffle=True),\n",
       "                     multi_class='multinomial', n_jobs=-1, random_state=17)"
      ]
     },
     "execution_count": 26,
     "metadata": {},
     "output_type": "execute_result"
    }
   ],
   "source": [
    "%%time\n",
    "logit_c_values2 = np.linspace(0.1, 7, 20)\n",
    "\n",
    "logit_grid_searcher2 = LogisticRegressionCV(Cs = logit_c_values2, \n",
    "                                            multi_class = 'multinomial', \n",
    "                                            cv = skf,\n",
    "                                            random_state = 17, \n",
    "                                            n_jobs = -1)\n",
    "logit_grid_searcher2.fit(X_train, y_train)"
   ]
  },
  {
   "cell_type": "markdown",
   "metadata": {},
   "source": [
    "Средние значения доли правильных ответов на кросс-валидации по каждому из 10 параметров `C`."
   ]
  },
  {
   "cell_type": "code",
   "execution_count": 27,
   "metadata": {},
   "outputs": [],
   "source": [
    "logit_mean_cv_scores2 = list()\n",
    "\n",
    "# прохід по всім C\n",
    "for idx, C in enumerate(logit_grid_searcher2.Cs_):\n",
    "    scores = list()\n",
    "    # прохід по словнику оцінок класів для отримання середнього по всім класам\n",
    "    for k, v in logit_grid_searcher2.scores_.items():\n",
    "        scores.append(np.mean([v[i][idx] for i in range(skf.n_splits)]))\n",
    "    # додаємо середню оцінку по класам для певного C\n",
    "    logit_mean_cv_scores2.append(np.mean(scores))"
   ]
  },
  {
   "cell_type": "markdown",
   "metadata": {},
   "source": [
    "Выведите лучшее значение доли правильных ответов на кросс-валидации и соответствующее значение `C`."
   ]
  },
  {
   "cell_type": "code",
   "execution_count": 28,
   "metadata": {},
   "outputs": [
    {
     "name": "stdout",
     "output_type": "stream",
     "text": [
      "Best C: 1.5526315789473686. Score: 0.7615809216273803\n"
     ]
    }
   ],
   "source": [
    "logit_max_cv_score2 = max(logit_mean_cv_scores2)\n",
    "logit_max_cv_C2 = logit_grid_searcher2.Cs_[logit_mean_cv_scores2.index(logit_max_cv_score2)]\n",
    "\n",
    "print(f\"Best C: {logit_max_cv_C2}. Score: {logit_max_cv_score2}\")"
   ]
  },
  {
   "cell_type": "markdown",
   "metadata": {},
   "source": [
    "Нарисуйте график зависимости доли правильных ответов на кросс-валидации от `C`."
   ]
  },
  {
   "cell_type": "code",
   "execution_count": 29,
   "metadata": {},
   "outputs": [
    {
     "data": {
      "image/png": "[encoded data removed]",
      "text/plain": [
       "<Figure size 432x288 with 1 Axes>"
      ]
     },
     "metadata": {
      "needs_background": "light"
     },
     "output_type": "display_data"
    }
   ],
   "source": [
    "plt.plot(logit_c_values2, logit_mean_cv_scores2);"
   ]
  },
  {
   "cell_type": "markdown",
   "metadata": {},
   "source": [
    "Выведите долю правильных ответов на выборке `(X_valid, y_valid)` для логистической регрессии с лучшим найденным значением `C`."
   ]
  },
  {
   "cell_type": "code",
   "execution_count": 30,
   "metadata": {},
   "outputs": [
    {
     "data": {
      "text/plain": [
       "0.7774354112348898"
      ]
     },
     "execution_count": 30,
     "metadata": {},
     "output_type": "execute_result"
    }
   ],
   "source": [
    "logit_cv_acc = accuracy_score(y_valid, logit_grid_searcher2.predict(X_valid))\n",
    "logit_cv_acc"
   ]
  },
  {
   "cell_type": "markdown",
   "metadata": {},
   "source": [
    "**<font color='red'>Вопрос 3. </font>Посчитайте доли правильных ответов для `logit_grid_searcher2` на кросс-валидации для лучшего значения параметра `C` и на отложенной выборке. Округлите каждое до 3 знаков после запятой и выведите через пробел.**"
   ]
  },
  {
   "cell_type": "code",
   "execution_count": 31,
   "metadata": {},
   "outputs": [
    {
     "name": "stdout",
     "output_type": "stream",
     "text": [
      "0.758 0.777\n"
     ]
    }
   ],
   "source": [
    "cv_score = cross_val_score(logit_grid_searcher2, X_train, y_train, cv = skf).mean()\n",
    "valid_score = logit_grid_searcher2.score(X_valid, y_valid)\n",
    "print(f\"{round(cv_score, 3)} {round(valid_score, 3)}\")"
   ]
  },
  {
   "cell_type": "markdown",
   "metadata": {},
   "source": [
    "**4. Обучите линейный SVM (`LinearSVC`) с параметром `C`=1 и `random_state`=17 (для воспроизводимости). Посмотрите на долю правильных ответов на кросс-валидации (используйте объект `skf`, созданный ранее) и на выборке `(X_valid, y_valid)`.**"
   ]
  },
  {
   "cell_type": "code",
   "execution_count": 32,
   "metadata": {},
   "outputs": [],
   "source": [
    "from sklearn.svm import LinearSVC"
   ]
  },
  {
   "cell_type": "code",
   "execution_count": 33,
   "metadata": {},
   "outputs": [
    {
     "data": {
      "text/plain": [
       "0.7529458692824077"
      ]
     },
     "execution_count": 33,
     "metadata": {},
     "output_type": "execute_result"
    }
   ],
   "source": [
    "svm = LinearSVC(C = 1, random_state = 17)\n",
    "cross_val_score(svm, X_train, y_train, cv = skf).mean()"
   ]
  },
  {
   "cell_type": "code",
   "execution_count": 34,
   "metadata": {},
   "outputs": [
    {
     "data": {
      "text/plain": [
       "0.7764873192699692"
      ]
     },
     "execution_count": 34,
     "metadata": {},
     "output_type": "execute_result"
    }
   ],
   "source": [
    "svm.fit(X_train, y_train).score(X_valid, y_valid)"
   ]
  },
  {
   "cell_type": "markdown",
   "metadata": {},
   "source": [
    "**С помощью `GridSearchCV` подберите параметр `C` для SVM сначала в широком диапазоне: 10 значений от 1e-4 до 1e4, используйте `linspace` из NumPy. Нарисуйте кривые валидации.**"
   ]
  },
  {
   "cell_type": "code",
   "execution_count": 35,
   "metadata": {},
   "outputs": [
    {
     "name": "stdout",
     "output_type": "stream",
     "text": [
      "Wall time: 47.6 s\n"
     ]
    },
    {
     "data": {
      "text/plain": [
       "GridSearchCV(cv=StratifiedKFold(n_splits=3, random_state=17, shuffle=True),\n",
       "             estimator=LinearSVC(), n_jobs=-1,\n",
       "             param_grid={'C': array([1.0000000e-04, 1.1111112e+03, 2.2222223e+03, 3.3333334e+03,\n",
       "       4.4444445e+03, 5.5555556e+03, 6.6666667e+03, 7.7777778e+03,\n",
       "       8.8888889e+03, 1.0000000e+04])},\n",
       "             return_train_score=True)"
      ]
     },
     "execution_count": 35,
     "metadata": {},
     "output_type": "execute_result"
    }
   ],
   "source": [
    "%%time\n",
    "svm_params1 = {'C': np.linspace(1e-4, 1e4, 10)}\n",
    "\n",
    "svm_grid_searcher1 = GridSearchCV(LinearSVC(), svm_params1, n_jobs = -1, cv = skf, return_train_score = True)\n",
    "svm_grid_searcher1.fit(X_train, y_train)"
   ]
  },
  {
   "cell_type": "markdown",
   "metadata": {},
   "source": [
    "Выведите лучшее значение доли правильных ответов на кросс-валидации и соответствующее значение `C`."
   ]
  },
  {
   "cell_type": "code",
   "execution_count": 36,
   "metadata": {},
   "outputs": [
    {
     "name": "stdout",
     "output_type": "stream",
     "text": [
      "{'C': 10000.0}. Score: 0.6917928974231201\n"
     ]
    }
   ],
   "source": [
    "print(f\"{svm_grid_searcher1.best_params_}. Score: {svm_grid_searcher1.best_score_}\")"
   ]
  },
  {
   "cell_type": "markdown",
   "metadata": {},
   "source": [
    "Нарисуйте график зависимости доли правильных ответов на кросс-валидации от `C`."
   ]
  },
  {
   "cell_type": "code",
   "execution_count": 37,
   "metadata": {},
   "outputs": [
    {
     "data": {
      "image/png": "[encoded data removed]",
      "text/plain": [
       "<Figure size 432x288 with 1 Axes>"
      ]
     },
     "metadata": {
      "needs_background": "light"
     },
     "output_type": "display_data"
    }
   ],
   "source": [
    "plot_validation_curves(svm_params1['C'], svm_grid_searcher1.cv_results_)"
   ]
  },
  {
   "cell_type": "markdown",
   "metadata": {},
   "source": [
    "**Но мы помним, что с параметром регуляризации по умолчанию (С=1) на кросс-валидации доля правильных ответов выше. Это тот случай (не редкий), когда можно ошибиться и перебирать параметры не в том диапазоне (причина в том, что мы взяли равномерную сетку на большом интервале и упустили действительно хороший интервал значений `C`). Здесь намного осмысленней подбирать `C` в районе 1, к тому же, так модель быстрее обучается, чем при больших `C`. **\n",
    "\n",
    "**С помощью `GridSearchCV` подберите параметр `C` для SVM в диапазоне (1e-3, 1), 30 значений, используйте `linspace` из NumPy. Нарисуйте кривые валидации.**"
   ]
  },
  {
   "cell_type": "code",
   "execution_count": 38,
   "metadata": {},
   "outputs": [
    {
     "name": "stdout",
     "output_type": "stream",
     "text": [
      "Wall time: 1min 14s\n"
     ]
    },
    {
     "data": {
      "text/plain": [
       "GridSearchCV(cv=StratifiedKFold(n_splits=3, random_state=17, shuffle=True),\n",
       "             estimator=LinearSVC(), n_jobs=-1,\n",
       "             param_grid={'C': array([0.001     , 0.03544828, 0.06989655, 0.10434483, 0.1387931 ,\n",
       "       0.17324138, 0.20768966, 0.24213793, 0.27658621, 0.31103448,\n",
       "       0.34548276, 0.37993103, 0.41437931, 0.44882759, 0.48327586,\n",
       "       0.51772414, 0.55217241, 0.58662069, 0.62106897, 0.65551724,\n",
       "       0.68996552, 0.72441379, 0.75886207, 0.79331034, 0.82775862,\n",
       "       0.8622069 , 0.89665517, 0.93110345, 0.96555172, 1.        ])},\n",
       "             return_train_score=True)"
      ]
     },
     "execution_count": 38,
     "metadata": {},
     "output_type": "execute_result"
    }
   ],
   "source": [
    "%%time\n",
    "svm_params2 = {'C': np.linspace(1e-3, 1, 30)}\n",
    "\n",
    "svm_grid_searcher2 = GridSearchCV(LinearSVC(), svm_params2, n_jobs = -1, cv = skf, return_train_score = True)\n",
    "svm_grid_searcher2.fit(X_train, y_train)"
   ]
  },
  {
   "cell_type": "markdown",
   "metadata": {},
   "source": [
    "Выведите лучшее значение доли правильных ответов на кросс-валидации и соответствующее значение `C`."
   ]
  },
  {
   "cell_type": "code",
   "execution_count": 39,
   "metadata": {},
   "outputs": [
    {
     "name": "stdout",
     "output_type": "stream",
     "text": [
      "{'C': 0.06989655172413793}. Score: 0.7641204881291982\n"
     ]
    }
   ],
   "source": [
    "print(f\"{svm_grid_searcher2.best_params_}. Score: {svm_grid_searcher2.best_score_}\")"
   ]
  },
  {
   "cell_type": "markdown",
   "metadata": {},
   "source": [
    "Нарисуйте график зависимости доли правильных ответов на кросс-валидации от С."
   ]
  },
  {
   "cell_type": "code",
   "execution_count": 40,
   "metadata": {},
   "outputs": [
    {
     "data": {
      "image/png": "[encoded data removed]",
      "text/plain": [
       "<Figure size 432x288 with 1 Axes>"
      ]
     },
     "metadata": {
      "needs_background": "light"
     },
     "output_type": "display_data"
    }
   ],
   "source": [
    "plot_validation_curves(svm_params2['C'], svm_grid_searcher2.cv_results_)"
   ]
  },
  {
   "cell_type": "markdown",
   "metadata": {},
   "source": [
    "Выведите долю правильных ответов на выборке `(X_valid, y_valid)` для `LinearSVC` с лучшим найденным значением `C`."
   ]
  },
  {
   "cell_type": "code",
   "execution_count": 41,
   "metadata": {},
   "outputs": [
    {
     "data": {
      "text/plain": [
       "0.77767243422612"
      ]
     },
     "execution_count": 41,
     "metadata": {},
     "output_type": "execute_result"
    }
   ],
   "source": [
    "svm_best = svm_grid_searcher2.best_estimator_\n",
    "svm_cv_acc = accuracy_score(svm_best.predict(X_valid), y_valid)\n",
    "svm_cv_acc"
   ]
  },
  {
   "cell_type": "markdown",
   "metadata": {},
   "source": [
    "**<font color='red'>Вопрос 4. </font> Посчитайте доли правильных ответов для `svm_grid_searcher2` на кросс-валидации для лучшего значения параметра `C` и на отложенной выборке. Округлите каждое до 3 знаков после запятой и выведите через пробел.**"
   ]
  },
  {
   "cell_type": "code",
   "execution_count": 42,
   "metadata": {},
   "outputs": [],
   "source": [
    "cv_scores = cross_val_score(svm_best, X_train, y_train)"
   ]
  },
  {
   "cell_type": "code",
   "execution_count": 92,
   "metadata": {},
   "outputs": [
    {
     "name": "stdout",
     "output_type": "stream",
     "text": [
      "0.767, 0.771, 0.765, 0.767, 0.776\n"
     ]
    }
   ],
   "source": [
    "print(str([round(v, 3) for v in cv_scores])[1:-1])"
   ]
  },
  {
   "cell_type": "markdown",
   "metadata": {},
   "source": [
    "## Часть 2. Выбор параметров – длины сессии и ширины окна"
   ]
  },
  {
   "cell_type": "markdown",
   "metadata": {},
   "source": [
    "**Возьмем `LinearSVC`, показавший лучшее качество на кросс-валидации в 1 части, и проверим его работу еще на 8 выборках для 10 пользователей (с разными сочетаниями параметров *session_length* и *window_size*). Поскольку тут уже вычислений побольше, мы не будем каждый раз заново подбирать параметр регуляризации `C`.**\n",
    "\n",
    "**Определите функцию `model_assessment`, ее документация описана ниже. Обратите внимание на все детали. Например, на то, что разбиение  выборки с `train_test_split` должно быть стратифицированным. Не теряйте нигде `random_state`.**"
   ]
  },
  {
   "cell_type": "code",
   "execution_count": 136,
   "metadata": {},
   "outputs": [],
   "source": [
    "import time\n",
    "\n",
    "def model_assessment(estimator, path_to_X_pickle, path_to_y_pickle, cv, random_state=17, test_size=0.3):\n",
    "    '''\n",
    "    Estimates CV-accuracy for (1 - test_size) share of (X_sparse, y) \n",
    "    loaded from path_to_X_pickle and path_to_y_pickle and holdout accuracy for (test_size) share of (X_sparse, y).\n",
    "    The split is made with stratified train_test_split with params random_state and test_size.\n",
    "    \n",
    "    :param estimator – Scikit-learn estimator (classifier or regressor)\n",
    "    :param path_to_X_pickle – path to pickled sparse X (instances and their features)\n",
    "    :param path_to_y_pickle – path to pickled y (responses)\n",
    "    :param cv – cross-validation as in cross_val_score (use StratifiedKFold here)\n",
    "    :param random_state –  for train_test_split\n",
    "    :param test_size –  for train_test_split\n",
    "    \n",
    "    :returns mean CV-accuracy for (X_train, y_train) and accuracy for (X_valid, y_valid) where (X_train, y_train)\n",
    "    and (X_valid, y_valid) are (1 - test_size) and (testsize) shares of (X_sparse, y).\n",
    "    '''\n",
    "    \n",
    "    ''' ВАШ КОД ЗДЕСЬ '''\n",
    "    \n",
    "    ts1 = time.time()\n",
    "    \n",
    "    with open(path_to_X_pickle, 'rb') as file:\n",
    "        X = pickle.load(file)\n",
    "    with open(path_to_y_pickle, 'rb') as file:\n",
    "        y = pickle.load(file)\n",
    "\n",
    "    X_train, X_valid, y_train, y_valid = train_test_split(X, y, test_size = test_size, random_state = random_state)\n",
    "\n",
    "    cv_score = cross_val_score(estimator, X_train, y_train, cv = cv).mean()\n",
    "    \n",
    "    estimator.fit(X_train, y_train)\n",
    "    valid_score = estimator.score(X_valid, y_valid)\n",
    "    \n",
    "    ts2 = time.time()\n",
    "    \n",
    "    return cv_score, valid_score, round(ts2 - ts1, 2)"
   ]
  },
  {
   "cell_type": "markdown",
   "metadata": {},
   "source": [
    "**Убедитесь, что функция работает.**"
   ]
  },
  {
   "cell_type": "code",
   "execution_count": 77,
   "metadata": {},
   "outputs": [
    {
     "data": {
      "text/plain": [
       "(0.7643243901836531, 0.8336098601564351, 1.57)"
      ]
     },
     "execution_count": 77,
     "metadata": {},
     "output_type": "execute_result"
    }
   ],
   "source": [
    "model_assessment(svm_grid_searcher2.best_estimator_, \n",
    "                 os.path.join(PATH_TO_DATA, 'X_sparse_10users_s10_w10.pkl'),\n",
    "        os.path.join(PATH_TO_DATA, 'y_10users_s10_w10.pkl'), skf, random_state=17, test_size=0.3)"
   ]
  },
  {
   "cell_type": "markdown",
   "metadata": {},
   "source": [
    "**Примените функцию *model_assessment* для лучшего алгоритма из предыдущей части (а именно, `svm_grid_searcher2.best_estimator_`) и 9 выборок вида с разными сочетаниями параметров *session_length* и *window_size* для 10 пользователей. Выведите в цикле параметры *session_length* и *window_size*, а также результат вывода функции *model_assessment*. \n",
    "Удобно сделать так, чтоб *model_assessment* возвращала 3-им элементом время, за которое она выполнилась. На моем ноуте этот участок кода выполнился за 20 секунд. Но со 150 пользователями каждая итерация занимает уже несколько минут.**"
   ]
  },
  {
   "cell_type": "markdown",
   "metadata": {},
   "source": [
    "Здесь для удобства стоит создать копии ранее созданных pickle-файлов X_sparse_10users.pkl, X_sparse_150users.pkl, y_10users.pkl и y_150users.pkl, добавив к их названиям s10_w10, что означает длину сессии 10 и ширину окна 10. "
   ]
  },
  {
   "cell_type": "code",
   "execution_count": 64,
   "metadata": {},
   "outputs": [],
   "source": [
    "# виконав вручну\n",
    "\n",
    "# !cp $PATH_TO_DATA/X_sparse_10users.pkl $PATH_TO_DATA/X_sparse_10users_s10_w10.pkl \n",
    "# !cp $PATH_TO_DATA/X_sparse_150users.pkl $PATH_TO_DATA/X_sparse_150users_s10_w10.pkl \n",
    "# !cp $PATH_TO_DATA/y_10users.pkl $PATH_TO_DATA/y_10users_s10_w10.pkl \n",
    "# !cp $PATH_TO_DATA/y_150users.pkl $PATH_TO_DATA/y_150users_s10_w10.pkl "
   ]
  },
  {
   "cell_type": "code",
   "execution_count": 110,
   "metadata": {},
   "outputs": [
    {
     "name": "stdout",
     "output_type": "stream",
     "text": [
      "s15 w10: cv_score - 0.8216825811583321, valid_score - 0.8639488030338943. (1.94s)\n",
      "s10 w10: cv_score - 0.7643243901836531, valid_score - 0.8336098601564351. (1.07s)\n",
      "s15 w7: cv_score - 0.8420344312232876, valid_score - 0.8697527791604447. (2.63s)\n",
      "s10 w7: cv_score - 0.7956614134444934, valid_score - 0.8403849344615895. (1.47s)\n",
      "s7 w7: cv_score - 0.7475104889454439, valid_score - 0.8048780487804879. (0.94s)\n",
      "s15 w5: cv_score - 0.8626155587401781, valid_score - 0.8582266477003319. (3.74s)\n",
      "s10 w5: cv_score - 0.814653159591724, valid_score - 0.8325035561877667. (2.24s)\n",
      "s7 w5: cv_score - 0.7701449607374445, valid_score - 0.7984826932195354. (1.33s)\n",
      "s5 w5: cv_score - 0.7217759800769019, valid_score - 0.7625651967757231. (0.87s)\n",
      "Wall time: 16.2 s\n"
     ]
    }
   ],
   "source": [
    "%%time\n",
    "estimator = svm_grid_searcher2.best_estimator_\n",
    "\n",
    "for window_size, session_length in itertools.product([10, 7, 5], [15, 10, 7, 5]):\n",
    "    if window_size <= session_length:\n",
    "        path_to_X_pkl = os.path.join(PATH_TO_DATA, \n",
    "                                     'X_sparse_10users_s' + str(session_length) + '_w' + str(window_size) + '.pkl')\n",
    "        path_to_y_pkl = os.path.join(PATH_TO_DATA, \n",
    "                                     'y_10users_s' + str(session_length) + '_w' + str(window_size) + '.pkl')\n",
    "        cv_score, valid_score, time_span = model_assessment(estimator, \n",
    "                                                       path_to_X_pkl, \n",
    "                                                       path_to_y_pkl, \n",
    "                                                       skf, \n",
    "                                                       random_state=17, \n",
    "                                                       test_size=0.3)\n",
    "        print(f\"s{session_length} w{window_size}: cv_score - {cv_score}, valid_score - {valid_score}. ({time_span}s)\")"
   ]
  },
  {
   "cell_type": "markdown",
   "metadata": {},
   "source": [
    "**<font color='red'>Вопрос 5. </font> Посчитайте доли правильных ответов для `LinearSVC` с настроенным параметром `C` и выборки `X_sparse_10users_s15_w5`. Укажите доли правильных ответов на кросс-валидации и на отложенной выборке. Округлите каждое до 3 знаков после запятой и выведите через пробел.**"
   ]
  },
  {
   "cell_type": "code",
   "execution_count": 112,
   "metadata": {},
   "outputs": [
    {
     "name": "stdout",
     "output_type": "stream",
     "text": [
      "0.863 0.858\n"
     ]
    }
   ],
   "source": [
    "path_to_X_pkl = os.path.join(PATH_TO_DATA, 'X_sparse_10users_s15_w5.pkl')\n",
    "path_to_y_pkl = os.path.join(PATH_TO_DATA, 'y_10users_s15_w5.pkl')\n",
    "cv_score, valid_score, time_span = model_assessment(estimator,\n",
    "                                                     path_to_X_pkl, \n",
    "                                                     path_to_y_pkl, \n",
    "                                                     skf, \n",
    "                                                     random_state=17, \n",
    "                                                     test_size=0.3)\n",
    "print(f\"{round(cv_score, 3)} {round(valid_score, 3)}\")"
   ]
  },
  {
   "cell_type": "markdown",
   "metadata": {},
   "source": [
    "**Прокомментируйте полученные результаты. Сравните для 150 пользователей доли правильных ответов на кросс-валидации и оставленной выборке для сочетаний параметров (*session_length, window_size*): (5,5), (7,7) и (10,10). На среднем ноуте это может занять до часа – запаситесь терпением, это Data Science :) **\n",
    "\n",
    "**Сделайте вывод о том, как качество классификации зависит от длины сессии и ширины окна.**"
   ]
  },
  {
   "cell_type": "code",
   "execution_count": 124,
   "metadata": {},
   "outputs": [],
   "source": [
    "estimator = LinearSVC(C = svm_grid_searcher2.best_params_['C'])"
   ]
  },
  {
   "cell_type": "code",
   "execution_count": 138,
   "metadata": {},
   "outputs": [
    {
     "data": {
      "application/vnd.jupyter.widget-view+json": {
       "model_id": "7578ef5ea79a4aed99b26b5fe068c64e",
       "version_major": 2,
       "version_minor": 0
      },
      "text/plain": [
       "HBox(children=(FloatProgress(value=0.0, max=3.0), HTML(value='')))"
      ]
     },
     "metadata": {},
     "output_type": "display_data"
    },
    {
     "name": "stdout",
     "output_type": "stream",
     "text": [
      "s5 w5: cv_score - 0.40822552133035056, valid_score - 0.41818756996155154. (326.17s)\n",
      "s7 w7: cv_score - 0.43504284734083704, valid_score - 0.45236229859999316. (346.61s)\n",
      "s10 w10: cv_score - 0.4606884388597677, valid_score - 0.4787896477913991. (307.17s)\n",
      "\n",
      "Wall time: 16min 19s\n"
     ]
    }
   ],
   "source": [
    "%%time\n",
    "\n",
    "for window_size, session_length in tqdm_notebook([(5,5), (7,7), (10,10)]):\n",
    "        path_to_X_pkl = os.path.join(PATH_TO_DATA, \n",
    "                                     'X_sparse_150users_s' + str(session_length) + '_w' + str(window_size) + '.pkl')\n",
    "        path_to_y_pkl = os.path.join(PATH_TO_DATA, \n",
    "                                     'y_150users_s' + str(session_length) + '_w' + str(window_size) + '.pkl')\n",
    "        cv_score, valid_score, time_span = model_assessment(estimator, \n",
    "                                                       path_to_X_pkl, \n",
    "                                                       path_to_y_pkl, \n",
    "                                                       skf, \n",
    "                                                       random_state=17, \n",
    "                                                       test_size=0.3)\n",
    "        print(f\"s{session_length} w{window_size}: cv_score - {cv_score}, valid_score - {valid_score}. ({time_span}s)\")"
   ]
  },
  {
   "cell_type": "markdown",
   "metadata": {},
   "source": [
    "**<font color='red'>Вопрос 6. </font> Посчитайте доли правильных ответов для `LinearSVC` с настроенным параметром `C` и выборки `X_sparse_150users`. Укажите доли правильных ответов на кросс-валидации и на отложенной выборке. Округлите каждое до 3 знаков после запятой и выведите через пробел.**"
   ]
  },
  {
   "cell_type": "code",
   "execution_count": 131,
   "metadata": {},
   "outputs": [
    {
     "name": "stdout",
     "output_type": "stream",
     "text": [
      "Loaded files\n",
      "Split\n",
      "cv score\n",
      "valid score\n",
      "0.609 0.63\n",
      "Wall time: 16min 53s\n"
     ]
    }
   ],
   "source": [
    "%%time\n",
    "path_to_X_pkl = os.path.join(PATH_TO_DATA, 'X_sparse_150users_s15_w5.pkl')\n",
    "path_to_y_pkl = os.path.join(PATH_TO_DATA, 'y_150users_s15_w5.pkl')\n",
    "cv_score, valid_score, time_span = model_assessment(estimator,\n",
    "                                                     path_to_X_pkl, \n",
    "                                                     path_to_y_pkl, \n",
    "                                                     skf, \n",
    "                                                     random_state=17, \n",
    "                                                     test_size=0.3)\n",
    "print(f\"{round(cv_score, 3)} {round(valid_score, 3)}\")"
   ]
  },
  {
   "cell_type": "markdown",
   "metadata": {},
   "source": [
    "## Часть 3. Идентификация  конкретного пользователя и кривые обучения"
   ]
  },
  {
   "cell_type": "markdown",
   "metadata": {},
   "source": [
    "**Поскольку может разочаровать, что многоклассовая доля правильных ответов на выборке из 150 пользовалей невелика, порадуемся тому, что конкретного пользователя можно идентифицировать достаточно хорошо. **"
   ]
  },
  {
   "cell_type": "markdown",
   "metadata": {},
   "source": [
    "**Загрузим сериализованные ранее объекты *X_sparse_150users* и *y_150users*, соответствующие обучающей выборке для 150 пользователей с параметрами (*session_length, window_size*) = (10,10). Так же точно разобьем их на 70% и 30%.**"
   ]
  },
  {
   "cell_type": "code",
   "execution_count": 153,
   "metadata": {},
   "outputs": [],
   "source": [
    "with open(os.path.join(PATH_TO_DATA, 'X_sparse_150users_s10_w10.pkl'), 'rb') as X_sparse_150users_pkl:\n",
    "     X_sparse_150users = pickle.load(X_sparse_150users_pkl)\n",
    "with open(os.path.join(PATH_TO_DATA, 'y_150users_s10_w10.pkl'), 'rb') as y_150users_pkl:\n",
    "    y_150users = pickle.load(y_150users_pkl)"
   ]
  },
  {
   "cell_type": "code",
   "execution_count": 311,
   "metadata": {},
   "outputs": [],
   "source": [
    "X_train_150, X_valid_150, y_train_150, y_valid_150 = train_test_split(X_sparse_150users, \n",
    "                                                                      y_150users, test_size=0.3, \n",
    "                                                     random_state=17, stratify=y_150users)"
   ]
  },
  {
   "cell_type": "markdown",
   "metadata": {},
   "source": [
    "**Обучите `LogisticRegressionCV` для одного значения параметра `C` (лучшего на кросс-валидации в 1 части, используйте точное значение, не на глаз). Теперь будем решать 150 задач \"Один-против-Всех\", поэтому укажите аргумент `multi_class`='ovr'. Как всегда, где возможно, указывайте `n_jobs=-1` и `random_state`=17.**"
   ]
  },
  {
   "cell_type": "code",
   "execution_count": 140,
   "metadata": {},
   "outputs": [
    {
     "data": {
      "text/plain": [
       "1.5526315789473686"
      ]
     },
     "execution_count": 140,
     "metadata": {},
     "output_type": "execute_result"
    }
   ],
   "source": [
    "logit_max_cv_C2"
   ]
  },
  {
   "cell_type": "code",
   "execution_count": 157,
   "metadata": {},
   "outputs": [
    {
     "name": "stdout",
     "output_type": "stream",
     "text": [
      "Wall time: 10min 26s\n"
     ]
    },
    {
     "data": {
      "text/plain": [
       "LogisticRegressionCV(Cs=[1.5526315789473686],\n",
       "                     cv=StratifiedKFold(n_splits=3, random_state=17, shuffle=True),\n",
       "                     multi_class='ovr', n_jobs=-1, random_state=17)"
      ]
     },
     "execution_count": 157,
     "metadata": {},
     "output_type": "execute_result"
    }
   ],
   "source": [
    "%%time\n",
    "logit_cv_150users = LogisticRegressionCV(Cs = [logit_max_cv_C2],\n",
    "                                        cv = skf,\n",
    "                                        n_jobs = -1,\n",
    "                                        multi_class = 'ovr',\n",
    "                                        random_state = 17)\n",
    "logit_cv_150users.fit(X_train_150, y_train_150)"
   ]
  },
  {
   "cell_type": "code",
   "execution_count": 163,
   "metadata": {},
   "outputs": [
    {
     "data": {
      "text/plain": [
       "{6: array([[0.99593445],\n",
       "        [0.99637217],\n",
       "        [0.99568413]]),\n",
       " 13: array([[0.99621591],\n",
       "        [0.99646599],\n",
       "        [0.99640344]]),\n",
       " 15: array([[0.99515261],\n",
       "        [0.99499609],\n",
       "        [0.99518374]]),\n",
       " 16: array([[0.99208782],\n",
       "        [0.99218139],\n",
       "        [0.99152463]]),\n",
       " 28: array([[0.99018014],\n",
       "        [0.99027365],\n",
       "        [0.99017983]]),\n",
       " 31: array([[0.99437078],\n",
       "        [0.99440188],\n",
       "        [0.99471462]]),\n",
       " 33: array([[0.99377658],\n",
       "        [0.99358874],\n",
       "        [0.99349492]]),\n",
       " 39: array([[0.98577058],\n",
       "        [0.9861767 ],\n",
       "        [0.98623925]]),\n",
       " 46: array([[0.99818614],\n",
       "        [0.99809226],\n",
       "        [0.99787334]]),\n",
       " 49: array([[0.99502752],\n",
       "        [0.99502737],\n",
       "        [0.99502737]]),\n",
       " 50: array([[0.99424568],\n",
       "        [0.99477717],\n",
       "        [0.99433933]]),\n",
       " 53: array([[0.99362022],\n",
       "        [0.99365129],\n",
       "        [0.99343237]]),\n",
       " 65: array([[0.99681011],\n",
       "        [0.99674746],\n",
       "        [0.99696638]]),\n",
       " 66: array([[0.99480861],\n",
       "        [0.99483972],\n",
       "        [0.99458952]]),\n",
       " 82: array([[0.9964661 ],\n",
       "        [0.99640344],\n",
       "        [0.99630962]]),\n",
       " 85: array([[0.9964661 ],\n",
       "        [0.99640344],\n",
       "        [0.99621579]]),\n",
       " 89: array([[0.99049287],\n",
       "        [0.99071149],\n",
       "        [0.99055512]]),\n",
       " 92: array([[0.99402677],\n",
       "        [0.99455825],\n",
       "        [0.9942455 ]]),\n",
       " 100: array([[0.99477733],\n",
       "        [0.99458952],\n",
       "        [0.99465207]]),\n",
       " 102: array([[0.99133725],\n",
       "        [0.99102424],\n",
       "        [0.99139953]]),\n",
       " 103: array([[0.98123593],\n",
       "        [0.98060985],\n",
       "        [0.98017201]]),\n",
       " 105: array([[0.99702902],\n",
       "        [0.99687256],\n",
       "        [0.99684128]]),\n",
       " 106: array([[0.99527771],\n",
       "        [0.99408913],\n",
       "        [0.9947459 ]]),\n",
       " 118: array([[0.99111834],\n",
       "        [0.99077404],\n",
       "        [0.99074277]]),\n",
       " 119: array([[0.99627846],\n",
       "        [0.99712275],\n",
       "        [0.99677873]]),\n",
       " 120: array([[0.99415186],\n",
       "        [0.99402658],\n",
       "        [0.9944957 ]]),\n",
       " 126: array([[0.9955279 ],\n",
       "        [0.99518374],\n",
       "        [0.9946208 ]]),\n",
       " 127: array([[0.99074306],\n",
       "        [0.99136826],\n",
       "        [0.99205629]]),\n",
       " 128: array([[0.98473855],\n",
       "        [0.98430023],\n",
       "        [0.98492572]]),\n",
       " 138: array([[0.99734176],\n",
       "        [0.99727912],\n",
       "        [0.99715403]]),\n",
       " 158: array([[0.99702902],\n",
       "        [0.99702893],\n",
       "        [0.99721658]]),\n",
       " 160: array([[0.99677883],\n",
       "        [0.99690383],\n",
       "        [0.99687256]]),\n",
       " 165: array([[0.99743558],\n",
       "        [0.99727912],\n",
       "        [0.99746677]]),\n",
       " 172: array([[0.99659119],\n",
       "        [0.99668491],\n",
       "        [0.99662236]]),\n",
       " 177: array([[0.99677883],\n",
       "        [0.99715403],\n",
       "        [0.99665364]]),\n",
       " 203: array([[0.9974043 ],\n",
       "        [0.99752932],\n",
       "        [0.99774824]]),\n",
       " 207: array([[0.98795972],\n",
       "        [0.9875215 ],\n",
       "        [0.98745895]]),\n",
       " 223: array([[0.99649737],\n",
       "        [0.99655981],\n",
       "        [0.99643471]]),\n",
       " 233: array([[0.99643483],\n",
       "        [0.99649726],\n",
       "        [0.99621579]]),\n",
       " 235: array([[0.99662247],\n",
       "        [0.99665364],\n",
       "        [0.99671618]]),\n",
       " 236: array([[0.99005504],\n",
       "        [0.990086  ],\n",
       "        [0.990086  ]]),\n",
       " 237: array([[0.98952339],\n",
       "        [0.98905395],\n",
       "        [0.98930414]]),\n",
       " 238: array([[0.99621591],\n",
       "        [0.99605942],\n",
       "        [0.99637217]]),\n",
       " 240: array([[0.99562172],\n",
       "        [0.99580923],\n",
       "        [0.99574668]]),\n",
       " 241: array([[0.99605954],\n",
       "        [0.99615324],\n",
       "        [0.99568413]]),\n",
       " 242: array([[0.99509007],\n",
       "        [0.99527756],\n",
       "        [0.99505864]]),\n",
       " 245: array([[0.99637228],\n",
       "        [0.9957154 ],\n",
       "        [0.99587177]]),\n",
       " 246: array([[0.99690393],\n",
       "        [0.99702893],\n",
       "        [0.99693511]]),\n",
       " 249: array([[0.99496497],\n",
       "        [0.99512119],\n",
       "        [0.99502737]]),\n",
       " 252: array([[0.99630973],\n",
       "        [0.99659109],\n",
       "        [0.99665364]]),\n",
       " 254: array([[0.99208782],\n",
       "        [0.99164973],\n",
       "        [0.99205629]]),\n",
       " 256: array([[0.99596572],\n",
       "        [0.99621579],\n",
       "        [0.9959656 ]]),\n",
       " 258: array([[0.99580936],\n",
       "        [0.9959656 ],\n",
       "        [0.99599687]]),\n",
       " 259: array([[0.99487115],\n",
       "        [0.99512119],\n",
       "        [0.99505864]]),\n",
       " 260: array([[0.99702902],\n",
       "        [0.99740422],\n",
       "        [0.99737295]]),\n",
       " 261: array([[0.98980485],\n",
       "        [0.98958561],\n",
       "        [0.98983581]]),\n",
       " 263: array([[0.99265074],\n",
       "        [0.99280688],\n",
       "        [0.99268178]]),\n",
       " 264: array([[0.99637228],\n",
       "        [0.99662236],\n",
       "        [0.99659109]]),\n",
       " 269: array([[0.98670878],\n",
       "        [0.98711493],\n",
       "        [0.98695856]]),\n",
       " 270: array([[0.98977358],\n",
       "        [0.98936669],\n",
       "        [0.98936669]]),\n",
       " 273: array([[0.99430823],\n",
       "        [0.99418296],\n",
       "        [0.99433933]]),\n",
       " 287: array([[0.99068051],\n",
       "        [0.9904613 ],\n",
       "        [0.98996091]]),\n",
       " 294: array([[0.99602827],\n",
       "        [0.99568413],\n",
       "        [0.99577795]]),\n",
       " 298: array([[0.99124343],\n",
       "        [0.99114934],\n",
       "        [0.99105551]]),\n",
       " 301: array([[0.99756067],\n",
       "        [0.99712275],\n",
       "        [0.99677873]]),\n",
       " 308: array([[0.99537153],\n",
       "        [0.99587177],\n",
       "        [0.99580923]]),\n",
       " 315: array([[0.99743558],\n",
       "        [0.99724785],\n",
       "        [0.99759187]]),\n",
       " 318: array([[0.99568426],\n",
       "        [0.99612197],\n",
       "        [0.99593432]]),\n",
       " 327: array([[0.99665374],\n",
       "        [0.99671618],\n",
       "        [0.99655981]]),\n",
       " 332: array([[0.99662247],\n",
       "        [0.99677873],\n",
       "        [0.99681001]]),\n",
       " 333: array([[0.99640355],\n",
       "        [0.99634089],\n",
       "        [0.99612197]]),\n",
       " 339: array([[0.99659119],\n",
       "        [0.99696638],\n",
       "        [0.99709148]]),\n",
       " 340: array([[0.99674756],\n",
       "        [0.99662236],\n",
       "        [0.99655981]]),\n",
       " 342: array([[0.99230673],\n",
       "        [0.99211884],\n",
       "        [0.99233776]]),\n",
       " 344: array([[0.99659119],\n",
       "        [0.99652854],\n",
       "        [0.99674746]]),\n",
       " 351: array([[0.99252564],\n",
       "        [0.99252541],\n",
       "        [0.99211884]]),\n",
       " 356: array([[0.9974043 ],\n",
       "        [0.99759187],\n",
       "        [0.99756059]]),\n",
       " 361: array([[0.99652865],\n",
       "        [0.99662236],\n",
       "        [0.99643471]]),\n",
       " 363: array([[0.99662247],\n",
       "        [0.99646599],\n",
       "        [0.99655981]]),\n",
       " 411: array([[0.99146235],\n",
       "        [0.99146208],\n",
       "        [0.99114934]]),\n",
       " 417: array([[0.99684138],\n",
       "        [0.99684128],\n",
       "        [0.99674746]]),\n",
       " 425: array([[0.9943395 ],\n",
       "        [0.99408913],\n",
       "        [0.9942455 ]]),\n",
       " 430: array([[0.99643483],\n",
       "        [0.99602815],\n",
       "        [0.99621579]]),\n",
       " 435: array([[0.9969352 ],\n",
       "        [0.9971853 ],\n",
       "        [0.99690383]]),\n",
       " 436: array([[0.99527771],\n",
       "        [0.99524629],\n",
       "        [0.99521501]]),\n",
       " 440: array([[0.99702902],\n",
       "        [0.99687256],\n",
       "        [0.99699765]]),\n",
       " 444: array([[0.99793595],\n",
       "        [0.99768569],\n",
       "        [0.99768569]]),\n",
       " 475: array([[0.98949212],\n",
       "        [0.98921032],\n",
       "        [0.98917905]]),\n",
       " 476: array([[0.99684138],\n",
       "        [0.99715403],\n",
       "        [0.99684128]]),\n",
       " 486: array([[0.9955279 ],\n",
       "        [0.99527756],\n",
       "        [0.99537138]]),\n",
       " 515: array([[0.99393295],\n",
       "        [0.9943706 ],\n",
       "        [0.99390149]]),\n",
       " 533: array([[0.99377658],\n",
       "        [0.99362002],\n",
       "        [0.99362002]]),\n",
       " 561: array([[0.98464473],\n",
       "        [0.98433151],\n",
       "        [0.98430023]]),\n",
       " 563: array([[0.99677883],\n",
       "        [0.99681001],\n",
       "        [0.99696638]]),\n",
       " 564: array([[0.99565299],\n",
       "        [0.99577795],\n",
       "        [0.99577795]]),\n",
       " 568: array([[0.99211909],\n",
       "        [0.99186865],\n",
       "        [0.99196247]]),\n",
       " 569: array([[0.98952339],\n",
       "        [0.98930414],\n",
       "        [0.98936669]]),\n",
       " 570: array([[0.99818614],\n",
       "        [0.99806099],\n",
       "        [0.99843628]]),\n",
       " 573: array([[0.99121216],\n",
       "        [0.9905864 ],\n",
       "        [0.99105551]]),\n",
       " 575: array([[0.99030523],\n",
       "        [0.99055512],\n",
       "        [0.99011728]]),\n",
       " 576: array([[0.99408932],\n",
       "        [0.99408913],\n",
       "        [0.99452697]]),\n",
       " 580: array([[0.98677133],\n",
       "        [0.98714621],\n",
       "        [0.98636435]]),\n",
       " 583: array([[0.98120465],\n",
       "        [0.98126661],\n",
       "        [0.98029711]]),\n",
       " 584: array([[0.98148611],\n",
       "        [0.9807975 ],\n",
       "        [0.98198593]]),\n",
       " 600: array([[0.99108707],\n",
       "        [0.99186865],\n",
       "        [0.9915559 ]]),\n",
       " 603: array([[0.99565299],\n",
       "        [0.99593432],\n",
       "        [0.99565285]]),\n",
       " 605: array([[0.99771704],\n",
       "        [0.99734167],\n",
       "        [0.9971853 ]]),\n",
       " 640: array([[0.99690393],\n",
       "        [0.99712275],\n",
       "        [0.99721658]]),\n",
       " 647: array([[0.99756067],\n",
       "        [0.99777952],\n",
       "        [0.99777952]]),\n",
       " 653: array([[0.99731048],\n",
       "        [0.99746677],\n",
       "        [0.9974355 ]]),\n",
       " 664: array([[0.99502752],\n",
       "        [0.99527756],\n",
       "        [0.99518374]]),\n",
       " 665: array([[0.99702902],\n",
       "        [0.9970602 ],\n",
       "        [0.9970602 ]]),\n",
       " 677: array([[0.99671629],\n",
       "        [0.99662236],\n",
       "        [0.99671618]]),\n",
       " 692: array([[0.9970603 ],\n",
       "        [0.99702893],\n",
       "        [0.99715403]]),\n",
       " 697: array([[0.99584063],\n",
       "        [0.99562158],\n",
       "        [0.99602815]]),\n",
       " 705: array([[0.99643483],\n",
       "        [0.99640344],\n",
       "        [0.99671618]]),\n",
       " 722: array([[0.99490243],\n",
       "        [0.99458952],\n",
       "        [0.99443315]]),\n",
       " 740: array([[0.99649737],\n",
       "        [0.99699765],\n",
       "        [0.99655981]]),\n",
       " 741: array([[0.99709157],\n",
       "        [0.99709148],\n",
       "        [0.99681001]]),\n",
       " 756: array([[0.99577808],\n",
       "        [0.99577795],\n",
       "        [0.99574668]]),\n",
       " 780: array([[0.99671629],\n",
       "        [0.99646599],\n",
       "        [0.99621579]]),\n",
       " 784: array([[0.99677883],\n",
       "        [0.99652854],\n",
       "        [0.99677873]]),\n",
       " 785: array([[0.9969352 ],\n",
       "        [0.9971853 ],\n",
       "        [0.99709148]]),\n",
       " 797: array([[0.99571554],\n",
       "        [0.99562158],\n",
       "        [0.9955903 ]]),\n",
       " 812: array([[0.99502752],\n",
       "        [0.99430805],\n",
       "        [0.99565285]]),\n",
       " 844: array([[0.99712284],\n",
       "        [0.99702893],\n",
       "        [0.9970602 ]]),\n",
       " 859: array([[0.9979985 ],\n",
       "        [0.99824863],\n",
       "        [0.99821736]]),\n",
       " 868: array([[0.99671629],\n",
       "        [0.99652854],\n",
       "        [0.99671618]]),\n",
       " 875: array([[0.99559044],\n",
       "        [0.99549648],\n",
       "        [0.99552776]]),\n",
       " 932: array([[0.99096197],\n",
       "        [0.99071149],\n",
       "        [0.99014855]]),\n",
       " 996: array([[0.99308857],\n",
       "        [0.99318217],\n",
       "        [0.99321345]]),\n",
       " 1014: array([[0.9969352 ],\n",
       "        [0.99715403],\n",
       "        [0.9971853 ]]),\n",
       " 1040: array([[0.9970603 ],\n",
       "        [0.99699765],\n",
       "        [0.99690383]]),\n",
       " 1054: array([[0.99649737],\n",
       "        [0.99668491],\n",
       "        [0.99665364]]),\n",
       " 1248: array([[0.99746685],\n",
       "        [0.99796716],\n",
       "        [0.99787334]]),\n",
       " 1267: array([[0.99743558],\n",
       "        [0.99762314],\n",
       "        [0.99721658]]),\n",
       " 1299: array([[0.99696647],\n",
       "        [0.99677873],\n",
       "        [0.99709148]]),\n",
       " 1371: array([[0.9929322 ],\n",
       "        [0.99365129],\n",
       "        [0.99368256]]),\n",
       " 1797: array([[0.99462097],\n",
       "        [0.9947459 ],\n",
       "        [0.99483972]]),\n",
       " 1798: array([[0.99652865],\n",
       "        [0.9960907 ],\n",
       "        [0.99643471]]),\n",
       " 1993: array([[0.99671629],\n",
       "        [0.99687256],\n",
       "        [0.99690383]]),\n",
       " 2118: array([[0.99784213],\n",
       "        [0.99768569],\n",
       "        [0.99781079]]),\n",
       " 2174: array([[0.99559044],\n",
       "        [0.9955903 ],\n",
       "        [0.9958405 ]]),\n",
       " 2191: array([[0.99534026],\n",
       "        [0.99524629],\n",
       "        [0.99521501]]),\n",
       " 2250: array([[0.99746685],\n",
       "        [0.99740422],\n",
       "        [0.99727912]]),\n",
       " 2355: array([[0.99546535],\n",
       "        [0.99568413],\n",
       "        [0.9959656 ]]),\n",
       " 2408: array([[0.99368276],\n",
       "        [0.99349492],\n",
       "        [0.99358874]]),\n",
       " 2493: array([[0.99674756],\n",
       "        [0.99659109],\n",
       "        [0.99627834]]),\n",
       " 2625: array([[0.99596572],\n",
       "        [0.99612197],\n",
       "        [0.9959656 ]]),\n",
       " 2902: array([[0.9974043 ],\n",
       "        [0.99712275],\n",
       "        [0.99677873]])}"
      ]
     },
     "execution_count": 163,
     "metadata": {},
     "output_type": "execute_result"
    }
   ],
   "source": [
    "logit_cv_150users.scores_"
   ]
  },
  {
   "cell_type": "markdown",
   "metadata": {},
   "source": [
    "**Посмотрите на средние доли правильных ответов на кросс-валидации в задаче идентификации каждого пользователя по отдельности.**"
   ]
  },
  {
   "cell_type": "code",
   "execution_count": 187,
   "metadata": {},
   "outputs": [
    {
     "name": "stdout",
     "output_type": "stream",
     "text": [
      "User 6, CV score: 0.9959969149392668\n",
      "User 13, CV score: 0.9963617803918484\n",
      "User 15, CV score: 0.9951108141504879\n",
      "User 16, CV score: 0.9919312787300928\n",
      "User 28, CV score: 0.9902112047940047\n",
      "User 31, CV score: 0.9944957584490166\n",
      "User 33, CV score: 0.9936200805151687\n",
      "User 39, CV score: 0.9860621759647857\n",
      "User 46, CV score: 0.9980505792427459\n",
      "User 49, CV score: 0.9950274169661647\n",
      "User 50, CV score: 0.9944540605088948\n",
      "User 53, CV score: 0.9935679580900166\n",
      "User 65, CV score: 0.9968413155057849\n",
      "User 66, CV score: 0.9947459493499458\n",
      "User 82, CV score: 0.9963930522168405\n",
      "User 85, CV score: 0.9963617777836896\n",
      "User 89, CV score: 0.990586494731617\n",
      "User 92, CV score: 0.9942768410031787\n",
      "User 100, CV score: 0.9946729759986135\n",
      "User 102, CV score: 0.9912536738362999\n",
      "User 103, CV score: 0.9806725959246605\n",
      "User 105, CV score: 0.996914286900998\n",
      "User 106, CV score: 0.9947042452154466\n",
      "User 118, CV score: 0.990878382920628\n",
      "User 119, CV score: 0.9967266481265694\n",
      "User 120, CV score: 0.9942247156438478\n",
      "User 126, CV score: 0.9951108102382494\n",
      "User 127, CV score: 0.991389202574331\n",
      "User 128, CV score: 0.9846548372316506\n",
      "User 138, CV score: 0.9972583024054593\n",
      "User 158, CV score: 0.9970915086888531\n",
      "User 160, CV score: 0.9968517406428551\n",
      "User 165, CV score: 0.9973938239710537\n",
      "User 172, CV score: 0.996632821566918\n",
      "User 177, CV score: 0.9968621654539054\n",
      "User 203, CV score: 0.9975606212738782\n",
      "User 207, CV score: 0.987646724423041\n",
      "User 223, CV score: 0.9964973000013236\n",
      "User 233, CV score: 0.9963826277318101\n",
      "User 235, CV score: 0.996664095674049\n",
      "User 236, CV score: 0.9900756835544301\n",
      "User 237, CV score: 0.9892938282679954\n",
      "User 238, CV score: 0.9962158330371443\n",
      "User 240, CV score: 0.9957258731121575\n",
      "User 241, CV score: 0.9959656392020365\n",
      "User 242, CV score: 0.9951420892356784\n",
      "User 245, CV score: 0.9959864855639383\n",
      "User 246, CV score: 0.9969559874492786\n",
      "User 249, CV score: 0.9950378424292547\n",
      "User 252, CV score: 0.9965181515795433\n",
      "User 254, CV score: 0.9919312787300926\n",
      "User 256, CV score: 0.9960490386684985\n",
      "User 258, CV score: 0.995923942565994\n",
      "User 259, CV score: 0.9950169937852138\n",
      "User 260, CV score: 0.9972687304767082\n",
      "User 261, CV score: 0.9897420922089796\n",
      "User 263, CV score: 0.9927131336905076\n",
      "User 264, CV score: 0.9965285757385539\n",
      "User 269, CV score: 0.9869274255013648\n",
      "User 270, CV score: 0.9895023218808424\n",
      "User 273, CV score: 0.9942768380690001\n",
      "User 287, CV score: 0.9903675717434415\n",
      "User 294, CV score: 0.9958301169844024\n",
      "User 298, CV score: 0.9911494267038563\n",
      "User 301, CV score: 0.9971540520128173\n",
      "User 308, CV score: 0.9956841764761153\n",
      "User 315, CV score: 0.9974250984042046\n",
      "User 318, CV score: 0.9959135190590231\n",
      "User 327, CV score: 0.9966432457259286\n",
      "User 332, CV score: 0.996737069351401\n",
      "User 333, CV score: 0.9962888047583772\n",
      "User 339, CV score: 0.9968830170321251\n",
      "User 340, CV score: 0.9966432447478689\n",
      "User 342, CV score: 0.9922544455905129\n",
      "User 344, CV score: 0.9966223967558676\n",
      "User 351, CV score: 0.9923899658520279\n",
      "User 356, CV score: 0.9975189220296771\n",
      "User 361, CV score: 0.9965285741084546\n",
      "User 363, CV score: 0.9965494227524956\n",
      "User 411, CV score: 0.9913579206427233\n",
      "User 417, CV score: 0.9968100407466142\n",
      "User 425, CV score: 0.9942247136877286\n",
      "User 430, CV score: 0.9962262555660555\n",
      "User 435, CV score: 0.9970081111785104\n",
      "User 436, CV score: 0.9952463353900622\n",
      "User 440, CV score: 0.9969664109562495\n",
      "User 444, CV score: 0.9977691119525466\n",
      "User 475, CV score: 0.9892938285940153\n",
      "User 476, CV score: 0.996945563290268\n",
      "User 486, CV score: 0.9953922801366075\n",
      "User 515, CV score: 0.9940683457602323\n",
      "User 533, CV score: 0.9936722045704203\n",
      "User 561, CV score: 0.9844254923666035\n",
      "User 563, CV score: 0.9968517406428551\n",
      "User 564, CV score: 0.9957362975971881\n",
      "User 568, CV score: 0.9919834024593243\n",
      "User 569, CV score: 0.9893980763784983\n",
      "User 570, CV score: 0.9982278010306009\n",
      "User 573, CV score: 0.9909513556199205\n",
      "User 575, CV score: 0.9903258764114785\n",
      "User 576, CV score: 0.9942351411069378\n",
      "User 580, CV score: 0.9867606278725202\n",
      "User 583, CV score: 0.9809227917158875\n",
      "User 584, CV score: 0.9814231797121232\n",
      "User 600, CV score: 0.9915038719096659\n",
      "User 603, CV score: 0.9957467224082382\n",
      "User 605, CV score: 0.9974146706589755\n",
      "User 640, CV score: 0.9970810851818822\n",
      "User 647, CV score: 0.9977065669984831\n",
      "User 653, CV score: 0.9974042500861834\n",
      "User 664, CV score: 0.9951629395098188\n",
      "User 665, CV score: 0.9970498094446519\n",
      "User 677, CV score: 0.9966849443180901\n",
      "User 692, CV score: 0.9970810835517829\n",
      "User 697, CV score: 0.9958301189405215\n",
      "User 705, CV score: 0.996518150275464\n",
      "User 722, CV score: 0.9946417002613831\n",
      "User 740, CV score: 0.996684946600229\n",
      "User 741, CV score: 0.9969976847373606\n",
      "User 756, CV score: 0.9957675707262594\n",
      "User 780, CV score: 0.9964660232860337\n",
      "User 784, CV score: 0.9966953684771006\n",
      "User 785, CV score: 0.9970706600448122\n",
      "User 797, CV score: 0.9956424736456956\n",
      "User 812, CV score: 0.9949961425330139\n",
      "User 844, CV score: 0.9970706580886929\n",
      "User 859, CV score: 0.9981548293093679\n",
      "User 868, CV score: 0.9966536698849392\n",
      "User 875, CV score: 0.995538226839272\n",
      "User 932, CV score: 0.9906073394634195\n",
      "User 996, CV score: 0.9931613960013926\n",
      "User 1014, CV score: 0.9970915096669127\n",
      "User 1040, CV score: 0.9969872602523302\n",
      "User 1054, CV score: 0.996611972922877\n",
      "User 1248, CV score: 0.9977691168428445\n",
      "User 1267, CV score: 0.9974250984042046\n",
      "User 1299, CV score: 0.9969455619861888\n",
      "User 1371, CV score: 0.9934220179077493\n",
      "User 1797, CV score: 0.9947355264950146\n",
      "User 1798, CV score: 0.9963513523205996\n",
      "User 1993, CV score: 0.9968308916727943\n",
      "User 2118, CV score: 0.9977795377416565\n",
      "User 2174, CV score: 0.9956737493829259\n",
      "User 2191, CV score: 0.9952671843601232\n",
      "User 2250, CV score: 0.9973833988339834\n",
      "User 2355, CV score: 0.9957050251201564\n",
      "User 2408, CV score: 0.9935888070600775\n",
      "User 2493, CV score: 0.996538996637366\n",
      "User 2625, CV score: 0.9960177642353475\n",
      "User 2902, CV score: 0.997101929587665\n"
     ]
    }
   ],
   "source": [
    "cv_scores_by_user = {}\n",
    "for user_id in logit_cv_150users.scores_:\n",
    "    cv_scores_by_user[user_id] = np.mean(logit_cv_150users.scores_[user_id])\n",
    "    print(f'User {user_id}, CV score: {cv_scores_by_user[user_id]}')"
   ]
  },
  {
   "cell_type": "markdown",
   "metadata": {},
   "source": [
    "**Результаты кажутся впечатляющими, но возможно, мы забываем про дисбаланс классов, и высокую долю правильных ответов можно получить константным прогнозом. Посчитайте для каждого пользователя разницу между долей правильных ответов на кросс-валидации (только что посчитанную с помощью `LogisticRegressionCV`) и долей меток в *y_train_150*, отличных от ID \n",
    " этого пользователя (именно такую долю правильных ответов можно получить, если классификатор всегда \"говорит\", что это не пользователь с номером $i$ в задаче классификации $i$-vs-All).**"
   ]
  },
  {
   "cell_type": "code",
   "execution_count": 179,
   "metadata": {},
   "outputs": [
    {
     "data": {
      "text/plain": [
       "(2903,)"
      ]
     },
     "execution_count": 179,
     "metadata": {},
     "output_type": "execute_result"
    }
   ],
   "source": [
    "np.bincount(y_train_150.astype('int')).shape"
   ]
  },
  {
   "cell_type": "code",
   "execution_count": 191,
   "metadata": {},
   "outputs": [
    {
     "name": "stdout",
     "output_type": "stream",
     "text": [
      "User 6, CV score: 0.9959969149392668, Proportion against all: 0.9844046452473781\n",
      "User 13, CV score: 0.9963617803918484, Proportion against all: 0.9957050226216042\n",
      "User 15, CV score: 0.9951108141504879, Proportion against all: 0.9944019348247608\n",
      "User 16, CV score: 0.9919312787300928, Proportion against all: 0.9847173863186206\n",
      "User 28, CV score: 0.9902112047940047, Proportion against all: 0.9879490440547922\n",
      "User 31, CV score: 0.9944957584490166, Proportion against all: 0.9944436336342597\n",
      "User 33, CV score: 0.9936200805151687, Proportion against all: 0.9925463378020557\n",
      "User 39, CV score: 0.9860621759647857, Proportion against all: 0.9839146842357651\n",
      "User 46, CV score: 0.9980505792427459, Proportion against all: 0.9971227821445697\n",
      "User 49, CV score: 0.9950274169661647, Proportion against all: 0.9938285761941497\n",
      "User 50, CV score: 0.9944540605088948, Proportion against all: 0.9941517419677668\n",
      "User 53, CV score: 0.9935679580900166, Proportion against all: 0.9920459520880679\n",
      "User 65, CV score: 0.9968413155057849, Proportion against all: 0.9969247127994496\n",
      "User 66, CV score: 0.9947459493499458, Proportion against all: 0.9948606217292496\n",
      "User 82, CV score: 0.9963930522168405, Proportion against all: 0.9963513541688385\n",
      "User 85, CV score: 0.9963617777836896, Proportion against all: 0.9961949836332172\n",
      "User 89, CV score: 0.990586494731617, Proportion against all: 0.9900652586368659\n",
      "User 92, CV score: 0.9942768410031787, Proportion against all: 0.9941517419677668\n",
      "User 100, CV score: 0.9946729759986135, Proportion against all: 0.9947459500031274\n",
      "User 102, CV score: 0.9912536738362999, Proportion against all: 0.9904405479223568\n",
      "User 103, CV score: 0.9806725959246605, Proportion against all: 0.9770031065613076\n",
      "User 105, CV score: 0.996914286900998, Proportion against all: 0.9960177636928466\n",
      "User 106, CV score: 0.9947042452154466, Proportion against all: 0.98721931488856\n",
      "User 118, CV score: 0.990878382920628, Proportion against all: 0.9900027104226174\n",
      "User 119, CV score: 0.9967266481265694, Proportion against all: 0.9959447907762233\n",
      "User 120, CV score: 0.9942247156438478, Proportion against all: 0.9936617809561537\n",
      "User 126, CV score: 0.9951108102382494, Proportion against all: 0.9940579196463941\n",
      "User 127, CV score: 0.991389202574331, Proportion against all: 0.9875112065550529\n",
      "User 128, CV score: 0.9846548372316506, Proportion against all: 0.979588432750245\n",
      "User 138, CV score: 0.9972583024054593, Proportion against all: 0.9971123574421951\n",
      "User 158, CV score: 0.9970915086888531, Proportion against all: 0.9967787669662032\n",
      "User 160, CV score: 0.9968517406428551, Proportion against all: 0.9965389988115839\n",
      "User 165, CV score: 0.9973938239710537, Proportion against all: 0.9970810833350707\n",
      "User 172, CV score: 0.996632821566918, Proportion against all: 0.9962575318474658\n",
      "User 177, CV score: 0.9968621654539054, Proportion against all: 0.9964973000020849\n",
      "User 203, CV score: 0.9975606212738782, Proportion against all: 0.9961845589308426\n",
      "User 207, CV score: 0.987646724423041, Proportion against all: 0.9863644892938307\n",
      "User 223, CV score: 0.9964973000013236, Proportion against all: 0.9964660258949607\n",
      "User 233, CV score: 0.9963826277318101, Proportion against all: 0.9962366824427162\n",
      "User 235, CV score: 0.996664095674049, Proportion against all: 0.9967474928590788\n",
      "User 236, CV score: 0.9900756835544301, Proportion against all: 0.988783020244772\n",
      "User 237, CV score: 0.9892938282679954, Proportion against all: 0.9880115922690407\n",
      "User 238, CV score: 0.9962158330371443, Proportion against all: 0.9962679565498405\n",
      "User 240, CV score: 0.9957258731121575, Proportion against all: 0.9957779955382274\n",
      "User 241, CV score: 0.9959656392020365, Proportion against all: 0.9961011613118446\n",
      "User 242, CV score: 0.9951420892356784, Proportion against all: 0.9946625523841295\n",
      "User 245, CV score: 0.9959864855639383, Proportion against all: 0.9957675708358527\n",
      "User 246, CV score: 0.9969559874492786, Proportion against all: 0.9971123574421951\n",
      "User 249, CV score: 0.9950378424292547, Proportion against all: 0.9951003898838688\n",
      "User 252, CV score: 0.9965181515795433, Proportion against all: 0.9962992306569648\n",
      "User 254, CV score: 0.9919312787300926, Proportion against all: 0.9899088881012447\n",
      "User 256, CV score: 0.9960490386684985, Proportion against all: 0.9955590767883576\n",
      "User 258, CV score: 0.995923942565994, Proportion against all: 0.9957571461334779\n",
      "User 259, CV score: 0.9950169937852138, Proportion against all: 0.9951837875028668\n",
      "User 260, CV score: 0.9972687304767082, Proportion against all: 0.9970810833350707\n",
      "User 261, CV score: 0.9897420922089796, Proportion against all: 0.9891061860183892\n",
      "User 263, CV score: 0.9927131336905076, Proportion against all: 0.9915976898859538\n",
      "User 264, CV score: 0.9965285757385539, Proportion against all: 0.9961949836332172\n",
      "User 269, CV score: 0.9869274255013648, Proportion against all: 0.9857494318537205\n",
      "User 270, CV score: 0.9895023218808424, Proportion against all: 0.9851239497112357\n",
      "User 273, CV score: 0.9942768380690001, Proportion against all: 0.993734753872777\n",
      "User 287, CV score: 0.9903675717434415, Proportion against all: 0.9882409357212851\n",
      "User 294, CV score: 0.9958301169844024, Proportion against all: 0.9959552154785981\n",
      "User 298, CV score: 0.9911494267038563, Proportion against all: 0.989773366970373\n",
      "User 301, CV score: 0.9971540520128173, Proportion against all: 0.995465254466985\n",
      "User 308, CV score: 0.9956841764761153, Proportion against all: 0.9949752934553718\n",
      "User 315, CV score: 0.9974250984042046, Proportion against all: 0.9971123574421951\n",
      "User 318, CV score: 0.9959135190590231, Proportion against all: 0.995340158038488\n",
      "User 327, CV score: 0.9966432457259286, Proportion against all: 0.9966328211329567\n",
      "User 332, CV score: 0.996737069351401, Proportion against all: 0.9968204657757022\n",
      "User 333, CV score: 0.9962888047583772, Proportion against all: 0.9949752934553718\n",
      "User 339, CV score: 0.9968830170321251, Proportion against all: 0.9959239413714739\n",
      "User 340, CV score: 0.9966432447478689, Proportion against all: 0.9965077247044597\n",
      "User 342, CV score: 0.9922544455905129, Proportion against all: 0.9919104309571962\n",
      "User 344, CV score: 0.9966223967558676, Proportion against all: 0.9967787669662032\n",
      "User 351, CV score: 0.9923899658520279, Proportion against all: 0.9910347559577174\n",
      "User 356, CV score: 0.9975189220296771, Proportion against all: 0.9972166044659425\n",
      "User 361, CV score: 0.9965285741084546, Proportion against all: 0.9966328211329567\n",
      "User 363, CV score: 0.9965494227524956, Proportion against all: 0.995298459228989\n",
      "User 411, CV score: 0.9913579206427233, Proportion against all: 0.9892312824468862\n",
      "User 417, CV score: 0.9968100407466142, Proportion against all: 0.9966328211329567\n",
      "User 425, CV score: 0.9942247136877286, Proportion against all: 0.9941621666701416\n",
      "User 430, CV score: 0.9962262555660555, Proportion against all: 0.9952463357171153\n",
      "User 435, CV score: 0.9970081111785104, Proportion against all: 0.9971540562516941\n",
      "User 436, CV score: 0.9952463353900622, Proportion against all: 0.9950169922648708\n",
      "User 440, CV score: 0.9969664109562495, Proportion against all: 0.9970915080374455\n",
      "User 444, CV score: 0.9977691119525466, Proportion against all: 0.9970081104184475\n",
      "User 475, CV score: 0.9892938285940153, Proportion against all: 0.9879907428642912\n",
      "User 476, CV score: 0.996945563290268, Proportion against all: 0.9961324354189688\n",
      "User 486, CV score: 0.9953922801366075, Proportion against all: 0.9952359110147405\n",
      "User 515, CV score: 0.9940683457602323, Proportion against all: 0.9939849467297709\n",
      "User 533, CV score: 0.9936722045704203, Proportion against all: 0.9926401601234285\n",
      "User 561, CV score: 0.9844254923666035, Proportion against all: 0.9809644934637116\n",
      "User 563, CV score: 0.9968517406428551, Proportion against all: 0.9963096553593395\n",
      "User 564, CV score: 0.9957362975971881, Proportion against all: 0.9951316639909931\n",
      "User 568, CV score: 0.9919834024593243, Proportion against all: 0.9918270333381982\n",
      "User 569, CV score: 0.9893980763784983, Proportion against all: 0.9850509767946125\n",
      "User 570, CV score: 0.9982278010306009, Proportion against all: 0.9957050226216042\n",
      "User 573, CV score: 0.9909513556199205, Proportion against all: 0.9909617830410942\n",
      "User 575, CV score: 0.9903258764114785, Proportion against all: 0.9886058003044013\n",
      "User 576, CV score: 0.9942351411069378, Proportion against all: 0.994391510122386\n",
      "User 580, CV score: 0.9867606278725202, Proportion against all: 0.9804849571544733\n",
      "User 583, CV score: 0.9809227917158875, Proportion against all: 0.9660467443654484\n",
      "User 584, CV score: 0.9814231797121232, Proportion against all: 0.9784417154890228\n",
      "User 600, CV score: 0.9915038719096659, Proportion against all: 0.990596918457978\n",
      "User 603, CV score: 0.9957467224082382, Proportion against all: 0.9950586910743698\n",
      "User 605, CV score: 0.9974146706589755, Proportion against all: 0.9950691157767446\n",
      "User 640, CV score: 0.9970810851818822, Proportion against all: 0.9970393845255718\n",
      "User 647, CV score: 0.9977065669984831, Proportion against all: 0.9960177636928466\n",
      "User 653, CV score: 0.9974042500861834, Proportion against all: 0.9972478785730667\n",
      "User 664, CV score: 0.9951629395098188, Proportion against all: 0.9945791547651315\n",
      "User 665, CV score: 0.9970498094446519, Proportion against all: 0.9966745199424556\n",
      "User 677, CV score: 0.9966849443180901, Proportion against all: 0.9958926672643496\n",
      "User 692, CV score: 0.9970810835517829, Proportion against all: 0.9968725892875758\n",
      "User 697, CV score: 0.9958301189405215, Proportion against all: 0.9952463357171153\n",
      "User 705, CV score: 0.996518150275464, Proportion against all: 0.9961845589308426\n",
      "User 722, CV score: 0.9946417002613831, Proportion against all: 0.9936200821466548\n",
      "User 740, CV score: 0.996684946600229, Proportion against all: 0.9958613931572253\n",
      "User 741, CV score: 0.9969976847373606, Proportion against all: 0.9967787669662032\n",
      "User 756, CV score: 0.9957675707262594, Proportion against all: 0.995298459228989\n",
      "User 780, CV score: 0.9964660232860337, Proportion against all: 0.9957675708358527\n",
      "User 784, CV score: 0.9966953684771006, Proportion against all: 0.9949544440506224\n",
      "User 785, CV score: 0.9970706600448122, Proportion against all: 0.9970393845255718\n",
      "User 797, CV score: 0.9956424736456956, Proportion against all: 0.9952150616099911\n",
      "User 812, CV score: 0.9949961425330139, Proportion against all: 0.9895023247086295\n",
      "User 844, CV score: 0.9970706580886929, Proportion against all: 0.9969664116089486\n",
      "User 859, CV score: 0.9981548293093679, Proportion against all: 0.9969142880970748\n",
      "User 868, CV score: 0.9966536698849392, Proportion against all: 0.9967787669662032\n",
      "User 875, CV score: 0.995538226839272, Proportion against all: 0.9901382315534891\n",
      "User 932, CV score: 0.9906073394634195, Proportion against all: 0.9880949898880387\n",
      "User 996, CV score: 0.9931613960013926, Proportion against all: 0.9904822467318558\n",
      "User 1014, CV score: 0.9970915096669127, Proportion against all: 0.9957884202406021\n",
      "User 1040, CV score: 0.9969872602523302, Proportion against all: 0.9951733628004921\n",
      "User 1054, CV score: 0.996611972922877, Proportion against all: 0.9963513541688385\n",
      "User 1248, CV score: 0.9977691168428445, Proportion against all: 0.9973312761920647\n",
      "User 1267, CV score: 0.9974250984042046, Proportion against all: 0.9969976857160728\n",
      "User 1299, CV score: 0.9969455619861888, Proportion against all: 0.9968308904780768\n",
      "User 1371, CV score: 0.9934220179077493, Proportion against all: 0.9887308967328983\n",
      "User 1797, CV score: 0.9947355264950146, Proportion against all: 0.9917436357192002\n",
      "User 1798, CV score: 0.9963513523205996, Proportion against all: 0.9954339803598607\n",
      "User 1993, CV score: 0.9968308916727943, Proportion against all: 0.9959239413714739\n",
      "User 2118, CV score: 0.9977795377416565, Proportion against all: 0.9963409294664637\n",
      "User 2174, CV score: 0.9956737493829259, Proportion against all: 0.9953505827408627\n",
      "User 2191, CV score: 0.9952671843601232, Proportion against all: 0.9948293476221254\n",
      "User 2250, CV score: 0.9973833988339834, Proportion against all: 0.9974355232158122\n",
      "User 2355, CV score: 0.9957050251201564, Proportion against all: 0.9874382336384296\n",
      "User 2408, CV score: 0.9935888070600775, Proportion against all: 0.9924212413735588\n",
      "User 2493, CV score: 0.996538996637366, Proportion against all: 0.9963096553593395\n",
      "User 2625, CV score: 0.9960177642353475, Proportion against all: 0.995465254466985\n",
      "User 2902, CV score: 0.997101929587665, Proportion against all: 0.9950482663719951\n"
     ]
    }
   ],
   "source": [
    "proportion_by_user = {}\n",
    "class_distr = np.bincount(y_train_150.astype('int'))\n",
    "\n",
    "for user_id in np.unique(y_train_150):\n",
    "    proportion_by_user[user_id] = 1 - class_distr[user_id] / y_train_150.shape[0]\n",
    "    print(f'User {user_id}, CV score: {cv_scores_by_user[user_id]}, Proportion against all: {proportion_by_user[user_id]}')"
   ]
  },
  {
   "cell_type": "code",
   "execution_count": 295,
   "metadata": {},
   "outputs": [
    {
     "data": {
      "image/png": "[encoded data removed]",
      "text/plain": [
       "<Figure size 432x288 with 1 Axes>"
      ]
     },
     "metadata": {
      "needs_background": "light"
     },
     "output_type": "display_data"
    }
   ],
   "source": [
    "# відобразимо точність по крос валідації та частки відповідних юзерів у всій вибірці\n",
    "ax = sns.lineplot(x = np.unique(y_train_150).flatten(), y = list(cv_scores_by_user.values()))\n",
    "sns.lineplot(x = np.unique(y_train_150).flatten(), y = list(proportion_by_user.values()), ax = ax)\n",
    "ax.legend(['cv_scores_by_user', 'proportion_by_user'])\n",
    "ax.set_xlim((0, 500));"
   ]
  },
  {
   "cell_type": "code",
   "execution_count": 296,
   "metadata": {},
   "outputs": [
    {
     "data": {
      "image/png": "[encoded data removed]",
      "text/plain": [
       "<Figure size 432x288 with 1 Axes>"
      ]
     },
     "metadata": {
      "needs_background": "light"
     },
     "output_type": "display_data"
    }
   ],
   "source": [
    "# відобразимо різницю крос валідації та частки відповідних юзерів у всій вибірці\n",
    "acc_diff_vs_constant = {k: cv_scores_by_user[k] - proportion_by_user[k] for k in cv_scores_by_user}\n",
    "ax = sns.lineplot(x = np.unique(y_train_150), y = list(acc_diff_vs_constant.values()))\n",
    "ax.set_xlim((0, 500));"
   ]
  },
  {
   "cell_type": "markdown",
   "metadata": {},
   "source": [
    "Як видно, різниця у більшості випадків має додатне значення, що вказує на більшу точність моделі ніж просто константний прогноз"
   ]
  },
  {
   "cell_type": "code",
   "execution_count": 303,
   "metadata": {},
   "outputs": [
    {
     "data": {
      "text/plain": [
       "130"
      ]
     },
     "execution_count": 303,
     "metadata": {},
     "output_type": "execute_result"
    }
   ],
   "source": [
    "num_better_than_default = (np.array(list(acc_diff_vs_constant.values())) > 0).sum()\n",
    "num_better_than_default"
   ]
  },
  {
   "cell_type": "markdown",
   "metadata": {},
   "source": [
    "**<font color='red'>Вопрос 7. </font> Посчитайте долю пользователей, для которых логистическая регрессия на кросс-валидации дает прогноз лучше константного. Округлите до 3 знаков после запятой.**"
   ]
  },
  {
   "cell_type": "code",
   "execution_count": 307,
   "metadata": {},
   "outputs": [
    {
     "data": {
      "text/plain": [
       "0.867"
      ]
     },
     "execution_count": 307,
     "metadata": {},
     "output_type": "execute_result"
    }
   ],
   "source": [
    "round(num_better_than_default / len(acc_diff_vs_constant), 3)"
   ]
  },
  {
   "cell_type": "markdown",
   "metadata": {},
   "source": [
    "**Дальше будем строить кривые обучения для конкретного пользователя, допустим, для 128-го. Составьте новый бинарный вектор на основе *y_150users*, его значения будут 1 или 0 в зависимости от того, равен ли ID-шник пользователя 128.**"
   ]
  },
  {
   "cell_type": "code",
   "execution_count": 348,
   "metadata": {},
   "outputs": [],
   "source": [
    "y_binary_128 = y_150users == 128"
   ]
  },
  {
   "cell_type": "code",
   "execution_count": 354,
   "metadata": {},
   "outputs": [],
   "source": [
    "from sklearn.model_selection import learning_curve\n",
    "\n",
    "def plot_learning_curve(val_train, val_test, train_sizes, \n",
    "                        xlabel='Training Set Size', ylabel='score'):\n",
    "    def plot_with_err(x, data, **kwargs):\n",
    "        mu, std = data.mean(1), data.std(1)\n",
    "        lines = plt.plot(x, mu, '-', **kwargs)\n",
    "        plt.fill_between(x, mu - std, mu + std, edgecolor='none',\n",
    "                         facecolor=lines[0].get_color(), alpha=0.2)\n",
    "    plot_with_err(train_sizes, val_train, label='train')\n",
    "    plot_with_err(train_sizes, val_test, label='valid')\n",
    "    plt.xlabel(xlabel); plt.ylabel(ylabel)\n",
    "    plt.legend(loc='lower right');"
   ]
  },
  {
   "cell_type": "markdown",
   "metadata": {},
   "source": [
    "**Посчитайте доли правильных ответов на кросс-валидации в задаче классификации \"user128-vs-All\" в зависимости от размера выборки. Не помешает посмотреть встроенную документацию для *learning_curve*.**"
   ]
  },
  {
   "cell_type": "code",
   "execution_count": 367,
   "metadata": {},
   "outputs": [
    {
     "name": "stdout",
     "output_type": "stream",
     "text": [
      "Wall time: 15.1 s\n"
     ]
    }
   ],
   "source": [
    "%%time\n",
    "train_sizes = np.linspace(0.25, 1, 20)\n",
    "estimator = svm_grid_searcher2.best_estimator_\n",
    "n_train, val_train, val_test = learning_curve(estimator, \n",
    "                                              X_sparse_150users, \n",
    "                                              y_binary_128, \n",
    "                                              train_sizes = train_sizes, \n",
    "                                              cv = skf, \n",
    "                                              n_jobs = -1, \n",
    "                                              random_state = 17)"
   ]
  },
  {
   "cell_type": "code",
   "execution_count": 372,
   "metadata": {},
   "outputs": [
    {
     "data": {
      "text/plain": [
       "array([0.25      , 0.28947368, 0.32894737, 0.36842105, 0.40789474,\n",
       "       0.44736842, 0.48684211, 0.52631579, 0.56578947, 0.60526316,\n",
       "       0.64473684, 0.68421053, 0.72368421, 0.76315789, 0.80263158,\n",
       "       0.84210526, 0.88157895, 0.92105263, 0.96052632, 1.        ])"
      ]
     },
     "execution_count": 372,
     "metadata": {},
     "output_type": "execute_result"
    }
   ],
   "source": [
    "train_sizes"
   ]
  },
  {
   "cell_type": "code",
   "execution_count": 374,
   "metadata": {},
   "outputs": [
    {
     "data": {
      "text/plain": [
       "(137038, 27797)"
      ]
     },
     "execution_count": 374,
     "metadata": {},
     "output_type": "execute_result"
    }
   ],
   "source": [
    "X_sparse_150users.shape"
   ]
  },
  {
   "cell_type": "code",
   "execution_count": 369,
   "metadata": {},
   "outputs": [
    {
     "data": {
      "text/plain": [
       "array([22839, 26445, 30051, 33658, 37264, 40870, 44476, 48083, 51689,\n",
       "       55295, 58901, 62508, 66114, 69720, 73326, 76933, 80539, 84145,\n",
       "       87751, 91358])"
      ]
     },
     "execution_count": 369,
     "metadata": {},
     "output_type": "execute_result"
    }
   ],
   "source": [
    "n_train"
   ]
  },
  {
   "cell_type": "code",
   "execution_count": 366,
   "metadata": {},
   "outputs": [
    {
     "data": {
      "image/png": "[encoded data removed]",
      "text/plain": [
       "<Figure size 432x288 with 1 Axes>"
      ]
     },
     "metadata": {
      "needs_background": "light"
     },
     "output_type": "display_data"
    }
   ],
   "source": [
    "plot_learning_curve(val_train, val_test, train_sizes, \n",
    "                    xlabel='train_size', ylabel='accuracy')"
   ]
  },
  {
   "cell_type": "markdown",
   "metadata": {},
   "source": [
    "**Сделайте выводы о том, помогут ли алгоритму новые размеченные данные при той же постановке задачи.**"
   ]
  },
  {
   "cell_type": "markdown",
   "metadata": {},
   "source": [
    "## Пути улучшения\n",
    "- конечно, можно проверить еще кучу алгоритмов, например, Xgboost, но в такой задаче очень маловероятно, что что-то справится лучше линейных методов\n",
    "- интересно проверить качество алгоритма на данных, где сессии выделялись не по количеству посещенных сайтов, а по времени, например, 5, 7, 10 и 15 минут. Отдельно стоит отметить данные нашего [соревнования](https://inclass.kaggle.com/c/catch-me-if-you-can-intruder-detection-through-webpage-session-tracking2) \n",
    "- опять же, если ресурсы позволяют, можно проверить, насколько хорошо можно решить задачу для 3000 пользователей\n",
    "\n",
    "\n",
    "На следующей неделе мы вспомним про линейные модели, обучаемые стохастическим градиентным спуском, и порадуемся тому, насколько быстрее они работают. Также сделаем первые (или не первые) посылки в [соревновании](https://inclass.kaggle.com/c/catch-me-if-you-can-intruder-detection-through-webpage-session-tracking2) Kaggle Inclass."
   ]
  }
 ],
 "metadata": {
  "anaconda-cloud": {},
  "kernelspec": {
   "display_name": "Python 3",
   "language": "python",
   "name": "python3"
  },
  "language_info": {
   "codemirror_mode": {
    "name": "ipython",
    "version": 3
   },
   "file_extension": ".py",
   "mimetype": "text/x-python",
   "name": "python",
   "nbconvert_exporter": "python",
   "pygments_lexer": "ipython3",
   "version": "3.8.3"
  }
 },
 "nbformat": 4,
 "nbformat_minor": 1
}
