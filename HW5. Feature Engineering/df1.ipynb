{
 "cells": [
  {
   "cell_type": "code",
   "execution_count": 143,
   "metadata": {},
   "outputs": [],
   "source": [
    "import numpy as np\n",
    "import pandas as pd"
   ]
  },
  {
   "cell_type": "code",
   "execution_count": 144,
   "metadata": {},
   "outputs": [
    {
     "name": "stdout",
     "output_type": "stream",
     "text": [
      "<class 'pandas.core.frame.DataFrame'>\n",
      "Int64Index: 3922 entries, 0 to 3921\n",
      "Data columns (total 7 columns):\n",
      " #   Column       Non-Null Count  Dtype  \n",
      "---  ------       --------------  -----  \n",
      " 0   Player       3921 non-null   object \n",
      " 1   height       3921 non-null   float64\n",
      " 2   weight       3921 non-null   float64\n",
      " 3   collage      3573 non-null   object \n",
      " 4   born         3921 non-null   float64\n",
      " 5   birth_city   3452 non-null   object \n",
      " 6   birth_state  3439 non-null   object \n",
      "dtypes: float64(3), object(4)\n",
      "memory usage: 245.1+ KB\n"
     ]
    }
   ],
   "source": [
    "df = pd.read_csv('data/Players.csv', index_col = 0)\n",
    "df.info()"
   ]
  },
  {
   "cell_type": "code",
   "execution_count": 145,
   "metadata": {},
   "outputs": [
    {
     "name": "stdout",
     "output_type": "stream",
     "text": [
      "<class 'pandas.core.frame.DataFrame'>\n",
      "Int64Index: 3921 entries, 0 to 3921\n",
      "Data columns (total 7 columns):\n",
      " #   Column       Non-Null Count  Dtype  \n",
      "---  ------       --------------  -----  \n",
      " 0   Player       3921 non-null   object \n",
      " 1   height       3921 non-null   float64\n",
      " 2   weight       3921 non-null   float64\n",
      " 3   collage      3573 non-null   object \n",
      " 4   born         3921 non-null   float64\n",
      " 5   birth_city   3452 non-null   object \n",
      " 6   birth_state  3439 non-null   object \n",
      "dtypes: float64(3), object(4)\n",
      "memory usage: 245.1+ KB\n"
     ]
    }
   ],
   "source": [
    "df.dropna(axis = 0, how = 'all', inplace = True)\n",
    "df.info()"
   ]
  },
  {
   "cell_type": "code",
   "execution_count": 146,
   "metadata": {},
   "outputs": [
    {
     "name": "stdout",
     "output_type": "stream",
     "text": [
      "<class 'pandas.core.frame.DataFrame'>\n",
      "Int64Index: 3920 entries, 1 to 3921\n",
      "Data columns (total 7 columns):\n",
      " #   Column       Non-Null Count  Dtype  \n",
      "---  ------       --------------  -----  \n",
      " 0   Player       3920 non-null   object \n",
      " 1   height       3920 non-null   float64\n",
      " 2   weight       3920 non-null   float64\n",
      " 3   collage      3920 non-null   object \n",
      " 4   born         3920 non-null   float64\n",
      " 5   birth_city   3920 non-null   object \n",
      " 6   birth_state  3920 non-null   object \n",
      "dtypes: float64(3), object(4)\n",
      "memory usage: 245.0+ KB\n"
     ]
    }
   ],
   "source": [
    "#заповнюємо прощені значення\n",
    "\n",
    "df['collage'].fillna('Missing data', inplace = True)\n",
    "df['birth_city'].fillna(method = 'ffill', inplace = True)\n",
    "df['birth_state'].fillna(method = 'ffill', inplace = True)\n",
    "df.dropna(axis = 0, how = 'any', inplace = True)   # на початку можуть бути пропуски \n",
    "df.info()"
   ]
  },
  {
   "cell_type": "code",
   "execution_count": 147,
   "metadata": {},
   "outputs": [
    {
     "data": {
      "text/plain": [
       "<matplotlib.axes._subplots.AxesSubplot at 0x2af133cb760>"
      ]
     },
     "execution_count": 147,
     "metadata": {},
     "output_type": "execute_result"
    },
    {
     "data": {
      "image/png": "[encoded data removed]",
      "text/plain": [
       "<Figure size 432x288 with 1 Axes>"
      ]
     },
     "metadata": {
      "needs_background": "light"
     },
     "output_type": "display_data"
    }
   ],
   "source": [
    "df['born'].hist()"
   ]
  },
  {
   "cell_type": "code",
   "execution_count": 148,
   "metadata": {
    "scrolled": true
   },
   "outputs": [
    {
     "data": {
      "text/html": [
       "<div>\n",
       "<style scoped>\n",
       "    .dataframe tbody tr th:only-of-type {\n",
       "        vertical-align: middle;\n",
       "    }\n",
       "\n",
       "    .dataframe tbody tr th {\n",
       "        vertical-align: top;\n",
       "    }\n",
       "\n",
       "    .dataframe thead th {\n",
       "        text-align: right;\n",
       "    }\n",
       "</style>\n",
       "<table border=\"1\" class=\"dataframe\">\n",
       "  <thead>\n",
       "    <tr style=\"text-align: right;\">\n",
       "      <th></th>\n",
       "      <th>Player</th>\n",
       "      <th>height</th>\n",
       "      <th>weight</th>\n",
       "      <th>collage</th>\n",
       "      <th>born</th>\n",
       "      <th>birth_city</th>\n",
       "      <th>birth_state</th>\n",
       "      <th>born_group</th>\n",
       "    </tr>\n",
       "  </thead>\n",
       "  <tbody>\n",
       "    <tr>\n",
       "      <th>1</th>\n",
       "      <td>Cliff Barker</td>\n",
       "      <td>188.0</td>\n",
       "      <td>83.0</td>\n",
       "      <td>University of Kentucky</td>\n",
       "      <td>1921.0</td>\n",
       "      <td>Yorktown</td>\n",
       "      <td>Indiana</td>\n",
       "      <td>[1920, 1930)</td>\n",
       "    </tr>\n",
       "    <tr>\n",
       "      <th>2</th>\n",
       "      <td>Leo Barnhorst</td>\n",
       "      <td>193.0</td>\n",
       "      <td>86.0</td>\n",
       "      <td>University of Notre Dame</td>\n",
       "      <td>1924.0</td>\n",
       "      <td>Yorktown</td>\n",
       "      <td>Indiana</td>\n",
       "      <td>[1920, 1930)</td>\n",
       "    </tr>\n",
       "    <tr>\n",
       "      <th>3</th>\n",
       "      <td>Ed Bartels</td>\n",
       "      <td>196.0</td>\n",
       "      <td>88.0</td>\n",
       "      <td>North Carolina State University</td>\n",
       "      <td>1925.0</td>\n",
       "      <td>Yorktown</td>\n",
       "      <td>Indiana</td>\n",
       "      <td>[1920, 1930)</td>\n",
       "    </tr>\n",
       "    <tr>\n",
       "      <th>4</th>\n",
       "      <td>Ralph Beard</td>\n",
       "      <td>178.0</td>\n",
       "      <td>79.0</td>\n",
       "      <td>University of Kentucky</td>\n",
       "      <td>1927.0</td>\n",
       "      <td>Hardinsburg</td>\n",
       "      <td>Kentucky</td>\n",
       "      <td>[1920, 1930)</td>\n",
       "    </tr>\n",
       "    <tr>\n",
       "      <th>5</th>\n",
       "      <td>Gene Berce</td>\n",
       "      <td>180.0</td>\n",
       "      <td>79.0</td>\n",
       "      <td>Marquette University</td>\n",
       "      <td>1926.0</td>\n",
       "      <td>Hardinsburg</td>\n",
       "      <td>Kentucky</td>\n",
       "      <td>[1920, 1930)</td>\n",
       "    </tr>\n",
       "    <tr>\n",
       "      <th>...</th>\n",
       "      <td>...</td>\n",
       "      <td>...</td>\n",
       "      <td>...</td>\n",
       "      <td>...</td>\n",
       "      <td>...</td>\n",
       "      <td>...</td>\n",
       "      <td>...</td>\n",
       "      <td>...</td>\n",
       "    </tr>\n",
       "    <tr>\n",
       "      <th>3917</th>\n",
       "      <td>Troy Williams</td>\n",
       "      <td>198.0</td>\n",
       "      <td>97.0</td>\n",
       "      <td>South Carolina State University</td>\n",
       "      <td>1969.0</td>\n",
       "      <td>Columbia</td>\n",
       "      <td>South Carolina</td>\n",
       "      <td>[1960, 1970)</td>\n",
       "    </tr>\n",
       "    <tr>\n",
       "      <th>3918</th>\n",
       "      <td>Kyle Wiltjer</td>\n",
       "      <td>208.0</td>\n",
       "      <td>108.0</td>\n",
       "      <td>Gonzaga University</td>\n",
       "      <td>1992.0</td>\n",
       "      <td>Portland</td>\n",
       "      <td>Oregon</td>\n",
       "      <td>[1990, 2000)</td>\n",
       "    </tr>\n",
       "    <tr>\n",
       "      <th>3919</th>\n",
       "      <td>Stephen Zimmerman</td>\n",
       "      <td>213.0</td>\n",
       "      <td>108.0</td>\n",
       "      <td>University of Nevada, Las Vegas</td>\n",
       "      <td>1996.0</td>\n",
       "      <td>Hendersonville</td>\n",
       "      <td>Tennessee</td>\n",
       "      <td>[1990, 2000)</td>\n",
       "    </tr>\n",
       "    <tr>\n",
       "      <th>3920</th>\n",
       "      <td>Paul Zipser</td>\n",
       "      <td>203.0</td>\n",
       "      <td>97.0</td>\n",
       "      <td>Missing data</td>\n",
       "      <td>1994.0</td>\n",
       "      <td>Heidelberg</td>\n",
       "      <td>Germany</td>\n",
       "      <td>[1990, 2000)</td>\n",
       "    </tr>\n",
       "    <tr>\n",
       "      <th>3921</th>\n",
       "      <td>Ivica Zubac</td>\n",
       "      <td>216.0</td>\n",
       "      <td>120.0</td>\n",
       "      <td>Missing data</td>\n",
       "      <td>1997.0</td>\n",
       "      <td>Mostar</td>\n",
       "      <td>Bosnia and Herzegovina</td>\n",
       "      <td>[1990, 2000)</td>\n",
       "    </tr>\n",
       "  </tbody>\n",
       "</table>\n",
       "<p>3920 rows × 8 columns</p>\n",
       "</div>"
      ],
      "text/plain": [
       "                 Player  height  weight                          collage  \\\n",
       "1          Cliff Barker   188.0    83.0           University of Kentucky   \n",
       "2         Leo Barnhorst   193.0    86.0         University of Notre Dame   \n",
       "3            Ed Bartels   196.0    88.0  North Carolina State University   \n",
       "4           Ralph Beard   178.0    79.0           University of Kentucky   \n",
       "5            Gene Berce   180.0    79.0             Marquette University   \n",
       "...                 ...     ...     ...                              ...   \n",
       "3917      Troy Williams   198.0    97.0  South Carolina State University   \n",
       "3918       Kyle Wiltjer   208.0   108.0               Gonzaga University   \n",
       "3919  Stephen Zimmerman   213.0   108.0  University of Nevada, Las Vegas   \n",
       "3920        Paul Zipser   203.0    97.0                     Missing data   \n",
       "3921        Ivica Zubac   216.0   120.0                     Missing data   \n",
       "\n",
       "        born      birth_city             birth_state    born_group  \n",
       "1     1921.0        Yorktown                 Indiana  [1920, 1930)  \n",
       "2     1924.0        Yorktown                 Indiana  [1920, 1930)  \n",
       "3     1925.0        Yorktown                 Indiana  [1920, 1930)  \n",
       "4     1927.0     Hardinsburg                Kentucky  [1920, 1930)  \n",
       "5     1926.0     Hardinsburg                Kentucky  [1920, 1930)  \n",
       "...      ...             ...                     ...           ...  \n",
       "3917  1969.0        Columbia          South Carolina  [1960, 1970)  \n",
       "3918  1992.0        Portland                  Oregon  [1990, 2000)  \n",
       "3919  1996.0  Hendersonville               Tennessee  [1990, 2000)  \n",
       "3920  1994.0      Heidelberg                 Germany  [1990, 2000)  \n",
       "3921  1997.0          Mostar  Bosnia and Herzegovina  [1990, 2000)  \n",
       "\n",
       "[3920 rows x 8 columns]"
      ]
     },
     "execution_count": 148,
     "metadata": {},
     "output_type": "execute_result"
    }
   ],
   "source": [
    "# надамо категорію по року народження\n",
    "df['born_group'] = pd.cut(df['born'], range(1910, 2011, 10), right = False)\n",
    "df"
   ]
  },
  {
   "cell_type": "code",
   "execution_count": null,
   "metadata": {},
   "outputs": [],
   "source": []
  }
 ],
 "metadata": {
  "kernelspec": {
   "display_name": "Python 3",
   "language": "python",
   "name": "python3"
  },
  "language_info": {
   "codemirror_mode": {
    "name": "ipython",
    "version": 3
   },
   "file_extension": ".py",
   "mimetype": "text/x-python",
   "name": "python",
   "nbconvert_exporter": "python",
   "pygments_lexer": "ipython3",
   "version": "3.8.3"
  }
 },
 "nbformat": 4,
 "nbformat_minor": 4
}
