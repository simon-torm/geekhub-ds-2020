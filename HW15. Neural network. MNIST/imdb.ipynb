{
 "cells": [
  {
   "cell_type": "code",
   "execution_count": 1,
   "metadata": {},
   "outputs": [],
   "source": [
    "import numpy as np\n",
    "from keras.datasets import imdb\n",
    "from tqdm.notebook import tqdm\n",
    "\n",
    "from keras import models\n",
    "from keras import layers\n",
    "\n",
    "import seaborn as sns"
   ]
  },
  {
   "cell_type": "markdown",
   "metadata": {},
   "source": [
    "# IMDB"
   ]
  },
  {
   "cell_type": "code",
   "execution_count": 2,
   "metadata": {},
   "outputs": [
    {
     "name": "stderr",
     "output_type": "stream",
     "text": [
      "<__array_function__ internals>:5: VisibleDeprecationWarning: Creating an ndarray from ragged nested sequences (which is a list-or-tuple of lists-or-tuples-or ndarrays with different lengths or shapes) is deprecated. If you meant to do this, you must specify 'dtype=object' when creating the ndarray\n",
      "C:\\ProgramData\\Anaconda3\\lib\\site-packages\\tensorflow\\python\\keras\\datasets\\imdb.py:159: VisibleDeprecationWarning: Creating an ndarray from ragged nested sequences (which is a list-or-tuple of lists-or-tuples-or ndarrays with different lengths or shapes) is deprecated. If you meant to do this, you must specify 'dtype=object' when creating the ndarray\n",
      "  x_train, y_train = np.array(xs[:idx]), np.array(labels[:idx])\n",
      "C:\\ProgramData\\Anaconda3\\lib\\site-packages\\tensorflow\\python\\keras\\datasets\\imdb.py:160: VisibleDeprecationWarning: Creating an ndarray from ragged nested sequences (which is a list-or-tuple of lists-or-tuples-or ndarrays with different lengths or shapes) is deprecated. If you meant to do this, you must specify 'dtype=object' when creating the ndarray\n",
      "  x_test, y_test = np.array(xs[idx:]), np.array(labels[idx:])\n"
     ]
    }
   ],
   "source": [
    "(train_data, train_labels), (test_data, test_labels) = imdb.load_data(num_words = 10000)"
   ]
  },
  {
   "cell_type": "code",
   "execution_count": 3,
   "metadata": {},
   "outputs": [],
   "source": [
    "def vectorize_sequences(sequances, dimension = 10000):\n",
    "    result = np.zeros((len(sequances), dimension))\n",
    "    for i, sequance in tqdm(enumerate(sequances)):\n",
    "        result[i, sequance] = 1\n",
    "    return result"
   ]
  },
  {
   "cell_type": "code",
   "execution_count": 4,
   "metadata": {},
   "outputs": [
    {
     "data": {
      "application/vnd.jupyter.widget-view+json": {
       "model_id": "5da431d3291a4117b3f769f5b95e4777",
       "version_major": 2,
       "version_minor": 0
      },
      "text/plain": [
       "HBox(children=(FloatProgress(value=1.0, bar_style='info', max=1.0), HTML(value='')))"
      ]
     },
     "metadata": {},
     "output_type": "display_data"
    },
    {
     "name": "stdout",
     "output_type": "stream",
     "text": [
      "\n"
     ]
    },
    {
     "data": {
      "application/vnd.jupyter.widget-view+json": {
       "model_id": "382a540d1e0e4dde863f6acdee9d1b47",
       "version_major": 2,
       "version_minor": 0
      },
      "text/plain": [
       "HBox(children=(FloatProgress(value=1.0, bar_style='info', max=1.0), HTML(value='')))"
      ]
     },
     "metadata": {},
     "output_type": "display_data"
    },
    {
     "name": "stdout",
     "output_type": "stream",
     "text": [
      "\n",
      "Wall time: 3.65 s\n"
     ]
    }
   ],
   "source": [
    "%%time\n",
    "X_train = vectorize_sequences(train_data)\n",
    "X_test = vectorize_sequences(test_data)"
   ]
  },
  {
   "cell_type": "code",
   "execution_count": 5,
   "metadata": {},
   "outputs": [],
   "source": [
    "y_train = np.asarray(train_labels).astype('float32')\n",
    "y_test = np.asarray(test_labels).astype('float32')"
   ]
  },
  {
   "cell_type": "code",
   "execution_count": 6,
   "metadata": {},
   "outputs": [],
   "source": [
    "model1 = models.Sequential()\n",
    "model1.add(layers.Dense(16, activation = 'relu', input_shape = (X_train.shape[1],)))\n",
    "model1.add(layers.Dense(16, activation = 'relu'))\n",
    "model1.add(layers.Dense(1, activation = 'sigmoid'))"
   ]
  },
  {
   "cell_type": "code",
   "execution_count": 7,
   "metadata": {},
   "outputs": [],
   "source": [
    "model1.compile(optimizer = 'rmsprop',\n",
    "             loss = 'binary_crossentropy',\n",
    "             metrics = ['accuracy'])"
   ]
  },
  {
   "cell_type": "code",
   "execution_count": 8,
   "metadata": {},
   "outputs": [],
   "source": [
    "partial_X_train = X_train[10000:]\n",
    "X_val = X_train[:10000]\n",
    "\n",
    "partial_y_train = y_train[10000:]\n",
    "y_val = y_train[:10000]"
   ]
  },
  {
   "cell_type": "code",
   "execution_count": 9,
   "metadata": {
    "scrolled": true
   },
   "outputs": [
    {
     "name": "stdout",
     "output_type": "stream",
     "text": [
      "Epoch 1/20\n",
      "30/30 [==============================] - 6s 149ms/step - loss: 0.5849 - accuracy: 0.7086 - val_loss: 0.4034 - val_accuracy: 0.8503\n",
      "Epoch 2/20\n",
      "30/30 [==============================] - 1s 41ms/step - loss: 0.3207 - accuracy: 0.9028 - val_loss: 0.3491 - val_accuracy: 0.8602\n",
      "Epoch 3/20\n",
      "30/30 [==============================] - 1s 44ms/step - loss: 0.2298 - accuracy: 0.9296 - val_loss: 0.2808 - val_accuracy: 0.8900\n",
      "Epoch 4/20\n",
      "30/30 [==============================] - 1s 42ms/step - loss: 0.1772 - accuracy: 0.9459 - val_loss: 0.2788 - val_accuracy: 0.8867\n",
      "Epoch 5/20\n",
      "30/30 [==============================] - 1s 40ms/step - loss: 0.1436 - accuracy: 0.9582 - val_loss: 0.2810 - val_accuracy: 0.8871\n",
      "Epoch 6/20\n",
      "30/30 [==============================] - 1s 35ms/step - loss: 0.1190 - accuracy: 0.9646 - val_loss: 0.3004 - val_accuracy: 0.8819\n",
      "Epoch 7/20\n",
      "30/30 [==============================] - 1s 32ms/step - loss: 0.0953 - accuracy: 0.9749 - val_loss: 0.3116 - val_accuracy: 0.8835\n",
      "Epoch 8/20\n",
      "30/30 [==============================] - 1s 40ms/step - loss: 0.0776 - accuracy: 0.9799 - val_loss: 0.3330 - val_accuracy: 0.8767\n",
      "Epoch 9/20\n",
      "30/30 [==============================] - 1s 46ms/step - loss: 0.0646 - accuracy: 0.9848 - val_loss: 0.3453 - val_accuracy: 0.8796\n",
      "Epoch 10/20\n",
      "30/30 [==============================] - 1s 39ms/step - loss: 0.0526 - accuracy: 0.9883 - val_loss: 0.3699 - val_accuracy: 0.8794\n",
      "Epoch 11/20\n",
      "30/30 [==============================] - 1s 32ms/step - loss: 0.0426 - accuracy: 0.9913 - val_loss: 0.3956 - val_accuracy: 0.8763\n",
      "Epoch 12/20\n",
      "30/30 [==============================] - 1s 32ms/step - loss: 0.0344 - accuracy: 0.9940 - val_loss: 0.4231 - val_accuracy: 0.8739\n",
      "Epoch 13/20\n",
      "30/30 [==============================] - 1s 36ms/step - loss: 0.0265 - accuracy: 0.9958 - val_loss: 0.4782 - val_accuracy: 0.8674\n",
      "Epoch 14/20\n",
      "30/30 [==============================] - 1s 40ms/step - loss: 0.0225 - accuracy: 0.9962 - val_loss: 0.4811 - val_accuracy: 0.8722\n",
      "Epoch 15/20\n",
      "30/30 [==============================] - 1s 40ms/step - loss: 0.0156 - accuracy: 0.9982 - val_loss: 0.5170 - val_accuracy: 0.8710\n",
      "Epoch 16/20\n",
      "30/30 [==============================] - 1s 34ms/step - loss: 0.0133 - accuracy: 0.9988 - val_loss: 0.5397 - val_accuracy: 0.8696\n",
      "Epoch 17/20\n",
      "30/30 [==============================] - 1s 35ms/step - loss: 0.0096 - accuracy: 0.9994 - val_loss: 0.5688 - val_accuracy: 0.8709\n",
      "Epoch 18/20\n",
      "30/30 [==============================] - 1s 39ms/step - loss: 0.0080 - accuracy: 0.9994 - val_loss: 0.6041 - val_accuracy: 0.8652\n",
      "Epoch 19/20\n",
      "30/30 [==============================] - 1s 32ms/step - loss: 0.0056 - accuracy: 0.9999 - val_loss: 0.6292 - val_accuracy: 0.8658\n",
      "Epoch 20/20\n",
      "30/30 [==============================] - 1s 32ms/step - loss: 0.0071 - accuracy: 0.9988 - val_loss: 0.6610 - val_accuracy: 0.8672\n",
      "Wall time: 28.4 s\n"
     ]
    }
   ],
   "source": [
    "%%time\n",
    "history1 = model1.fit(partial_X_train,\n",
    "                   partial_y_train,\n",
    "                   epochs = 20,\n",
    "                   batch_size = 512,\n",
    "                   validation_data = (X_val, y_val))"
   ]
  },
  {
   "cell_type": "code",
   "execution_count": 10,
   "metadata": {},
   "outputs": [
    {
     "data": {
      "text/plain": [
       "dict_keys(['loss', 'accuracy', 'val_loss', 'val_accuracy'])"
      ]
     },
     "execution_count": 10,
     "metadata": {},
     "output_type": "execute_result"
    }
   ],
   "source": [
    "history1.history.keys()"
   ]
  },
  {
   "cell_type": "code",
   "execution_count": 11,
   "metadata": {},
   "outputs": [
    {
     "data": {
      "image/png": "[encoded data removed]",
      "text/plain": [
       "<Figure size 432x288 with 1 Axes>"
      ]
     },
     "metadata": {
      "needs_background": "light"
     },
     "output_type": "display_data"
    }
   ],
   "source": [
    "ax = sns.lineplot(range(len(history1.history['loss'])), history1.history['loss'])\n",
    "sns.lineplot(range(len(history1.history['accuracy'])), history1.history['accuracy'], ax = ax)\n",
    "sns.lineplot(range(len(history1.history['val_loss'])), history1.history['val_loss'], ax = ax)\n",
    "sns.lineplot(range(len(history1.history['val_accuracy'])), history1.history['val_accuracy'], ax = ax)\n",
    "ax.legend(history1.history.keys());"
   ]
  },
  {
   "cell_type": "code",
   "execution_count": 12,
   "metadata": {
    "scrolled": true
   },
   "outputs": [
    {
     "name": "stdout",
     "output_type": "stream",
     "text": [
      "Epoch 1/20\n",
      "30/30 [==============================] - 9s 267ms/step - loss: 0.5983 - accuracy: 0.6614 - val_loss: 0.4010 - val_accuracy: 0.8281\n",
      "Epoch 2/20\n",
      "30/30 [==============================] - 2s 55ms/step - loss: 0.2862 - accuracy: 0.8960 - val_loss: 0.2841 - val_accuracy: 0.8881\n",
      "Epoch 3/20\n",
      "30/30 [==============================] - 2s 57ms/step - loss: 0.1862 - accuracy: 0.9317 - val_loss: 0.2997 - val_accuracy: 0.8793\n",
      "Epoch 4/20\n",
      "30/30 [==============================] - 2s 59ms/step - loss: 0.1390 - accuracy: 0.9503 - val_loss: 0.3193 - val_accuracy: 0.8782\n",
      "Epoch 5/20\n",
      "30/30 [==============================] - 2s 65ms/step - loss: 0.0946 - accuracy: 0.9683 - val_loss: 0.3952 - val_accuracy: 0.8791\n",
      "Epoch 6/20\n",
      "30/30 [==============================] - 2s 54ms/step - loss: 0.0708 - accuracy: 0.9766 - val_loss: 0.4011 - val_accuracy: 0.8772\n",
      "Epoch 7/20\n",
      "30/30 [==============================] - 2s 65ms/step - loss: 0.0392 - accuracy: 0.9897 - val_loss: 0.4334 - val_accuracy: 0.8794\n",
      "Epoch 8/20\n",
      "30/30 [==============================] - 2s 54ms/step - loss: 0.0147 - accuracy: 0.9972 - val_loss: 0.5616 - val_accuracy: 0.8754\n",
      "Epoch 9/20\n",
      "30/30 [==============================] - 1s 50ms/step - loss: 0.0474 - accuracy: 0.9911 - val_loss: 0.5117 - val_accuracy: 0.8769\n",
      "Epoch 10/20\n",
      "30/30 [==============================] - 2s 55ms/step - loss: 0.0058 - accuracy: 0.9994 - val_loss: 0.6389 - val_accuracy: 0.8769\n",
      "Epoch 11/20\n",
      "30/30 [==============================] - 2s 51ms/step - loss: 0.0024 - accuracy: 0.9996 - val_loss: 0.7649 - val_accuracy: 0.8741\n",
      "Epoch 12/20\n",
      "30/30 [==============================] - 2s 58ms/step - loss: 0.0827 - accuracy: 0.9907 - val_loss: 0.7279 - val_accuracy: 0.8717\n",
      "Epoch 13/20\n",
      "30/30 [==============================] - 2s 56ms/step - loss: 7.6694e-04 - accuracy: 0.9998 - val_loss: 0.7828 - val_accuracy: 0.8725\n",
      "Epoch 14/20\n",
      "30/30 [==============================] - 2s 51ms/step - loss: 3.9924e-04 - accuracy: 1.0000 - val_loss: 0.8775 - val_accuracy: 0.8740\n",
      "Epoch 15/20\n",
      "30/30 [==============================] - 2s 62ms/step - loss: 1.4815e-04 - accuracy: 1.0000 - val_loss: 1.0047 - val_accuracy: 0.8734\n",
      "Epoch 16/20\n",
      "30/30 [==============================] - 2s 58ms/step - loss: 5.6328e-05 - accuracy: 1.0000 - val_loss: 1.1649 - val_accuracy: 0.8727\n",
      "Epoch 17/20\n",
      "30/30 [==============================] - 2s 51ms/step - loss: 1.6192e-05 - accuracy: 1.0000 - val_loss: 1.3379 - val_accuracy: 0.8719\n",
      "Epoch 18/20\n",
      "30/30 [==============================] - 2s 51ms/step - loss: 3.3100e-06 - accuracy: 1.0000 - val_loss: 1.5090 - val_accuracy: 0.8724\n",
      "Epoch 19/20\n",
      "30/30 [==============================] - 2s 54ms/step - loss: 4.2092e-07 - accuracy: 1.0000 - val_loss: 1.6939 - val_accuracy: 0.8721\n",
      "Epoch 20/20\n",
      "30/30 [==============================] - 2s 54ms/step - loss: 1.2491e-07 - accuracy: 1.0000 - val_loss: 1.8154 - val_accuracy: 0.8714\n",
      "Wall time: 41.6 s\n"
     ]
    }
   ],
   "source": [
    "%%time\n",
    "model2 = models.Sequential()\n",
    "\n",
    "model2.add(layers.Dense(50, activation = 'relu', input_shape = (X_train.shape[1],)))\n",
    "model2.add(layers.Dense(50, activation = 'relu'))\n",
    "model2.add(layers.Dense(50, activation = 'relu'))\n",
    "model2.add(layers.Dense(50, activation = 'relu'))\n",
    "model2.add(layers.Dense(1, activation = 'sigmoid'))\n",
    "\n",
    "model2.compile(optimizer = 'rmsprop',\n",
    "              loss = 'binary_crossentropy',\n",
    "              metrics = ['accuracy'])\n",
    "\n",
    "history2 = model2.fit(partial_X_train,\n",
    "                     partial_y_train,\n",
    "                     epochs = 20,\n",
    "                     batch_size = 512,\n",
    "                     validation_data = (X_val, y_val))"
   ]
  },
  {
   "cell_type": "code",
   "execution_count": 13,
   "metadata": {},
   "outputs": [
    {
     "data": {
      "image/png": "[encoded data removed]",
      "text/plain": [
       "<Figure size 432x288 with 1 Axes>"
      ]
     },
     "metadata": {
      "needs_background": "light"
     },
     "output_type": "display_data"
    }
   ],
   "source": [
    "ax = sns.lineplot(range(len(history2.history['loss'])), history2.history['loss'])\n",
    "sns.lineplot(range(len(history2.history['accuracy'])), history2.history['accuracy'], ax = ax)\n",
    "sns.lineplot(range(len(history2.history['val_loss'])), history2.history['val_loss'], ax = ax)\n",
    "sns.lineplot(range(len(history2.history['val_accuracy'])), history2.history['val_accuracy'], ax = ax)\n",
    "ax.legend(history2.history.keys());"
   ]
  },
  {
   "cell_type": "code",
   "execution_count": 16,
   "metadata": {},
   "outputs": [
    {
     "name": "stdout",
     "output_type": "stream",
     "text": [
      "782/782 [==============================] - 2s 3ms/step - loss: 0.7210 - accuracy: 0.8516\n",
      "model1 - [0.7210388779640198, 0.851639986038208]\n",
      "782/782 [==============================] - 3s 3ms/step - loss: 2.0218 - accuracy: 0.8560\n",
      "midel2 - [2.0217862129211426, 0.8559600114822388]\n"
     ]
    }
   ],
   "source": [
    "print(f'model1 - {model1.evaluate(X_test, y_test)}')\n",
    "print(f'midel2 - {model2.evaluate(X_test, y_test)}')"
   ]
  },
  {
   "cell_type": "code",
   "execution_count": null,
   "metadata": {},
   "outputs": [],
   "source": []
  }
 ],
 "metadata": {
  "kernelspec": {
   "display_name": "Python 3",
   "language": "python",
   "name": "python3"
  },
  "language_info": {
   "codemirror_mode": {
    "name": "ipython",
    "version": 3
   },
   "file_extension": ".py",
   "mimetype": "text/x-python",
   "name": "python",
   "nbconvert_exporter": "python",
   "pygments_lexer": "ipython3",
   "version": "3.8.3"
  }
 },
 "nbformat": 4,
 "nbformat_minor": 4
}
