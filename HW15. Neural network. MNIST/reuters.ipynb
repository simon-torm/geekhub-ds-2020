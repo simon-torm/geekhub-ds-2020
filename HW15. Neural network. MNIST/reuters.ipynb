{
 "cells": [
  {
   "cell_type": "code",
   "execution_count": 60,
   "metadata": {},
   "outputs": [],
   "source": [
    "from keras.datasets import reuters\n",
    "import numpy as np\n",
    "from tqdm.notebook import tqdm\n",
    "from sklearn.preprocessing import OneHotEncoder\n",
    "from keras.utils.np_utils import to_categorical\n",
    "\n",
    "from keras import models\n",
    "from keras import layers\n",
    "\n",
    "import seaborn as sns"
   ]
  },
  {
   "cell_type": "code",
   "execution_count": 3,
   "metadata": {},
   "outputs": [
    {
     "name": "stdout",
     "output_type": "stream",
     "text": [
      "Downloading data from https://storage.googleapis.com/tensorflow/tf-keras-datasets/reuters.npz\n",
      "2113536/2110848 [==============================] - 4s 2us/step\n"
     ]
    },
    {
     "name": "stderr",
     "output_type": "stream",
     "text": [
      "C:\\ProgramData\\Anaconda3\\lib\\site-packages\\tensorflow\\python\\keras\\datasets\\reuters.py:148: VisibleDeprecationWarning: Creating an ndarray from ragged nested sequences (which is a list-or-tuple of lists-or-tuples-or ndarrays with different lengths or shapes) is deprecated. If you meant to do this, you must specify 'dtype=object' when creating the ndarray\n",
      "  x_train, y_train = np.array(xs[:idx]), np.array(labels[:idx])\n",
      "C:\\ProgramData\\Anaconda3\\lib\\site-packages\\tensorflow\\python\\keras\\datasets\\reuters.py:149: VisibleDeprecationWarning: Creating an ndarray from ragged nested sequences (which is a list-or-tuple of lists-or-tuples-or ndarrays with different lengths or shapes) is deprecated. If you meant to do this, you must specify 'dtype=object' when creating the ndarray\n",
      "  x_test, y_test = np.array(xs[idx:]), np.array(labels[idx:])\n"
     ]
    }
   ],
   "source": [
    "(train_data, train_labels), (test_data, test_labels) = reuters.load_data(num_words = 10000)"
   ]
  },
  {
   "cell_type": "code",
   "execution_count": 21,
   "metadata": {},
   "outputs": [
    {
     "data": {
      "application/vnd.jupyter.widget-view+json": {
       "model_id": "68f16288dc8b4f7eb841602717ad634c",
       "version_major": 2,
       "version_minor": 0
      },
      "text/plain": [
       "HBox(children=(FloatProgress(value=1.0, bar_style='info', max=1.0), HTML(value='')))"
      ]
     },
     "metadata": {},
     "output_type": "display_data"
    },
    {
     "name": "stdout",
     "output_type": "stream",
     "text": [
      "\n"
     ]
    },
    {
     "data": {
      "application/vnd.jupyter.widget-view+json": {
       "model_id": "8ee4ec2d406840228e5d8a126d6c1086",
       "version_major": 2,
       "version_minor": 0
      },
      "text/plain": [
       "HBox(children=(FloatProgress(value=1.0, bar_style='info', max=1.0), HTML(value='')))"
      ]
     },
     "metadata": {},
     "output_type": "display_data"
    },
    {
     "name": "stdout",
     "output_type": "stream",
     "text": [
      "\n",
      "Wall time: 724 ms\n"
     ]
    }
   ],
   "source": [
    "%%time\n",
    "\n",
    "def vectorize_sequances(sequances, dimensional = 10000):\n",
    "    results = np.zeros((len(sequances), dimensional))\n",
    "    for i, sequance in tqdm(enumerate(sequances)):\n",
    "        results[i, sequance] = 1\n",
    "    return results\n",
    "\n",
    "X_train = vectorize_sequances(train_data)\n",
    "X_test = vectorize_sequances(test_data)"
   ]
  },
  {
   "cell_type": "code",
   "execution_count": 46,
   "metadata": {},
   "outputs": [],
   "source": [
    "y_train = to_categorical(train_labels, dtype = 'int8')\n",
    "y_test = to_categorical(test_labels, dtype = 'int8')"
   ]
  },
  {
   "cell_type": "code",
   "execution_count": 55,
   "metadata": {},
   "outputs": [],
   "source": [
    "model1 = models.Sequential()\n",
    "model1.add(layers.Dense(64, activation = 'relu', input_shape = (X_train.shape[1],)))\n",
    "model1.add(layers.Dense(64, activation = 'relu'))\n",
    "model1.add(layers.Dense(y_train.shape[1], activation = 'softmax'))\n",
    "model1.compile(optimizer = 'rmsprop',\n",
    "              loss = 'categorical_crossentropy',\n",
    "              metrics = ['accuracy'])"
   ]
  },
  {
   "cell_type": "code",
   "execution_count": 57,
   "metadata": {},
   "outputs": [],
   "source": [
    "partial_X_train, X_val = X_train[1000:], X_train[:1000]\n",
    "partial_y_train, y_val = y_train[1000:], y_train[:1000]"
   ]
  },
  {
   "cell_type": "code",
   "execution_count": 59,
   "metadata": {
    "scrolled": true
   },
   "outputs": [
    {
     "name": "stdout",
     "output_type": "stream",
     "text": [
      "Epoch 1/20\n",
      "16/16 [==============================] - 2s 79ms/step - loss: 3.0965 - accuracy: 0.4405 - val_loss: 1.7092 - val_accuracy: 0.6400\n",
      "Epoch 2/20\n",
      "16/16 [==============================] - 1s 46ms/step - loss: 1.4959 - accuracy: 0.6860 - val_loss: 1.3165 - val_accuracy: 0.7130\n",
      "Epoch 3/20\n",
      "16/16 [==============================] - 1s 52ms/step - loss: 1.0470 - accuracy: 0.7748 - val_loss: 1.1578 - val_accuracy: 0.7530\n",
      "Epoch 4/20\n",
      "16/16 [==============================] - 1s 52ms/step - loss: 0.8225 - accuracy: 0.8275 - val_loss: 1.0422 - val_accuracy: 0.7900\n",
      "Epoch 5/20\n",
      "16/16 [==============================] - 1s 60ms/step - loss: 0.6529 - accuracy: 0.8629 - val_loss: 0.9778 - val_accuracy: 0.7970\n",
      "Epoch 6/20\n",
      "16/16 [==============================] - 1s 59ms/step - loss: 0.5179 - accuracy: 0.8921 - val_loss: 0.9750 - val_accuracy: 0.7950\n",
      "Epoch 7/20\n",
      "16/16 [==============================] - 1s 53ms/step - loss: 0.4408 - accuracy: 0.9054 - val_loss: 0.9271 - val_accuracy: 0.8110\n",
      "Epoch 8/20\n",
      "16/16 [==============================] - 1s 56ms/step - loss: 0.3531 - accuracy: 0.9241 - val_loss: 0.9084 - val_accuracy: 0.8110\n",
      "Epoch 9/20\n",
      "16/16 [==============================] - 1s 51ms/step - loss: 0.2751 - accuracy: 0.9386 - val_loss: 0.9140 - val_accuracy: 0.8140\n",
      "Epoch 10/20\n",
      "16/16 [==============================] - 1s 55ms/step - loss: 0.2372 - accuracy: 0.9446 - val_loss: 0.9252 - val_accuracy: 0.8120\n",
      "Epoch 11/20\n",
      "16/16 [==============================] - 1s 51ms/step - loss: 0.1925 - accuracy: 0.9546 - val_loss: 0.9626 - val_accuracy: 0.8140\n",
      "Epoch 12/20\n",
      "16/16 [==============================] - 1s 59ms/step - loss: 0.1705 - accuracy: 0.9540 - val_loss: 0.9486 - val_accuracy: 0.8130\n",
      "Epoch 13/20\n",
      "16/16 [==============================] - 1s 53ms/step - loss: 0.1486 - accuracy: 0.9571 - val_loss: 0.9710 - val_accuracy: 0.8200\n",
      "Epoch 14/20\n",
      "16/16 [==============================] - 1s 53ms/step - loss: 0.1395 - accuracy: 0.9593 - val_loss: 1.0026 - val_accuracy: 0.8180\n",
      "Epoch 15/20\n",
      "16/16 [==============================] - 1s 55ms/step - loss: 0.1251 - accuracy: 0.9622 - val_loss: 0.9978 - val_accuracy: 0.8190\n",
      "Epoch 16/20\n",
      "16/16 [==============================] - 1s 50ms/step - loss: 0.1219 - accuracy: 0.9591 - val_loss: 1.0318 - val_accuracy: 0.8160\n",
      "Epoch 17/20\n",
      "16/16 [==============================] - 1s 53ms/step - loss: 0.1218 - accuracy: 0.9590 - val_loss: 1.0579 - val_accuracy: 0.8120\n",
      "Epoch 18/20\n",
      "16/16 [==============================] - 1s 51ms/step - loss: 0.1009 - accuracy: 0.9622 - val_loss: 1.0911 - val_accuracy: 0.8060\n",
      "Epoch 19/20\n",
      "16/16 [==============================] - 1s 51ms/step - loss: 0.0996 - accuracy: 0.9651 - val_loss: 1.0656 - val_accuracy: 0.8060\n",
      "Epoch 20/20\n",
      "16/16 [==============================] - 1s 48ms/step - loss: 0.0998 - accuracy: 0.9624 - val_loss: 1.1085 - val_accuracy: 0.8080\n",
      "Wall time: 19.2 s\n"
     ]
    }
   ],
   "source": [
    "%%time\n",
    "history1 = model1.fit(partial_X_train,\n",
    "                     partial_y_train,\n",
    "                     epochs = 20,\n",
    "                     batch_size = 512,\n",
    "                     validation_data = (X_val, y_val))"
   ]
  },
  {
   "cell_type": "code",
   "execution_count": 69,
   "metadata": {},
   "outputs": [
    {
     "data": {
      "text/plain": [
       "dict_keys(['loss', 'accuracy', 'val_loss', 'val_accuracy'])"
      ]
     },
     "execution_count": 69,
     "metadata": {},
     "output_type": "execute_result"
    }
   ],
   "source": [
    "history1.history.keys()"
   ]
  },
  {
   "cell_type": "code",
   "execution_count": 85,
   "metadata": {},
   "outputs": [
    {
     "data": {
      "image/png": "[encoded data removed]",
      "text/plain": [
       "<Figure size 432x288 with 1 Axes>"
      ]
     },
     "metadata": {
      "needs_background": "light"
     },
     "output_type": "display_data"
    }
   ],
   "source": [
    "history = history1.history\n",
    "x = range(len(history['loss']))\n",
    "\n",
    "ax = sns.lineplot(x, history['loss'])\n",
    "sns.lineplot(x, history['val_loss'], ax = ax)\n",
    "ax.legend(['loss', 'val_loss']);"
   ]
  },
  {
   "cell_type": "code",
   "execution_count": 81,
   "metadata": {},
   "outputs": [
    {
     "data": {
      "text/plain": [
       "<matplotlib.legend.Legend at 0x1b2ba84aaf0>"
      ]
     },
     "execution_count": 81,
     "metadata": {},
     "output_type": "execute_result"
    },
    {
     "data": {
      "image/png": "[encoded data removed]",
      "text/plain": [
       "<Figure size 432x288 with 1 Axes>"
      ]
     },
     "metadata": {
      "needs_background": "light"
     },
     "output_type": "display_data"
    }
   ],
   "source": [
    "ax = sns.lineplot(x, history['accuracy'])\n",
    "sns.lineplot(x, history['val_accuracy'], ax = ax)\n",
    "ax.legend(['accuracy', 'val_accuracy'])"
   ]
  },
  {
   "cell_type": "code",
   "execution_count": 87,
   "metadata": {
    "scrolled": true
   },
   "outputs": [
    {
     "name": "stdout",
     "output_type": "stream",
     "text": [
      "Epoch 1/9\n",
      "16/16 [==============================] - 2s 69ms/step - loss: 3.2174 - accuracy: 0.3683 - val_loss: 1.8406 - val_accuracy: 0.6170\n",
      "Epoch 2/9\n",
      "16/16 [==============================] - 1s 48ms/step - loss: 1.5630 - accuracy: 0.6773 - val_loss: 1.3437 - val_accuracy: 0.7090\n",
      "Epoch 3/9\n",
      "16/16 [==============================] - 1s 45ms/step - loss: 1.1090 - accuracy: 0.7675 - val_loss: 1.1396 - val_accuracy: 0.7500\n",
      "Epoch 4/9\n",
      "16/16 [==============================] - 1s 52ms/step - loss: 0.8479 - accuracy: 0.8205 - val_loss: 1.0374 - val_accuracy: 0.7810\n",
      "Epoch 5/9\n",
      "16/16 [==============================] - 1s 46ms/step - loss: 0.6738 - accuracy: 0.8587 - val_loss: 0.9779 - val_accuracy: 0.7900\n",
      "Epoch 6/9\n",
      "16/16 [==============================] - 1s 47ms/step - loss: 0.5375 - accuracy: 0.8908 - val_loss: 0.9280 - val_accuracy: 0.8110\n",
      "Epoch 7/9\n",
      "16/16 [==============================] - 1s 44ms/step - loss: 0.4191 - accuracy: 0.9189 - val_loss: 0.8925 - val_accuracy: 0.8240\n",
      "Epoch 8/9\n",
      "16/16 [==============================] - 1s 49ms/step - loss: 0.3437 - accuracy: 0.9337 - val_loss: 0.9360 - val_accuracy: 0.8140\n",
      "Epoch 9/9\n",
      "16/16 [==============================] - 1s 54ms/step - loss: 0.2871 - accuracy: 0.9409 - val_loss: 0.8880 - val_accuracy: 0.8190\n",
      "Wall time: 8.33 s\n"
     ]
    }
   ],
   "source": [
    "%%time\n",
    "\n",
    "model2 = models.Sequential()\n",
    "model2.add(layers.Dense(64, activation = 'relu', input_shape = (X_train.shape[1],)))\n",
    "model2.add(layers.Dense(64, activation = 'relu'))\n",
    "model2.add(layers.Dense(y_train.shape[1], activation = 'softmax'))\n",
    "model2.compile(optimizer = 'rmsprop',\n",
    "              loss = 'categorical_crossentropy',\n",
    "              metrics = ['accuracy'])\n",
    "\n",
    "history2 = model2.fit(partial_X_train,\n",
    "                     partial_y_train,\n",
    "                     epochs = 9,\n",
    "                     batch_size = 512,\n",
    "                     validation_data = (X_val, y_val))"
   ]
  },
  {
   "cell_type": "code",
   "execution_count": 88,
   "metadata": {},
   "outputs": [
    {
     "name": "stdout",
     "output_type": "stream",
     "text": [
      "71/71 [==============================] - 0s 3ms/step - loss: 0.9584 - accuracy: 0.7898\n"
     ]
    },
    {
     "data": {
      "text/plain": [
       "[0.9583823084831238, 0.7898486256599426]"
      ]
     },
     "execution_count": 88,
     "metadata": {},
     "output_type": "execute_result"
    }
   ],
   "source": [
    "results = model2.evaluate(X_test, y_test)\n",
    "results"
   ]
  },
  {
   "cell_type": "code",
   "execution_count": 94,
   "metadata": {},
   "outputs": [
    {
     "data": {
      "text/plain": [
       "3"
      ]
     },
     "execution_count": 94,
     "metadata": {},
     "output_type": "execute_result"
    }
   ],
   "source": [
    "np.argmax(model2.predict(X_test)[0])"
   ]
  }
 ],
 "metadata": {
  "kernelspec": {
   "display_name": "Python 3",
   "language": "python",
   "name": "python3"
  },
  "language_info": {
   "codemirror_mode": {
    "name": "ipython",
    "version": 3
   },
   "file_extension": ".py",
   "mimetype": "text/x-python",
   "name": "python",
   "nbconvert_exporter": "python",
   "pygments_lexer": "ipython3",
   "version": "3.8.3"
  }
 },
 "nbformat": 4,
 "nbformat_minor": 4
}
